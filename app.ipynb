{
 "cells": [
  {
   "cell_type": "code",
   "execution_count": 658,
   "metadata": {},
   "outputs": [],
   "source": [
    "import pymysql\n",
    "import snscrape.modules.twitter as sntwitter\n",
    "import pandas as pd\n",
    "from sqlalchemy import create_engine\n",
    "from collections import Counter\n",
    "from nltk.corpus import stopwords\n",
    "from nltk.stem.snowball import SnowballStemmer\n",
    "import plotly.graph_objects as go\n",
    "from wordcloud import STOPWORDS\n",
    "from collections import defaultdict\n",
    "import plotly.offline as py\n",
    "import numpy as np\n",
    "import seaborn as sns\n",
    "import matplotlib.pyplot as plt\n",
    "import pickle\n",
    "from sklearn.feature_extraction.text import CountVectorizer\n",
    "import plotly.express as px"
   ]
  },
  {
   "cell_type": "code",
   "execution_count": 659,
   "metadata": {},
   "outputs": [
    {
     "name": "stderr",
     "output_type": "stream",
     "text": [
      "/var/folders/fh/hxrrvrn15b5_v0bjv8nbpw2w0000gp/T/ipykernel_17625/1073248621.py:14: DeprecatedFeatureWarning:\n",
      "\n",
      "content is deprecated, use rawContent instead\n",
      "\n"
     ]
    },
    {
     "data": {
      "text/html": [
       "<div>\n",
       "<style scoped>\n",
       "    .dataframe tbody tr th:only-of-type {\n",
       "        vertical-align: middle;\n",
       "    }\n",
       "\n",
       "    .dataframe tbody tr th {\n",
       "        vertical-align: top;\n",
       "    }\n",
       "\n",
       "    .dataframe thead th {\n",
       "        text-align: right;\n",
       "    }\n",
       "</style>\n",
       "<table border=\"1\" class=\"dataframe\">\n",
       "  <thead>\n",
       "    <tr style=\"text-align: right;\">\n",
       "      <th></th>\n",
       "      <th>Id del mensaje</th>\n",
       "      <th>Tweets</th>\n",
       "      <th>Fecha del tweet</th>\n",
       "      <th>Id del autor</th>\n",
       "      <th>Nombre del autor</th>\n",
       "      <th>Nombre de usuario</th>\n",
       "      <th>Respuestas</th>\n",
       "      <th>Retweets</th>\n",
       "      <th>Likes</th>\n",
       "      <th>Citas</th>\n",
       "    </tr>\n",
       "  </thead>\n",
       "  <tbody>\n",
       "    <tr>\n",
       "      <th>0</th>\n",
       "      <td>1632692123412594688</td>\n",
       "      <td>Las inscripciones se realizarán por Eventbrite...</td>\n",
       "      <td>2023-03-06 10:38:30+00:00</td>\n",
       "      <td>1585726199485140993</td>\n",
       "      <td>https://twitter.com/ESOLIUPO</td>\n",
       "      <td>ESOLIUPO</td>\n",
       "      <td>0</td>\n",
       "      <td>0</td>\n",
       "      <td>0</td>\n",
       "      <td>0</td>\n",
       "    </tr>\n",
       "    <tr>\n",
       "      <th>1</th>\n",
       "      <td>1632692120719859712</td>\n",
       "      <td>¡Por fin podemos publicar el cartel con los po...</td>\n",
       "      <td>2023-03-06 10:38:30+00:00</td>\n",
       "      <td>1585726199485140993</td>\n",
       "      <td>https://twitter.com/ESOLIUPO</td>\n",
       "      <td>ESOLIUPO</td>\n",
       "      <td>1</td>\n",
       "      <td>3</td>\n",
       "      <td>5</td>\n",
       "      <td>1</td>\n",
       "    </tr>\n",
       "    <tr>\n",
       "      <th>2</th>\n",
       "      <td>1632664546665025536</td>\n",
       "      <td>Encuentro de la @mlopscommunity en Madrid: \"ML...</td>\n",
       "      <td>2023-03-06 08:48:56+00:00</td>\n",
       "      <td>41545659</td>\n",
       "      <td>https://twitter.com/nodosenlared</td>\n",
       "      <td>nodosenlared</td>\n",
       "      <td>0</td>\n",
       "      <td>1</td>\n",
       "      <td>3</td>\n",
       "      <td>0</td>\n",
       "    </tr>\n",
       "    <tr>\n",
       "      <th>3</th>\n",
       "      <td>1632147141224275970</td>\n",
       "      <td>@nodosenlared @snowded @TheBridge_Tech Muy bue...</td>\n",
       "      <td>2023-03-04 22:32:56+00:00</td>\n",
       "      <td>925597948410580993</td>\n",
       "      <td>https://twitter.com/RoccoLozano</td>\n",
       "      <td>RoccoLozano</td>\n",
       "      <td>0</td>\n",
       "      <td>0</td>\n",
       "      <td>1</td>\n",
       "      <td>0</td>\n",
       "    </tr>\n",
       "    <tr>\n",
       "      <th>4</th>\n",
       "      <td>1632020293509083137</td>\n",
       "      <td>@PauMugarra @ToniDorta @TheBridge_Tech https:/...</td>\n",
       "      <td>2023-03-04 14:08:54+00:00</td>\n",
       "      <td>276656109</td>\n",
       "      <td>https://twitter.com/joobid</td>\n",
       "      <td>joobid</td>\n",
       "      <td>0</td>\n",
       "      <td>0</td>\n",
       "      <td>2</td>\n",
       "      <td>0</td>\n",
       "    </tr>\n",
       "  </tbody>\n",
       "</table>\n",
       "</div>"
      ],
      "text/plain": [
       "        Id del mensaje                                             Tweets  \\\n",
       "0  1632692123412594688  Las inscripciones se realizarán por Eventbrite...   \n",
       "1  1632692120719859712  ¡Por fin podemos publicar el cartel con los po...   \n",
       "2  1632664546665025536  Encuentro de la @mlopscommunity en Madrid: \"ML...   \n",
       "3  1632147141224275970  @nodosenlared @snowded @TheBridge_Tech Muy bue...   \n",
       "4  1632020293509083137  @PauMugarra @ToniDorta @TheBridge_Tech https:/...   \n",
       "\n",
       "            Fecha del tweet         Id del autor  \\\n",
       "0 2023-03-06 10:38:30+00:00  1585726199485140993   \n",
       "1 2023-03-06 10:38:30+00:00  1585726199485140993   \n",
       "2 2023-03-06 08:48:56+00:00             41545659   \n",
       "3 2023-03-04 22:32:56+00:00   925597948410580993   \n",
       "4 2023-03-04 14:08:54+00:00            276656109   \n",
       "\n",
       "                   Nombre del autor Nombre de usuario  Respuestas  Retweets  \\\n",
       "0      https://twitter.com/ESOLIUPO          ESOLIUPO           0         0   \n",
       "1      https://twitter.com/ESOLIUPO          ESOLIUPO           1         3   \n",
       "2  https://twitter.com/nodosenlared      nodosenlared           0         1   \n",
       "3   https://twitter.com/RoccoLozano       RoccoLozano           0         0   \n",
       "4        https://twitter.com/joobid            joobid           0         0   \n",
       "\n",
       "   Likes  Citas  \n",
       "0      0      0  \n",
       "1      5      1  \n",
       "2      3      0  \n",
       "3      1      0  \n",
       "4      2      0  "
      ]
     },
     "execution_count": 659,
     "metadata": {},
     "output_type": "execute_result"
    }
   ],
   "source": [
    "# Collect all the tweets fromo November to March 2023, which tags @ThebridgeTech\n",
    "\n",
    "query = '-from:TheBridge_Tech(@TheBridge_Tech) until:2023-03-07 since:2022-11-21'\n",
    "tweets = []\n",
    "limit = 500\n",
    "\n",
    "for tweet in sntwitter.TwitterSearchScraper(query).get_items():\n",
    "\n",
    "    #print(vars(tweet))\n",
    "    #break\n",
    "    if len(tweets) == limit :\n",
    "        break\n",
    "    else:\n",
    "        tweets.append([tweet.id, tweet.content, tweet.date, tweet.user.id, tweet.user, tweet.user.username, tweet.replyCount, tweet.retweetCount, tweet.likeCount, tweet.quoteCount])\n",
    "\n",
    "df = pd.DataFrame(tweets, columns=['Id del mensaje', 'Tweets', 'Fecha del tweet', 'Id del autor', 'Nombre del autor', 'Nombre de usuario', 'Respuestas', 'Retweets', 'Likes', 'Citas'])\n",
    "df.head()"
   ]
  },
  {
   "cell_type": "code",
   "execution_count": 660,
   "metadata": {},
   "outputs": [],
   "source": [
    "df.to_csv('src/data/Twitter.csv', index=False)"
   ]
  },
  {
   "cell_type": "code",
   "execution_count": 661,
   "metadata": {},
   "outputs": [
    {
     "name": "stdout",
     "output_type": "stream",
     "text": [
      "<class 'pandas.core.frame.DataFrame'>\n",
      "RangeIndex: 128 entries, 0 to 127\n",
      "Data columns (total 10 columns):\n",
      " #   Column             Non-Null Count  Dtype              \n",
      "---  ------             --------------  -----              \n",
      " 0   Id del mensaje     128 non-null    int64              \n",
      " 1   Tweets             128 non-null    object             \n",
      " 2   Fecha del tweet    128 non-null    datetime64[ns, UTC]\n",
      " 3   Id del autor       128 non-null    int64              \n",
      " 4   Nombre del autor   128 non-null    object             \n",
      " 5   Nombre de usuario  128 non-null    object             \n",
      " 6   Respuestas         128 non-null    int64              \n",
      " 7   Retweets           128 non-null    int64              \n",
      " 8   Likes              128 non-null    int64              \n",
      " 9   Citas              128 non-null    int64              \n",
      "dtypes: datetime64[ns, UTC](1), int64(6), object(3)\n",
      "memory usage: 10.1+ KB\n"
     ]
    }
   ],
   "source": [
    "df.info()"
   ]
  },
  {
   "attachments": {},
   "cell_type": "markdown",
   "metadata": {},
   "source": [
    "# DATA ANALYSIS"
   ]
  },
  {
   "cell_type": "code",
   "execution_count": 662,
   "metadata": {},
   "outputs": [],
   "source": [
    "# Sum all important metrics \n",
    "df['Engagement'] = df.apply(lambda row: row[-4:].sum(),axis=1)\n",
    "\n",
    "# Split the date\n",
    "\n",
    "df['new_date'] = [d.date() for d in df['Fecha del tweet']]\n",
    "df['new_time'] = [d.time() for d in df['Fecha del tweet']]\n",
    "\n",
    "# Let's get advantage of hours, days and months\n",
    "df['hour'] = [d.hour for d in df['new_time']]\n",
    "df['month'] = [d.month for d in df['new_date']]\n",
    "df['day'] = [d.strftime('%A') for d in df['new_date']]\n"
   ]
  },
  {
   "attachments": {},
   "cell_type": "markdown",
   "metadata": {},
   "source": [
    "1. Which is the most engagement tweet ?"
   ]
  },
  {
   "cell_type": "code",
   "execution_count": 663,
   "metadata": {},
   "outputs": [
    {
     "data": {
      "text/html": [
       "<div>\n",
       "<style scoped>\n",
       "    .dataframe tbody tr th:only-of-type {\n",
       "        vertical-align: middle;\n",
       "    }\n",
       "\n",
       "    .dataframe tbody tr th {\n",
       "        vertical-align: top;\n",
       "    }\n",
       "\n",
       "    .dataframe thead th {\n",
       "        text-align: right;\n",
       "    }\n",
       "</style>\n",
       "<table border=\"1\" class=\"dataframe\">\n",
       "  <thead>\n",
       "    <tr style=\"text-align: right;\">\n",
       "      <th></th>\n",
       "      <th>Nombre de usuario</th>\n",
       "      <th>Tweets</th>\n",
       "      <th>Engagement</th>\n",
       "    </tr>\n",
       "  </thead>\n",
       "  <tbody>\n",
       "    <tr>\n",
       "      <th>65</th>\n",
       "      <td>nodosenlared</td>\n",
       "      <td>Advanced #Cynefin, Estuarine mapping &amp;amp; EUF...</td>\n",
       "      <td>385</td>\n",
       "    </tr>\n",
       "    <tr>\n",
       "      <th>60</th>\n",
       "      <td>Recuenco</td>\n",
       "      <td>En plena meet-up de CPS en @TheBridge_Tech con...</td>\n",
       "      <td>43</td>\n",
       "    </tr>\n",
       "    <tr>\n",
       "      <th>10</th>\n",
       "      <td>decentralized_b</td>\n",
       "      <td>Este 14 de Marzo hay meetup en Madrid de @Bitc...</td>\n",
       "      <td>35</td>\n",
       "    </tr>\n",
       "    <tr>\n",
       "      <th>7</th>\n",
       "      <td>decentralized_b</td>\n",
       "      <td>Ya esta publicado el meetup de @BitcoinTuesday...</td>\n",
       "      <td>16</td>\n",
       "    </tr>\n",
       "    <tr>\n",
       "      <th>14</th>\n",
       "      <td>42UrdulizFTef</td>\n",
       "      <td>.@EstiLeon, Responsable del campus #42UrdulizF...</td>\n",
       "      <td>16</td>\n",
       "    </tr>\n",
       "    <tr>\n",
       "      <th>64</th>\n",
       "      <td>nodosenlared</td>\n",
       "      <td>@snowded @TheBridge_Tech Se trata de un taller...</td>\n",
       "      <td>16</td>\n",
       "    </tr>\n",
       "    <tr>\n",
       "      <th>5</th>\n",
       "      <td>PauMugarra</td>\n",
       "      <td>El meetup del jueves 9 de marzo con @ToniDorta...</td>\n",
       "      <td>14</td>\n",
       "    </tr>\n",
       "    <tr>\n",
       "      <th>104</th>\n",
       "      <td>Infolagun</td>\n",
       "      <td>Open Day #Bilbao para conocer un #bootcam\\n🗓️ ...</td>\n",
       "      <td>14</td>\n",
       "    </tr>\n",
       "    <tr>\n",
       "      <th>43</th>\n",
       "      <td>42UrdulizFTef</td>\n",
       "      <td>💥 Llega la @globalgamejam , a #42UrdulizFTef, ...</td>\n",
       "      <td>13</td>\n",
       "    </tr>\n",
       "    <tr>\n",
       "      <th>17</th>\n",
       "      <td>BitcoinTuesday_</td>\n",
       "      <td>Gracias a nuestros amigos @TheBridge_Tech por ...</td>\n",
       "      <td>13</td>\n",
       "    </tr>\n",
       "    <tr>\n",
       "      <th>105</th>\n",
       "      <td>BBK_eus</td>\n",
       "      <td>#BBKBootcamps | 🗣 Guillermo Dorronso, Manageme...</td>\n",
       "      <td>11</td>\n",
       "    </tr>\n",
       "    <tr>\n",
       "      <th>100</th>\n",
       "      <td>jorgegrev</td>\n",
       "      <td>Esta tarde a las 18:30 tenemos la presentación...</td>\n",
       "      <td>10</td>\n",
       "    </tr>\n",
       "    <tr>\n",
       "      <th>1</th>\n",
       "      <td>ESOLIUPO</td>\n",
       "      <td>¡Por fin podemos publicar el cartel con los po...</td>\n",
       "      <td>10</td>\n",
       "    </tr>\n",
       "    <tr>\n",
       "      <th>122</th>\n",
       "      <td>jorgegrev</td>\n",
       "      <td>☕ Miércoles 30 NOV 9:00 @BAT_Tower Desayuno: L...</td>\n",
       "      <td>10</td>\n",
       "    </tr>\n",
       "    <tr>\n",
       "      <th>27</th>\n",
       "      <td>jorgegrev</td>\n",
       "      <td>HOY a las 18:30 en @BBK_Kuna \\n\\n🧠🤖 Masterclas...</td>\n",
       "      <td>10</td>\n",
       "    </tr>\n",
       "  </tbody>\n",
       "</table>\n",
       "</div>"
      ],
      "text/plain": [
       "    Nombre de usuario                                             Tweets  \\\n",
       "65       nodosenlared  Advanced #Cynefin, Estuarine mapping &amp; EUF...   \n",
       "60           Recuenco  En plena meet-up de CPS en @TheBridge_Tech con...   \n",
       "10    decentralized_b  Este 14 de Marzo hay meetup en Madrid de @Bitc...   \n",
       "7     decentralized_b  Ya esta publicado el meetup de @BitcoinTuesday...   \n",
       "14      42UrdulizFTef  .@EstiLeon, Responsable del campus #42UrdulizF...   \n",
       "64       nodosenlared  @snowded @TheBridge_Tech Se trata de un taller...   \n",
       "5          PauMugarra  El meetup del jueves 9 de marzo con @ToniDorta...   \n",
       "104         Infolagun  Open Day #Bilbao para conocer un #bootcam\\n🗓️ ...   \n",
       "43      42UrdulizFTef  💥 Llega la @globalgamejam , a #42UrdulizFTef, ...   \n",
       "17    BitcoinTuesday_  Gracias a nuestros amigos @TheBridge_Tech por ...   \n",
       "105           BBK_eus  #BBKBootcamps | 🗣 Guillermo Dorronso, Manageme...   \n",
       "100         jorgegrev  Esta tarde a las 18:30 tenemos la presentación...   \n",
       "1            ESOLIUPO  ¡Por fin podemos publicar el cartel con los po...   \n",
       "122         jorgegrev  ☕ Miércoles 30 NOV 9:00 @BAT_Tower Desayuno: L...   \n",
       "27          jorgegrev  HOY a las 18:30 en @BBK_Kuna \\n\\n🧠🤖 Masterclas...   \n",
       "\n",
       "     Engagement  \n",
       "65          385  \n",
       "60           43  \n",
       "10           35  \n",
       "7            16  \n",
       "14           16  \n",
       "64           16  \n",
       "5            14  \n",
       "104          14  \n",
       "43           13  \n",
       "17           13  \n",
       "105          11  \n",
       "100          10  \n",
       "1            10  \n",
       "122          10  \n",
       "27           10  "
      ]
     },
     "execution_count": 663,
     "metadata": {},
     "output_type": "execute_result"
    }
   ],
   "source": [
    "# Let's show how is the engagement\n",
    "\n",
    "engagement = df[['Nombre de usuario','Tweets','Engagement']].sort_values('Engagement' , ascending=False)[:15]\n",
    "engagement"
   ]
  },
  {
   "cell_type": "code",
   "execution_count": 664,
   "metadata": {},
   "outputs": [
    {
     "data": {
      "application/vnd.plotly.v1+json": {
       "config": {
        "plotlyServerURL": "https://plot.ly"
       },
       "data": [
        {
         "alignmentgroup": "True",
         "hovertemplate": "Nombre de usuario=%{x}<br>Engagement=%{text}<extra></extra>",
         "legendgroup": "",
         "marker": {
          "color": "#636efa",
          "pattern": {
           "shape": ""
          }
         },
         "name": "",
         "offsetgroup": "",
         "orientation": "v",
         "showlegend": false,
         "text": [
          385,
          43,
          35,
          16,
          16,
          16,
          14,
          14,
          13,
          13,
          11,
          10,
          10,
          10,
          10
         ],
         "textposition": "auto",
         "type": "bar",
         "x": [
          "nodosenlared",
          "Recuenco",
          "decentralized_b",
          "decentralized_b",
          "42UrdulizFTef",
          "nodosenlared",
          "PauMugarra",
          "Infolagun",
          "42UrdulizFTef",
          "BitcoinTuesday_",
          "BBK_eus",
          "jorgegrev",
          "ESOLIUPO",
          "jorgegrev",
          "jorgegrev"
         ],
         "xaxis": "x",
         "y": [
          385,
          43,
          35,
          16,
          16,
          16,
          14,
          14,
          13,
          13,
          11,
          10,
          10,
          10,
          10
         ],
         "yaxis": "y"
        }
       ],
       "layout": {
        "barmode": "relative",
        "legend": {
         "tracegroupgap": 0
        },
        "template": {
         "data": {
          "bar": [
           {
            "error_x": {
             "color": "#2a3f5f"
            },
            "error_y": {
             "color": "#2a3f5f"
            },
            "marker": {
             "line": {
              "color": "#E5ECF6",
              "width": 0.5
             },
             "pattern": {
              "fillmode": "overlay",
              "size": 10,
              "solidity": 0.2
             }
            },
            "type": "bar"
           }
          ],
          "barpolar": [
           {
            "marker": {
             "line": {
              "color": "#E5ECF6",
              "width": 0.5
             },
             "pattern": {
              "fillmode": "overlay",
              "size": 10,
              "solidity": 0.2
             }
            },
            "type": "barpolar"
           }
          ],
          "carpet": [
           {
            "aaxis": {
             "endlinecolor": "#2a3f5f",
             "gridcolor": "white",
             "linecolor": "white",
             "minorgridcolor": "white",
             "startlinecolor": "#2a3f5f"
            },
            "baxis": {
             "endlinecolor": "#2a3f5f",
             "gridcolor": "white",
             "linecolor": "white",
             "minorgridcolor": "white",
             "startlinecolor": "#2a3f5f"
            },
            "type": "carpet"
           }
          ],
          "choropleth": [
           {
            "colorbar": {
             "outlinewidth": 0,
             "ticks": ""
            },
            "type": "choropleth"
           }
          ],
          "contour": [
           {
            "colorbar": {
             "outlinewidth": 0,
             "ticks": ""
            },
            "colorscale": [
             [
              0,
              "#0d0887"
             ],
             [
              0.1111111111111111,
              "#46039f"
             ],
             [
              0.2222222222222222,
              "#7201a8"
             ],
             [
              0.3333333333333333,
              "#9c179e"
             ],
             [
              0.4444444444444444,
              "#bd3786"
             ],
             [
              0.5555555555555556,
              "#d8576b"
             ],
             [
              0.6666666666666666,
              "#ed7953"
             ],
             [
              0.7777777777777778,
              "#fb9f3a"
             ],
             [
              0.8888888888888888,
              "#fdca26"
             ],
             [
              1,
              "#f0f921"
             ]
            ],
            "type": "contour"
           }
          ],
          "contourcarpet": [
           {
            "colorbar": {
             "outlinewidth": 0,
             "ticks": ""
            },
            "type": "contourcarpet"
           }
          ],
          "heatmap": [
           {
            "colorbar": {
             "outlinewidth": 0,
             "ticks": ""
            },
            "colorscale": [
             [
              0,
              "#0d0887"
             ],
             [
              0.1111111111111111,
              "#46039f"
             ],
             [
              0.2222222222222222,
              "#7201a8"
             ],
             [
              0.3333333333333333,
              "#9c179e"
             ],
             [
              0.4444444444444444,
              "#bd3786"
             ],
             [
              0.5555555555555556,
              "#d8576b"
             ],
             [
              0.6666666666666666,
              "#ed7953"
             ],
             [
              0.7777777777777778,
              "#fb9f3a"
             ],
             [
              0.8888888888888888,
              "#fdca26"
             ],
             [
              1,
              "#f0f921"
             ]
            ],
            "type": "heatmap"
           }
          ],
          "heatmapgl": [
           {
            "colorbar": {
             "outlinewidth": 0,
             "ticks": ""
            },
            "colorscale": [
             [
              0,
              "#0d0887"
             ],
             [
              0.1111111111111111,
              "#46039f"
             ],
             [
              0.2222222222222222,
              "#7201a8"
             ],
             [
              0.3333333333333333,
              "#9c179e"
             ],
             [
              0.4444444444444444,
              "#bd3786"
             ],
             [
              0.5555555555555556,
              "#d8576b"
             ],
             [
              0.6666666666666666,
              "#ed7953"
             ],
             [
              0.7777777777777778,
              "#fb9f3a"
             ],
             [
              0.8888888888888888,
              "#fdca26"
             ],
             [
              1,
              "#f0f921"
             ]
            ],
            "type": "heatmapgl"
           }
          ],
          "histogram": [
           {
            "marker": {
             "pattern": {
              "fillmode": "overlay",
              "size": 10,
              "solidity": 0.2
             }
            },
            "type": "histogram"
           }
          ],
          "histogram2d": [
           {
            "colorbar": {
             "outlinewidth": 0,
             "ticks": ""
            },
            "colorscale": [
             [
              0,
              "#0d0887"
             ],
             [
              0.1111111111111111,
              "#46039f"
             ],
             [
              0.2222222222222222,
              "#7201a8"
             ],
             [
              0.3333333333333333,
              "#9c179e"
             ],
             [
              0.4444444444444444,
              "#bd3786"
             ],
             [
              0.5555555555555556,
              "#d8576b"
             ],
             [
              0.6666666666666666,
              "#ed7953"
             ],
             [
              0.7777777777777778,
              "#fb9f3a"
             ],
             [
              0.8888888888888888,
              "#fdca26"
             ],
             [
              1,
              "#f0f921"
             ]
            ],
            "type": "histogram2d"
           }
          ],
          "histogram2dcontour": [
           {
            "colorbar": {
             "outlinewidth": 0,
             "ticks": ""
            },
            "colorscale": [
             [
              0,
              "#0d0887"
             ],
             [
              0.1111111111111111,
              "#46039f"
             ],
             [
              0.2222222222222222,
              "#7201a8"
             ],
             [
              0.3333333333333333,
              "#9c179e"
             ],
             [
              0.4444444444444444,
              "#bd3786"
             ],
             [
              0.5555555555555556,
              "#d8576b"
             ],
             [
              0.6666666666666666,
              "#ed7953"
             ],
             [
              0.7777777777777778,
              "#fb9f3a"
             ],
             [
              0.8888888888888888,
              "#fdca26"
             ],
             [
              1,
              "#f0f921"
             ]
            ],
            "type": "histogram2dcontour"
           }
          ],
          "mesh3d": [
           {
            "colorbar": {
             "outlinewidth": 0,
             "ticks": ""
            },
            "type": "mesh3d"
           }
          ],
          "parcoords": [
           {
            "line": {
             "colorbar": {
              "outlinewidth": 0,
              "ticks": ""
             }
            },
            "type": "parcoords"
           }
          ],
          "pie": [
           {
            "automargin": true,
            "type": "pie"
           }
          ],
          "scatter": [
           {
            "fillpattern": {
             "fillmode": "overlay",
             "size": 10,
             "solidity": 0.2
            },
            "type": "scatter"
           }
          ],
          "scatter3d": [
           {
            "line": {
             "colorbar": {
              "outlinewidth": 0,
              "ticks": ""
             }
            },
            "marker": {
             "colorbar": {
              "outlinewidth": 0,
              "ticks": ""
             }
            },
            "type": "scatter3d"
           }
          ],
          "scattercarpet": [
           {
            "marker": {
             "colorbar": {
              "outlinewidth": 0,
              "ticks": ""
             }
            },
            "type": "scattercarpet"
           }
          ],
          "scattergeo": [
           {
            "marker": {
             "colorbar": {
              "outlinewidth": 0,
              "ticks": ""
             }
            },
            "type": "scattergeo"
           }
          ],
          "scattergl": [
           {
            "marker": {
             "colorbar": {
              "outlinewidth": 0,
              "ticks": ""
             }
            },
            "type": "scattergl"
           }
          ],
          "scattermapbox": [
           {
            "marker": {
             "colorbar": {
              "outlinewidth": 0,
              "ticks": ""
             }
            },
            "type": "scattermapbox"
           }
          ],
          "scatterpolar": [
           {
            "marker": {
             "colorbar": {
              "outlinewidth": 0,
              "ticks": ""
             }
            },
            "type": "scatterpolar"
           }
          ],
          "scatterpolargl": [
           {
            "marker": {
             "colorbar": {
              "outlinewidth": 0,
              "ticks": ""
             }
            },
            "type": "scatterpolargl"
           }
          ],
          "scatterternary": [
           {
            "marker": {
             "colorbar": {
              "outlinewidth": 0,
              "ticks": ""
             }
            },
            "type": "scatterternary"
           }
          ],
          "surface": [
           {
            "colorbar": {
             "outlinewidth": 0,
             "ticks": ""
            },
            "colorscale": [
             [
              0,
              "#0d0887"
             ],
             [
              0.1111111111111111,
              "#46039f"
             ],
             [
              0.2222222222222222,
              "#7201a8"
             ],
             [
              0.3333333333333333,
              "#9c179e"
             ],
             [
              0.4444444444444444,
              "#bd3786"
             ],
             [
              0.5555555555555556,
              "#d8576b"
             ],
             [
              0.6666666666666666,
              "#ed7953"
             ],
             [
              0.7777777777777778,
              "#fb9f3a"
             ],
             [
              0.8888888888888888,
              "#fdca26"
             ],
             [
              1,
              "#f0f921"
             ]
            ],
            "type": "surface"
           }
          ],
          "table": [
           {
            "cells": {
             "fill": {
              "color": "#EBF0F8"
             },
             "line": {
              "color": "white"
             }
            },
            "header": {
             "fill": {
              "color": "#C8D4E3"
             },
             "line": {
              "color": "white"
             }
            },
            "type": "table"
           }
          ]
         },
         "layout": {
          "annotationdefaults": {
           "arrowcolor": "#2a3f5f",
           "arrowhead": 0,
           "arrowwidth": 1
          },
          "autotypenumbers": "strict",
          "coloraxis": {
           "colorbar": {
            "outlinewidth": 0,
            "ticks": ""
           }
          },
          "colorscale": {
           "diverging": [
            [
             0,
             "#8e0152"
            ],
            [
             0.1,
             "#c51b7d"
            ],
            [
             0.2,
             "#de77ae"
            ],
            [
             0.3,
             "#f1b6da"
            ],
            [
             0.4,
             "#fde0ef"
            ],
            [
             0.5,
             "#f7f7f7"
            ],
            [
             0.6,
             "#e6f5d0"
            ],
            [
             0.7,
             "#b8e186"
            ],
            [
             0.8,
             "#7fbc41"
            ],
            [
             0.9,
             "#4d9221"
            ],
            [
             1,
             "#276419"
            ]
           ],
           "sequential": [
            [
             0,
             "#0d0887"
            ],
            [
             0.1111111111111111,
             "#46039f"
            ],
            [
             0.2222222222222222,
             "#7201a8"
            ],
            [
             0.3333333333333333,
             "#9c179e"
            ],
            [
             0.4444444444444444,
             "#bd3786"
            ],
            [
             0.5555555555555556,
             "#d8576b"
            ],
            [
             0.6666666666666666,
             "#ed7953"
            ],
            [
             0.7777777777777778,
             "#fb9f3a"
            ],
            [
             0.8888888888888888,
             "#fdca26"
            ],
            [
             1,
             "#f0f921"
            ]
           ],
           "sequentialminus": [
            [
             0,
             "#0d0887"
            ],
            [
             0.1111111111111111,
             "#46039f"
            ],
            [
             0.2222222222222222,
             "#7201a8"
            ],
            [
             0.3333333333333333,
             "#9c179e"
            ],
            [
             0.4444444444444444,
             "#bd3786"
            ],
            [
             0.5555555555555556,
             "#d8576b"
            ],
            [
             0.6666666666666666,
             "#ed7953"
            ],
            [
             0.7777777777777778,
             "#fb9f3a"
            ],
            [
             0.8888888888888888,
             "#fdca26"
            ],
            [
             1,
             "#f0f921"
            ]
           ]
          },
          "colorway": [
           "#636efa",
           "#EF553B",
           "#00cc96",
           "#ab63fa",
           "#FFA15A",
           "#19d3f3",
           "#FF6692",
           "#B6E880",
           "#FF97FF",
           "#FECB52"
          ],
          "font": {
           "color": "#2a3f5f"
          },
          "geo": {
           "bgcolor": "white",
           "lakecolor": "white",
           "landcolor": "#E5ECF6",
           "showlakes": true,
           "showland": true,
           "subunitcolor": "white"
          },
          "hoverlabel": {
           "align": "left"
          },
          "hovermode": "closest",
          "mapbox": {
           "style": "light"
          },
          "paper_bgcolor": "white",
          "plot_bgcolor": "#E5ECF6",
          "polar": {
           "angularaxis": {
            "gridcolor": "white",
            "linecolor": "white",
            "ticks": ""
           },
           "bgcolor": "#E5ECF6",
           "radialaxis": {
            "gridcolor": "white",
            "linecolor": "white",
            "ticks": ""
           }
          },
          "scene": {
           "xaxis": {
            "backgroundcolor": "#E5ECF6",
            "gridcolor": "white",
            "gridwidth": 2,
            "linecolor": "white",
            "showbackground": true,
            "ticks": "",
            "zerolinecolor": "white"
           },
           "yaxis": {
            "backgroundcolor": "#E5ECF6",
            "gridcolor": "white",
            "gridwidth": 2,
            "linecolor": "white",
            "showbackground": true,
            "ticks": "",
            "zerolinecolor": "white"
           },
           "zaxis": {
            "backgroundcolor": "#E5ECF6",
            "gridcolor": "white",
            "gridwidth": 2,
            "linecolor": "white",
            "showbackground": true,
            "ticks": "",
            "zerolinecolor": "white"
           }
          },
          "shapedefaults": {
           "line": {
            "color": "#2a3f5f"
           }
          },
          "ternary": {
           "aaxis": {
            "gridcolor": "white",
            "linecolor": "white",
            "ticks": ""
           },
           "baxis": {
            "gridcolor": "white",
            "linecolor": "white",
            "ticks": ""
           },
           "bgcolor": "#E5ECF6",
           "caxis": {
            "gridcolor": "white",
            "linecolor": "white",
            "ticks": ""
           }
          },
          "title": {
           "x": 0.05
          },
          "xaxis": {
           "automargin": true,
           "gridcolor": "white",
           "linecolor": "white",
           "ticks": "",
           "title": {
            "standoff": 15
           },
           "zerolinecolor": "white",
           "zerolinewidth": 2
          },
          "yaxis": {
           "automargin": true,
           "gridcolor": "white",
           "linecolor": "white",
           "ticks": "",
           "title": {
            "standoff": 15
           },
           "zerolinecolor": "white",
           "zerolinewidth": 2
          }
         }
        },
        "title": {
         "text": "Interaccion de los usuarios por tweet"
        },
        "xaxis": {
         "anchor": "y",
         "domain": [
          0,
          1
         ],
         "title": {
          "text": "Nombre de usuario"
         }
        },
        "yaxis": {
         "anchor": "x",
         "domain": [
          0,
          1
         ],
         "title": {
          "text": "Engagement"
         }
        }
       }
      }
     },
     "metadata": {},
     "output_type": "display_data"
    }
   ],
   "source": [
    "fig = px.bar(engagement, y='Engagement', x='Nombre de usuario',text=engagement['Engagement'],\n",
    "            title=\"Interaccion de los usuarios por tweet\")\n",
    "fig.show()\n"
   ]
  },
  {
   "cell_type": "code",
   "execution_count": 665,
   "metadata": {},
   "outputs": [
    {
     "data": {
      "image/png": "[encoded data removed]",
      "text/plain": [
       "<Figure size 640x480 with 1 Axes>"
      ]
     },
     "metadata": {},
     "output_type": "display_data"
    }
   ],
   "source": [
    "sns.barplot(x = engagement['Nombre de usuario'], y = engagement['Engagement'])\n",
    "plt.xticks(rotation = 45);"
   ]
  },
  {
   "attachments": {},
   "cell_type": "markdown",
   "metadata": {},
   "source": [
    "This is the author of the tweet with most engagement from the date checked"
   ]
  },
  {
   "attachments": {},
   "cell_type": "markdown",
   "metadata": {},
   "source": [
    "2. Let's see who is the user that most mentioned to The Bridge "
   ]
  },
  {
   "cell_type": "code",
   "execution_count": 666,
   "metadata": {},
   "outputs": [
    {
     "data": {
      "text/plain": [
       "Nombre de usuario\n",
       "BBK_eus            22\n",
       "jorgegrev          11\n",
       "EDEMempresarios     4\n",
       "Recuenco            4\n",
       "Godivaciones        4\n",
       "EditaOla            4\n",
       "PauMugarra          4\n",
       "BitcoinTuesday_     4\n",
       "Name: Nombre de usuario, dtype: int64"
      ]
     },
     "execution_count": 666,
     "metadata": {},
     "output_type": "execute_result"
    }
   ],
   "source": [
    "# Groupby with users  and count of times\n",
    "\n",
    "users = df.groupby('Nombre de usuario')['Nombre de usuario'].count(). sort_values(ascending=False).head(8)\n",
    "users"
   ]
  },
  {
   "cell_type": "code",
   "execution_count": 667,
   "metadata": {},
   "outputs": [
    {
     "data": {
      "application/vnd.plotly.v1+json": {
       "config": {
        "plotlyServerURL": "https://plot.ly"
       },
       "data": [
        {
         "alignmentgroup": "True",
         "hovertemplate": "index=%{x}<br>y=%{y}<br>text=%{text}<extra></extra>",
         "legendgroup": "",
         "marker": {
          "color": "#636efa",
          "pattern": {
           "shape": ""
          }
         },
         "name": "",
         "offsetgroup": "",
         "orientation": "v",
         "showlegend": false,
         "text": [
          22,
          11,
          4,
          4,
          4,
          4,
          4,
          4
         ],
         "textposition": "auto",
         "type": "bar",
         "x": [
          "BBK_eus",
          "jorgegrev",
          "EDEMempresarios",
          "Recuenco",
          "Godivaciones",
          "EditaOla",
          "PauMugarra",
          "BitcoinTuesday_"
         ],
         "xaxis": "x",
         "y": [
          22,
          11,
          4,
          4,
          4,
          4,
          4,
          4
         ],
         "yaxis": "y"
        }
       ],
       "layout": {
        "barmode": "relative",
        "legend": {
         "tracegroupgap": 0
        },
        "template": {
         "data": {
          "bar": [
           {
            "error_x": {
             "color": "#2a3f5f"
            },
            "error_y": {
             "color": "#2a3f5f"
            },
            "marker": {
             "line": {
              "color": "#E5ECF6",
              "width": 0.5
             },
             "pattern": {
              "fillmode": "overlay",
              "size": 10,
              "solidity": 0.2
             }
            },
            "type": "bar"
           }
          ],
          "barpolar": [
           {
            "marker": {
             "line": {
              "color": "#E5ECF6",
              "width": 0.5
             },
             "pattern": {
              "fillmode": "overlay",
              "size": 10,
              "solidity": 0.2
             }
            },
            "type": "barpolar"
           }
          ],
          "carpet": [
           {
            "aaxis": {
             "endlinecolor": "#2a3f5f",
             "gridcolor": "white",
             "linecolor": "white",
             "minorgridcolor": "white",
             "startlinecolor": "#2a3f5f"
            },
            "baxis": {
             "endlinecolor": "#2a3f5f",
             "gridcolor": "white",
             "linecolor": "white",
             "minorgridcolor": "white",
             "startlinecolor": "#2a3f5f"
            },
            "type": "carpet"
           }
          ],
          "choropleth": [
           {
            "colorbar": {
             "outlinewidth": 0,
             "ticks": ""
            },
            "type": "choropleth"
           }
          ],
          "contour": [
           {
            "colorbar": {
             "outlinewidth": 0,
             "ticks": ""
            },
            "colorscale": [
             [
              0,
              "#0d0887"
             ],
             [
              0.1111111111111111,
              "#46039f"
             ],
             [
              0.2222222222222222,
              "#7201a8"
             ],
             [
              0.3333333333333333,
              "#9c179e"
             ],
             [
              0.4444444444444444,
              "#bd3786"
             ],
             [
              0.5555555555555556,
              "#d8576b"
             ],
             [
              0.6666666666666666,
              "#ed7953"
             ],
             [
              0.7777777777777778,
              "#fb9f3a"
             ],
             [
              0.8888888888888888,
              "#fdca26"
             ],
             [
              1,
              "#f0f921"
             ]
            ],
            "type": "contour"
           }
          ],
          "contourcarpet": [
           {
            "colorbar": {
             "outlinewidth": 0,
             "ticks": ""
            },
            "type": "contourcarpet"
           }
          ],
          "heatmap": [
           {
            "colorbar": {
             "outlinewidth": 0,
             "ticks": ""
            },
            "colorscale": [
             [
              0,
              "#0d0887"
             ],
             [
              0.1111111111111111,
              "#46039f"
             ],
             [
              0.2222222222222222,
              "#7201a8"
             ],
             [
              0.3333333333333333,
              "#9c179e"
             ],
             [
              0.4444444444444444,
              "#bd3786"
             ],
             [
              0.5555555555555556,
              "#d8576b"
             ],
             [
              0.6666666666666666,
              "#ed7953"
             ],
             [
              0.7777777777777778,
              "#fb9f3a"
             ],
             [
              0.8888888888888888,
              "#fdca26"
             ],
             [
              1,
              "#f0f921"
             ]
            ],
            "type": "heatmap"
           }
          ],
          "heatmapgl": [
           {
            "colorbar": {
             "outlinewidth": 0,
             "ticks": ""
            },
            "colorscale": [
             [
              0,
              "#0d0887"
             ],
             [
              0.1111111111111111,
              "#46039f"
             ],
             [
              0.2222222222222222,
              "#7201a8"
             ],
             [
              0.3333333333333333,
              "#9c179e"
             ],
             [
              0.4444444444444444,
              "#bd3786"
             ],
             [
              0.5555555555555556,
              "#d8576b"
             ],
             [
              0.6666666666666666,
              "#ed7953"
             ],
             [
              0.7777777777777778,
              "#fb9f3a"
             ],
             [
              0.8888888888888888,
              "#fdca26"
             ],
             [
              1,
              "#f0f921"
             ]
            ],
            "type": "heatmapgl"
           }
          ],
          "histogram": [
           {
            "marker": {
             "pattern": {
              "fillmode": "overlay",
              "size": 10,
              "solidity": 0.2
             }
            },
            "type": "histogram"
           }
          ],
          "histogram2d": [
           {
            "colorbar": {
             "outlinewidth": 0,
             "ticks": ""
            },
            "colorscale": [
             [
              0,
              "#0d0887"
             ],
             [
              0.1111111111111111,
              "#46039f"
             ],
             [
              0.2222222222222222,
              "#7201a8"
             ],
             [
              0.3333333333333333,
              "#9c179e"
             ],
             [
              0.4444444444444444,
              "#bd3786"
             ],
             [
              0.5555555555555556,
              "#d8576b"
             ],
             [
              0.6666666666666666,
              "#ed7953"
             ],
             [
              0.7777777777777778,
              "#fb9f3a"
             ],
             [
              0.8888888888888888,
              "#fdca26"
             ],
             [
              1,
              "#f0f921"
             ]
            ],
            "type": "histogram2d"
           }
          ],
          "histogram2dcontour": [
           {
            "colorbar": {
             "outlinewidth": 0,
             "ticks": ""
            },
            "colorscale": [
             [
              0,
              "#0d0887"
             ],
             [
              0.1111111111111111,
              "#46039f"
             ],
             [
              0.2222222222222222,
              "#7201a8"
             ],
             [
              0.3333333333333333,
              "#9c179e"
             ],
             [
              0.4444444444444444,
              "#bd3786"
             ],
             [
              0.5555555555555556,
              "#d8576b"
             ],
             [
              0.6666666666666666,
              "#ed7953"
             ],
             [
              0.7777777777777778,
              "#fb9f3a"
             ],
             [
              0.8888888888888888,
              "#fdca26"
             ],
             [
              1,
              "#f0f921"
             ]
            ],
            "type": "histogram2dcontour"
           }
          ],
          "mesh3d": [
           {
            "colorbar": {
             "outlinewidth": 0,
             "ticks": ""
            },
            "type": "mesh3d"
           }
          ],
          "parcoords": [
           {
            "line": {
             "colorbar": {
              "outlinewidth": 0,
              "ticks": ""
             }
            },
            "type": "parcoords"
           }
          ],
          "pie": [
           {
            "automargin": true,
            "type": "pie"
           }
          ],
          "scatter": [
           {
            "fillpattern": {
             "fillmode": "overlay",
             "size": 10,
             "solidity": 0.2
            },
            "type": "scatter"
           }
          ],
          "scatter3d": [
           {
            "line": {
             "colorbar": {
              "outlinewidth": 0,
              "ticks": ""
             }
            },
            "marker": {
             "colorbar": {
              "outlinewidth": 0,
              "ticks": ""
             }
            },
            "type": "scatter3d"
           }
          ],
          "scattercarpet": [
           {
            "marker": {
             "colorbar": {
              "outlinewidth": 0,
              "ticks": ""
             }
            },
            "type": "scattercarpet"
           }
          ],
          "scattergeo": [
           {
            "marker": {
             "colorbar": {
              "outlinewidth": 0,
              "ticks": ""
             }
            },
            "type": "scattergeo"
           }
          ],
          "scattergl": [
           {
            "marker": {
             "colorbar": {
              "outlinewidth": 0,
              "ticks": ""
             }
            },
            "type": "scattergl"
           }
          ],
          "scattermapbox": [
           {
            "marker": {
             "colorbar": {
              "outlinewidth": 0,
              "ticks": ""
             }
            },
            "type": "scattermapbox"
           }
          ],
          "scatterpolar": [
           {
            "marker": {
             "colorbar": {
              "outlinewidth": 0,
              "ticks": ""
             }
            },
            "type": "scatterpolar"
           }
          ],
          "scatterpolargl": [
           {
            "marker": {
             "colorbar": {
              "outlinewidth": 0,
              "ticks": ""
             }
            },
            "type": "scatterpolargl"
           }
          ],
          "scatterternary": [
           {
            "marker": {
             "colorbar": {
              "outlinewidth": 0,
              "ticks": ""
             }
            },
            "type": "scatterternary"
           }
          ],
          "surface": [
           {
            "colorbar": {
             "outlinewidth": 0,
             "ticks": ""
            },
            "colorscale": [
             [
              0,
              "#0d0887"
             ],
             [
              0.1111111111111111,
              "#46039f"
             ],
             [
              0.2222222222222222,
              "#7201a8"
             ],
             [
              0.3333333333333333,
              "#9c179e"
             ],
             [
              0.4444444444444444,
              "#bd3786"
             ],
             [
              0.5555555555555556,
              "#d8576b"
             ],
             [
              0.6666666666666666,
              "#ed7953"
             ],
             [
              0.7777777777777778,
              "#fb9f3a"
             ],
             [
              0.8888888888888888,
              "#fdca26"
             ],
             [
              1,
              "#f0f921"
             ]
            ],
            "type": "surface"
           }
          ],
          "table": [
           {
            "cells": {
             "fill": {
              "color": "#EBF0F8"
             },
             "line": {
              "color": "white"
             }
            },
            "header": {
             "fill": {
              "color": "#C8D4E3"
             },
             "line": {
              "color": "white"
             }
            },
            "type": "table"
           }
          ]
         },
         "layout": {
          "annotationdefaults": {
           "arrowcolor": "#2a3f5f",
           "arrowhead": 0,
           "arrowwidth": 1
          },
          "autotypenumbers": "strict",
          "coloraxis": {
           "colorbar": {
            "outlinewidth": 0,
            "ticks": ""
           }
          },
          "colorscale": {
           "diverging": [
            [
             0,
             "#8e0152"
            ],
            [
             0.1,
             "#c51b7d"
            ],
            [
             0.2,
             "#de77ae"
            ],
            [
             0.3,
             "#f1b6da"
            ],
            [
             0.4,
             "#fde0ef"
            ],
            [
             0.5,
             "#f7f7f7"
            ],
            [
             0.6,
             "#e6f5d0"
            ],
            [
             0.7,
             "#b8e186"
            ],
            [
             0.8,
             "#7fbc41"
            ],
            [
             0.9,
             "#4d9221"
            ],
            [
             1,
             "#276419"
            ]
           ],
           "sequential": [
            [
             0,
             "#0d0887"
            ],
            [
             0.1111111111111111,
             "#46039f"
            ],
            [
             0.2222222222222222,
             "#7201a8"
            ],
            [
             0.3333333333333333,
             "#9c179e"
            ],
            [
             0.4444444444444444,
             "#bd3786"
            ],
            [
             0.5555555555555556,
             "#d8576b"
            ],
            [
             0.6666666666666666,
             "#ed7953"
            ],
            [
             0.7777777777777778,
             "#fb9f3a"
            ],
            [
             0.8888888888888888,
             "#fdca26"
            ],
            [
             1,
             "#f0f921"
            ]
           ],
           "sequentialminus": [
            [
             0,
             "#0d0887"
            ],
            [
             0.1111111111111111,
             "#46039f"
            ],
            [
             0.2222222222222222,
             "#7201a8"
            ],
            [
             0.3333333333333333,
             "#9c179e"
            ],
            [
             0.4444444444444444,
             "#bd3786"
            ],
            [
             0.5555555555555556,
             "#d8576b"
            ],
            [
             0.6666666666666666,
             "#ed7953"
            ],
            [
             0.7777777777777778,
             "#fb9f3a"
            ],
            [
             0.8888888888888888,
             "#fdca26"
            ],
            [
             1,
             "#f0f921"
            ]
           ]
          },
          "colorway": [
           "#636efa",
           "#EF553B",
           "#00cc96",
           "#ab63fa",
           "#FFA15A",
           "#19d3f3",
           "#FF6692",
           "#B6E880",
           "#FF97FF",
           "#FECB52"
          ],
          "font": {
           "color": "#2a3f5f"
          },
          "geo": {
           "bgcolor": "white",
           "lakecolor": "white",
           "landcolor": "#E5ECF6",
           "showlakes": true,
           "showland": true,
           "subunitcolor": "white"
          },
          "hoverlabel": {
           "align": "left"
          },
          "hovermode": "closest",
          "mapbox": {
           "style": "light"
          },
          "paper_bgcolor": "white",
          "plot_bgcolor": "#E5ECF6",
          "polar": {
           "angularaxis": {
            "gridcolor": "white",
            "linecolor": "white",
            "ticks": ""
           },
           "bgcolor": "#E5ECF6",
           "radialaxis": {
            "gridcolor": "white",
            "linecolor": "white",
            "ticks": ""
           }
          },
          "scene": {
           "xaxis": {
            "backgroundcolor": "#E5ECF6",
            "gridcolor": "white",
            "gridwidth": 2,
            "linecolor": "white",
            "showbackground": true,
            "ticks": "",
            "zerolinecolor": "white"
           },
           "yaxis": {
            "backgroundcolor": "#E5ECF6",
            "gridcolor": "white",
            "gridwidth": 2,
            "linecolor": "white",
            "showbackground": true,
            "ticks": "",
            "zerolinecolor": "white"
           },
           "zaxis": {
            "backgroundcolor": "#E5ECF6",
            "gridcolor": "white",
            "gridwidth": 2,
            "linecolor": "white",
            "showbackground": true,
            "ticks": "",
            "zerolinecolor": "white"
           }
          },
          "shapedefaults": {
           "line": {
            "color": "#2a3f5f"
           }
          },
          "ternary": {
           "aaxis": {
            "gridcolor": "white",
            "linecolor": "white",
            "ticks": ""
           },
           "baxis": {
            "gridcolor": "white",
            "linecolor": "white",
            "ticks": ""
           },
           "bgcolor": "#E5ECF6",
           "caxis": {
            "gridcolor": "white",
            "linecolor": "white",
            "ticks": ""
           }
          },
          "title": {
           "x": 0.05
          },
          "xaxis": {
           "automargin": true,
           "gridcolor": "white",
           "linecolor": "white",
           "ticks": "",
           "title": {
            "standoff": 15
           },
           "zerolinecolor": "white",
           "zerolinewidth": 2
          },
          "yaxis": {
           "automargin": true,
           "gridcolor": "white",
           "linecolor": "white",
           "ticks": "",
           "title": {
            "standoff": 15
           },
           "zerolinecolor": "white",
           "zerolinewidth": 2
          }
         }
        },
        "title": {
         "text": "Menciones a The Bridge"
        },
        "xaxis": {
         "anchor": "y",
         "domain": [
          0,
          1
         ],
         "title": {
          "text": "Users"
         }
        },
        "yaxis": {
         "anchor": "x",
         "domain": [
          0,
          1
         ],
         "title": {
          "text": "Menciones"
         }
        }
       }
      }
     },
     "metadata": {},
     "output_type": "display_data"
    }
   ],
   "source": [
    "fig = px.bar(users,x = users.index,y = users.values,text=users.values,\n",
    "            title=\"Menciones a The Bridge\")\n",
    "fig.update_xaxes(title = 'Users')\n",
    "fig.update_yaxes(title = 'Menciones')\n",
    "fig.show()"
   ]
  },
  {
   "attachments": {},
   "cell_type": "markdown",
   "metadata": {},
   "source": [
    "As we can see the top 5 is handle by itself , BBK and active user as jorgegrev, who is the most active in this period."
   ]
  },
  {
   "attachments": {},
   "cell_type": "markdown",
   "metadata": {},
   "source": [
    "3. Let's see which month is the most activity"
   ]
  },
  {
   "cell_type": "code",
   "execution_count": 668,
   "metadata": {},
   "outputs": [
    {
     "data": {
      "text/plain": [
       "month\n",
       "1     49\n",
       "11    27\n",
       "12    23\n",
       "2     17\n",
       "3     12\n",
       "Name: month, dtype: int64"
      ]
     },
     "execution_count": 668,
     "metadata": {},
     "output_type": "execute_result"
    }
   ],
   "source": [
    "# Groupby with the most important month talking about tweets\n",
    "month = df.groupby('month')['month'].count().sort_values(ascending=False)\n",
    "month"
   ]
  },
  {
   "cell_type": "code",
   "execution_count": 669,
   "metadata": {},
   "outputs": [
    {
     "data": {
      "application/vnd.plotly.v1+json": {
       "config": {
        "plotlyServerURL": "https://plot.ly"
       },
       "data": [
        {
         "domain": {
          "x": [
           0,
           1
          ],
          "y": [
           0,
           1
          ]
         },
         "hovertemplate": "label=%{label}<br>value=%{value}<extra></extra>",
         "labels": [
          "Enero",
          "Noviembre",
          "Diciembre",
          "Febrero",
          "Marzo"
         ],
         "legendgroup": "",
         "name": "",
         "showlegend": true,
         "type": "pie",
         "values": [
          49,
          27,
          23,
          17,
          12
         ]
        }
       ],
       "layout": {
        "legend": {
         "tracegroupgap": 0
        },
        "margin": {
         "t": 60
        },
        "template": {
         "data": {
          "bar": [
           {
            "error_x": {
             "color": "#2a3f5f"
            },
            "error_y": {
             "color": "#2a3f5f"
            },
            "marker": {
             "line": {
              "color": "#E5ECF6",
              "width": 0.5
             },
             "pattern": {
              "fillmode": "overlay",
              "size": 10,
              "solidity": 0.2
             }
            },
            "type": "bar"
           }
          ],
          "barpolar": [
           {
            "marker": {
             "line": {
              "color": "#E5ECF6",
              "width": 0.5
             },
             "pattern": {
              "fillmode": "overlay",
              "size": 10,
              "solidity": 0.2
             }
            },
            "type": "barpolar"
           }
          ],
          "carpet": [
           {
            "aaxis": {
             "endlinecolor": "#2a3f5f",
             "gridcolor": "white",
             "linecolor": "white",
             "minorgridcolor": "white",
             "startlinecolor": "#2a3f5f"
            },
            "baxis": {
             "endlinecolor": "#2a3f5f",
             "gridcolor": "white",
             "linecolor": "white",
             "minorgridcolor": "white",
             "startlinecolor": "#2a3f5f"
            },
            "type": "carpet"
           }
          ],
          "choropleth": [
           {
            "colorbar": {
             "outlinewidth": 0,
             "ticks": ""
            },
            "type": "choropleth"
           }
          ],
          "contour": [
           {
            "colorbar": {
             "outlinewidth": 0,
             "ticks": ""
            },
            "colorscale": [
             [
              0,
              "#0d0887"
             ],
             [
              0.1111111111111111,
              "#46039f"
             ],
             [
              0.2222222222222222,
              "#7201a8"
             ],
             [
              0.3333333333333333,
              "#9c179e"
             ],
             [
              0.4444444444444444,
              "#bd3786"
             ],
             [
              0.5555555555555556,
              "#d8576b"
             ],
             [
              0.6666666666666666,
              "#ed7953"
             ],
             [
              0.7777777777777778,
              "#fb9f3a"
             ],
             [
              0.8888888888888888,
              "#fdca26"
             ],
             [
              1,
              "#f0f921"
             ]
            ],
            "type": "contour"
           }
          ],
          "contourcarpet": [
           {
            "colorbar": {
             "outlinewidth": 0,
             "ticks": ""
            },
            "type": "contourcarpet"
           }
          ],
          "heatmap": [
           {
            "colorbar": {
             "outlinewidth": 0,
             "ticks": ""
            },
            "colorscale": [
             [
              0,
              "#0d0887"
             ],
             [
              0.1111111111111111,
              "#46039f"
             ],
             [
              0.2222222222222222,
              "#7201a8"
             ],
             [
              0.3333333333333333,
              "#9c179e"
             ],
             [
              0.4444444444444444,
              "#bd3786"
             ],
             [
              0.5555555555555556,
              "#d8576b"
             ],
             [
              0.6666666666666666,
              "#ed7953"
             ],
             [
              0.7777777777777778,
              "#fb9f3a"
             ],
             [
              0.8888888888888888,
              "#fdca26"
             ],
             [
              1,
              "#f0f921"
             ]
            ],
            "type": "heatmap"
           }
          ],
          "heatmapgl": [
           {
            "colorbar": {
             "outlinewidth": 0,
             "ticks": ""
            },
            "colorscale": [
             [
              0,
              "#0d0887"
             ],
             [
              0.1111111111111111,
              "#46039f"
             ],
             [
              0.2222222222222222,
              "#7201a8"
             ],
             [
              0.3333333333333333,
              "#9c179e"
             ],
             [
              0.4444444444444444,
              "#bd3786"
             ],
             [
              0.5555555555555556,
              "#d8576b"
             ],
             [
              0.6666666666666666,
              "#ed7953"
             ],
             [
              0.7777777777777778,
              "#fb9f3a"
             ],
             [
              0.8888888888888888,
              "#fdca26"
             ],
             [
              1,
              "#f0f921"
             ]
            ],
            "type": "heatmapgl"
           }
          ],
          "histogram": [
           {
            "marker": {
             "pattern": {
              "fillmode": "overlay",
              "size": 10,
              "solidity": 0.2
             }
            },
            "type": "histogram"
           }
          ],
          "histogram2d": [
           {
            "colorbar": {
             "outlinewidth": 0,
             "ticks": ""
            },
            "colorscale": [
             [
              0,
              "#0d0887"
             ],
             [
              0.1111111111111111,
              "#46039f"
             ],
             [
              0.2222222222222222,
              "#7201a8"
             ],
             [
              0.3333333333333333,
              "#9c179e"
             ],
             [
              0.4444444444444444,
              "#bd3786"
             ],
             [
              0.5555555555555556,
              "#d8576b"
             ],
             [
              0.6666666666666666,
              "#ed7953"
             ],
             [
              0.7777777777777778,
              "#fb9f3a"
             ],
             [
              0.8888888888888888,
              "#fdca26"
             ],
             [
              1,
              "#f0f921"
             ]
            ],
            "type": "histogram2d"
           }
          ],
          "histogram2dcontour": [
           {
            "colorbar": {
             "outlinewidth": 0,
             "ticks": ""
            },
            "colorscale": [
             [
              0,
              "#0d0887"
             ],
             [
              0.1111111111111111,
              "#46039f"
             ],
             [
              0.2222222222222222,
              "#7201a8"
             ],
             [
              0.3333333333333333,
              "#9c179e"
             ],
             [
              0.4444444444444444,
              "#bd3786"
             ],
             [
              0.5555555555555556,
              "#d8576b"
             ],
             [
              0.6666666666666666,
              "#ed7953"
             ],
             [
              0.7777777777777778,
              "#fb9f3a"
             ],
             [
              0.8888888888888888,
              "#fdca26"
             ],
             [
              1,
              "#f0f921"
             ]
            ],
            "type": "histogram2dcontour"
           }
          ],
          "mesh3d": [
           {
            "colorbar": {
             "outlinewidth": 0,
             "ticks": ""
            },
            "type": "mesh3d"
           }
          ],
          "parcoords": [
           {
            "line": {
             "colorbar": {
              "outlinewidth": 0,
              "ticks": ""
             }
            },
            "type": "parcoords"
           }
          ],
          "pie": [
           {
            "automargin": true,
            "type": "pie"
           }
          ],
          "scatter": [
           {
            "fillpattern": {
             "fillmode": "overlay",
             "size": 10,
             "solidity": 0.2
            },
            "type": "scatter"
           }
          ],
          "scatter3d": [
           {
            "line": {
             "colorbar": {
              "outlinewidth": 0,
              "ticks": ""
             }
            },
            "marker": {
             "colorbar": {
              "outlinewidth": 0,
              "ticks": ""
             }
            },
            "type": "scatter3d"
           }
          ],
          "scattercarpet": [
           {
            "marker": {
             "colorbar": {
              "outlinewidth": 0,
              "ticks": ""
             }
            },
            "type": "scattercarpet"
           }
          ],
          "scattergeo": [
           {
            "marker": {
             "colorbar": {
              "outlinewidth": 0,
              "ticks": ""
             }
            },
            "type": "scattergeo"
           }
          ],
          "scattergl": [
           {
            "marker": {
             "colorbar": {
              "outlinewidth": 0,
              "ticks": ""
             }
            },
            "type": "scattergl"
           }
          ],
          "scattermapbox": [
           {
            "marker": {
             "colorbar": {
              "outlinewidth": 0,
              "ticks": ""
             }
            },
            "type": "scattermapbox"
           }
          ],
          "scatterpolar": [
           {
            "marker": {
             "colorbar": {
              "outlinewidth": 0,
              "ticks": ""
             }
            },
            "type": "scatterpolar"
           }
          ],
          "scatterpolargl": [
           {
            "marker": {
             "colorbar": {
              "outlinewidth": 0,
              "ticks": ""
             }
            },
            "type": "scatterpolargl"
           }
          ],
          "scatterternary": [
           {
            "marker": {
             "colorbar": {
              "outlinewidth": 0,
              "ticks": ""
             }
            },
            "type": "scatterternary"
           }
          ],
          "surface": [
           {
            "colorbar": {
             "outlinewidth": 0,
             "ticks": ""
            },
            "colorscale": [
             [
              0,
              "#0d0887"
             ],
             [
              0.1111111111111111,
              "#46039f"
             ],
             [
              0.2222222222222222,
              "#7201a8"
             ],
             [
              0.3333333333333333,
              "#9c179e"
             ],
             [
              0.4444444444444444,
              "#bd3786"
             ],
             [
              0.5555555555555556,
              "#d8576b"
             ],
             [
              0.6666666666666666,
              "#ed7953"
             ],
             [
              0.7777777777777778,
              "#fb9f3a"
             ],
             [
              0.8888888888888888,
              "#fdca26"
             ],
             [
              1,
              "#f0f921"
             ]
            ],
            "type": "surface"
           }
          ],
          "table": [
           {
            "cells": {
             "fill": {
              "color": "#EBF0F8"
             },
             "line": {
              "color": "white"
             }
            },
            "header": {
             "fill": {
              "color": "#C8D4E3"
             },
             "line": {
              "color": "white"
             }
            },
            "type": "table"
           }
          ]
         },
         "layout": {
          "annotationdefaults": {
           "arrowcolor": "#2a3f5f",
           "arrowhead": 0,
           "arrowwidth": 1
          },
          "autotypenumbers": "strict",
          "coloraxis": {
           "colorbar": {
            "outlinewidth": 0,
            "ticks": ""
           }
          },
          "colorscale": {
           "diverging": [
            [
             0,
             "#8e0152"
            ],
            [
             0.1,
             "#c51b7d"
            ],
            [
             0.2,
             "#de77ae"
            ],
            [
             0.3,
             "#f1b6da"
            ],
            [
             0.4,
             "#fde0ef"
            ],
            [
             0.5,
             "#f7f7f7"
            ],
            [
             0.6,
             "#e6f5d0"
            ],
            [
             0.7,
             "#b8e186"
            ],
            [
             0.8,
             "#7fbc41"
            ],
            [
             0.9,
             "#4d9221"
            ],
            [
             1,
             "#276419"
            ]
           ],
           "sequential": [
            [
             0,
             "#0d0887"
            ],
            [
             0.1111111111111111,
             "#46039f"
            ],
            [
             0.2222222222222222,
             "#7201a8"
            ],
            [
             0.3333333333333333,
             "#9c179e"
            ],
            [
             0.4444444444444444,
             "#bd3786"
            ],
            [
             0.5555555555555556,
             "#d8576b"
            ],
            [
             0.6666666666666666,
             "#ed7953"
            ],
            [
             0.7777777777777778,
             "#fb9f3a"
            ],
            [
             0.8888888888888888,
             "#fdca26"
            ],
            [
             1,
             "#f0f921"
            ]
           ],
           "sequentialminus": [
            [
             0,
             "#0d0887"
            ],
            [
             0.1111111111111111,
             "#46039f"
            ],
            [
             0.2222222222222222,
             "#7201a8"
            ],
            [
             0.3333333333333333,
             "#9c179e"
            ],
            [
             0.4444444444444444,
             "#bd3786"
            ],
            [
             0.5555555555555556,
             "#d8576b"
            ],
            [
             0.6666666666666666,
             "#ed7953"
            ],
            [
             0.7777777777777778,
             "#fb9f3a"
            ],
            [
             0.8888888888888888,
             "#fdca26"
            ],
            [
             1,
             "#f0f921"
            ]
           ]
          },
          "colorway": [
           "#636efa",
           "#EF553B",
           "#00cc96",
           "#ab63fa",
           "#FFA15A",
           "#19d3f3",
           "#FF6692",
           "#B6E880",
           "#FF97FF",
           "#FECB52"
          ],
          "font": {
           "color": "#2a3f5f"
          },
          "geo": {
           "bgcolor": "white",
           "lakecolor": "white",
           "landcolor": "#E5ECF6",
           "showlakes": true,
           "showland": true,
           "subunitcolor": "white"
          },
          "hoverlabel": {
           "align": "left"
          },
          "hovermode": "closest",
          "mapbox": {
           "style": "light"
          },
          "paper_bgcolor": "white",
          "plot_bgcolor": "#E5ECF6",
          "polar": {
           "angularaxis": {
            "gridcolor": "white",
            "linecolor": "white",
            "ticks": ""
           },
           "bgcolor": "#E5ECF6",
           "radialaxis": {
            "gridcolor": "white",
            "linecolor": "white",
            "ticks": ""
           }
          },
          "scene": {
           "xaxis": {
            "backgroundcolor": "#E5ECF6",
            "gridcolor": "white",
            "gridwidth": 2,
            "linecolor": "white",
            "showbackground": true,
            "ticks": "",
            "zerolinecolor": "white"
           },
           "yaxis": {
            "backgroundcolor": "#E5ECF6",
            "gridcolor": "white",
            "gridwidth": 2,
            "linecolor": "white",
            "showbackground": true,
            "ticks": "",
            "zerolinecolor": "white"
           },
           "zaxis": {
            "backgroundcolor": "#E5ECF6",
            "gridcolor": "white",
            "gridwidth": 2,
            "linecolor": "white",
            "showbackground": true,
            "ticks": "",
            "zerolinecolor": "white"
           }
          },
          "shapedefaults": {
           "line": {
            "color": "#2a3f5f"
           }
          },
          "ternary": {
           "aaxis": {
            "gridcolor": "white",
            "linecolor": "white",
            "ticks": ""
           },
           "baxis": {
            "gridcolor": "white",
            "linecolor": "white",
            "ticks": ""
           },
           "bgcolor": "#E5ECF6",
           "caxis": {
            "gridcolor": "white",
            "linecolor": "white",
            "ticks": ""
           }
          },
          "title": {
           "x": 0.05
          },
          "xaxis": {
           "automargin": true,
           "gridcolor": "white",
           "linecolor": "white",
           "ticks": "",
           "title": {
            "standoff": 15
           },
           "zerolinecolor": "white",
           "zerolinewidth": 2
          },
          "yaxis": {
           "automargin": true,
           "gridcolor": "white",
           "linecolor": "white",
           "ticks": "",
           "title": {
            "standoff": 15
           },
           "zerolinecolor": "white",
           "zerolinewidth": 2
          }
         }
        }
       }
      }
     },
     "metadata": {},
     "output_type": "display_data"
    }
   ],
   "source": [
    "dict = {1:'Enero',2:'Febrero',3:'Marzo',11:'Noviembre',12:'Diciembre'}\n",
    "#df = px.data.tips()\n",
    "fig = px.pie(month, values=month.values, names=month.index.map(dict))\n",
    "fig.show()"
   ]
  },
  {
   "cell_type": "code",
   "execution_count": 671,
   "metadata": {},
   "outputs": [
    {
     "data": {
      "text/plain": [
       "day\n",
       "Wednesday    42\n",
       "Thursday     29\n",
       "Tuesday      18\n",
       "Friday       17\n",
       "Monday       14\n",
       "Saturday      6\n",
       "Sunday        2\n",
       "Name: day, dtype: int64"
      ]
     },
     "execution_count": 671,
     "metadata": {},
     "output_type": "execute_result"
    }
   ],
   "source": [
    "# Group by with the most important day talking about tweets\n",
    "\n",
    "day = df.groupby('day')['day'].count().sort_values(ascending=False)\n",
    "day"
   ]
  },
  {
   "cell_type": "code",
   "execution_count": 672,
   "metadata": {},
   "outputs": [
    {
     "data": {
      "application/vnd.plotly.v1+json": {
       "config": {
        "plotlyServerURL": "https://plot.ly"
       },
       "data": [
        {
         "alignmentgroup": "True",
         "hovertemplate": "index=%{x}<br>y=%{y}<br>text=%{text}<extra></extra>",
         "legendgroup": "",
         "marker": {
          "color": "#636efa",
          "pattern": {
           "shape": ""
          }
         },
         "name": "",
         "offsetgroup": "",
         "orientation": "v",
         "showlegend": false,
         "text": [
          42,
          29,
          18,
          17,
          14,
          6,
          2
         ],
         "textposition": "auto",
         "type": "bar",
         "x": [
          "Wednesday",
          "Thursday",
          "Tuesday",
          "Friday",
          "Monday",
          "Saturday",
          "Sunday"
         ],
         "xaxis": "x",
         "y": [
          42,
          29,
          18,
          17,
          14,
          6,
          2
         ],
         "yaxis": "y"
        }
       ],
       "layout": {
        "barmode": "relative",
        "legend": {
         "tracegroupgap": 0
        },
        "template": {
         "data": {
          "bar": [
           {
            "error_x": {
             "color": "#2a3f5f"
            },
            "error_y": {
             "color": "#2a3f5f"
            },
            "marker": {
             "line": {
              "color": "#E5ECF6",
              "width": 0.5
             },
             "pattern": {
              "fillmode": "overlay",
              "size": 10,
              "solidity": 0.2
             }
            },
            "type": "bar"
           }
          ],
          "barpolar": [
           {
            "marker": {
             "line": {
              "color": "#E5ECF6",
              "width": 0.5
             },
             "pattern": {
              "fillmode": "overlay",
              "size": 10,
              "solidity": 0.2
             }
            },
            "type": "barpolar"
           }
          ],
          "carpet": [
           {
            "aaxis": {
             "endlinecolor": "#2a3f5f",
             "gridcolor": "white",
             "linecolor": "white",
             "minorgridcolor": "white",
             "startlinecolor": "#2a3f5f"
            },
            "baxis": {
             "endlinecolor": "#2a3f5f",
             "gridcolor": "white",
             "linecolor": "white",
             "minorgridcolor": "white",
             "startlinecolor": "#2a3f5f"
            },
            "type": "carpet"
           }
          ],
          "choropleth": [
           {
            "colorbar": {
             "outlinewidth": 0,
             "ticks": ""
            },
            "type": "choropleth"
           }
          ],
          "contour": [
           {
            "colorbar": {
             "outlinewidth": 0,
             "ticks": ""
            },
            "colorscale": [
             [
              0,
              "#0d0887"
             ],
             [
              0.1111111111111111,
              "#46039f"
             ],
             [
              0.2222222222222222,
              "#7201a8"
             ],
             [
              0.3333333333333333,
              "#9c179e"
             ],
             [
              0.4444444444444444,
              "#bd3786"
             ],
             [
              0.5555555555555556,
              "#d8576b"
             ],
             [
              0.6666666666666666,
              "#ed7953"
             ],
             [
              0.7777777777777778,
              "#fb9f3a"
             ],
             [
              0.8888888888888888,
              "#fdca26"
             ],
             [
              1,
              "#f0f921"
             ]
            ],
            "type": "contour"
           }
          ],
          "contourcarpet": [
           {
            "colorbar": {
             "outlinewidth": 0,
             "ticks": ""
            },
            "type": "contourcarpet"
           }
          ],
          "heatmap": [
           {
            "colorbar": {
             "outlinewidth": 0,
             "ticks": ""
            },
            "colorscale": [
             [
              0,
              "#0d0887"
             ],
             [
              0.1111111111111111,
              "#46039f"
             ],
             [
              0.2222222222222222,
              "#7201a8"
             ],
             [
              0.3333333333333333,
              "#9c179e"
             ],
             [
              0.4444444444444444,
              "#bd3786"
             ],
             [
              0.5555555555555556,
              "#d8576b"
             ],
             [
              0.6666666666666666,
              "#ed7953"
             ],
             [
              0.7777777777777778,
              "#fb9f3a"
             ],
             [
              0.8888888888888888,
              "#fdca26"
             ],
             [
              1,
              "#f0f921"
             ]
            ],
            "type": "heatmap"
           }
          ],
          "heatmapgl": [
           {
            "colorbar": {
             "outlinewidth": 0,
             "ticks": ""
            },
            "colorscale": [
             [
              0,
              "#0d0887"
             ],
             [
              0.1111111111111111,
              "#46039f"
             ],
             [
              0.2222222222222222,
              "#7201a8"
             ],
             [
              0.3333333333333333,
              "#9c179e"
             ],
             [
              0.4444444444444444,
              "#bd3786"
             ],
             [
              0.5555555555555556,
              "#d8576b"
             ],
             [
              0.6666666666666666,
              "#ed7953"
             ],
             [
              0.7777777777777778,
              "#fb9f3a"
             ],
             [
              0.8888888888888888,
              "#fdca26"
             ],
             [
              1,
              "#f0f921"
             ]
            ],
            "type": "heatmapgl"
           }
          ],
          "histogram": [
           {
            "marker": {
             "pattern": {
              "fillmode": "overlay",
              "size": 10,
              "solidity": 0.2
             }
            },
            "type": "histogram"
           }
          ],
          "histogram2d": [
           {
            "colorbar": {
             "outlinewidth": 0,
             "ticks": ""
            },
            "colorscale": [
             [
              0,
              "#0d0887"
             ],
             [
              0.1111111111111111,
              "#46039f"
             ],
             [
              0.2222222222222222,
              "#7201a8"
             ],
             [
              0.3333333333333333,
              "#9c179e"
             ],
             [
              0.4444444444444444,
              "#bd3786"
             ],
             [
              0.5555555555555556,
              "#d8576b"
             ],
             [
              0.6666666666666666,
              "#ed7953"
             ],
             [
              0.7777777777777778,
              "#fb9f3a"
             ],
             [
              0.8888888888888888,
              "#fdca26"
             ],
             [
              1,
              "#f0f921"
             ]
            ],
            "type": "histogram2d"
           }
          ],
          "histogram2dcontour": [
           {
            "colorbar": {
             "outlinewidth": 0,
             "ticks": ""
            },
            "colorscale": [
             [
              0,
              "#0d0887"
             ],
             [
              0.1111111111111111,
              "#46039f"
             ],
             [
              0.2222222222222222,
              "#7201a8"
             ],
             [
              0.3333333333333333,
              "#9c179e"
             ],
             [
              0.4444444444444444,
              "#bd3786"
             ],
             [
              0.5555555555555556,
              "#d8576b"
             ],
             [
              0.6666666666666666,
              "#ed7953"
             ],
             [
              0.7777777777777778,
              "#fb9f3a"
             ],
             [
              0.8888888888888888,
              "#fdca26"
             ],
             [
              1,
              "#f0f921"
             ]
            ],
            "type": "histogram2dcontour"
           }
          ],
          "mesh3d": [
           {
            "colorbar": {
             "outlinewidth": 0,
             "ticks": ""
            },
            "type": "mesh3d"
           }
          ],
          "parcoords": [
           {
            "line": {
             "colorbar": {
              "outlinewidth": 0,
              "ticks": ""
             }
            },
            "type": "parcoords"
           }
          ],
          "pie": [
           {
            "automargin": true,
            "type": "pie"
           }
          ],
          "scatter": [
           {
            "fillpattern": {
             "fillmode": "overlay",
             "size": 10,
             "solidity": 0.2
            },
            "type": "scatter"
           }
          ],
          "scatter3d": [
           {
            "line": {
             "colorbar": {
              "outlinewidth": 0,
              "ticks": ""
             }
            },
            "marker": {
             "colorbar": {
              "outlinewidth": 0,
              "ticks": ""
             }
            },
            "type": "scatter3d"
           }
          ],
          "scattercarpet": [
           {
            "marker": {
             "colorbar": {
              "outlinewidth": 0,
              "ticks": ""
             }
            },
            "type": "scattercarpet"
           }
          ],
          "scattergeo": [
           {
            "marker": {
             "colorbar": {
              "outlinewidth": 0,
              "ticks": ""
             }
            },
            "type": "scattergeo"
           }
          ],
          "scattergl": [
           {
            "marker": {
             "colorbar": {
              "outlinewidth": 0,
              "ticks": ""
             }
            },
            "type": "scattergl"
           }
          ],
          "scattermapbox": [
           {
            "marker": {
             "colorbar": {
              "outlinewidth": 0,
              "ticks": ""
             }
            },
            "type": "scattermapbox"
           }
          ],
          "scatterpolar": [
           {
            "marker": {
             "colorbar": {
              "outlinewidth": 0,
              "ticks": ""
             }
            },
            "type": "scatterpolar"
           }
          ],
          "scatterpolargl": [
           {
            "marker": {
             "colorbar": {
              "outlinewidth": 0,
              "ticks": ""
             }
            },
            "type": "scatterpolargl"
           }
          ],
          "scatterternary": [
           {
            "marker": {
             "colorbar": {
              "outlinewidth": 0,
              "ticks": ""
             }
            },
            "type": "scatterternary"
           }
          ],
          "surface": [
           {
            "colorbar": {
             "outlinewidth": 0,
             "ticks": ""
            },
            "colorscale": [
             [
              0,
              "#0d0887"
             ],
             [
              0.1111111111111111,
              "#46039f"
             ],
             [
              0.2222222222222222,
              "#7201a8"
             ],
             [
              0.3333333333333333,
              "#9c179e"
             ],
             [
              0.4444444444444444,
              "#bd3786"
             ],
             [
              0.5555555555555556,
              "#d8576b"
             ],
             [
              0.6666666666666666,
              "#ed7953"
             ],
             [
              0.7777777777777778,
              "#fb9f3a"
             ],
             [
              0.8888888888888888,
              "#fdca26"
             ],
             [
              1,
              "#f0f921"
             ]
            ],
            "type": "surface"
           }
          ],
          "table": [
           {
            "cells": {
             "fill": {
              "color": "#EBF0F8"
             },
             "line": {
              "color": "white"
             }
            },
            "header": {
             "fill": {
              "color": "#C8D4E3"
             },
             "line": {
              "color": "white"
             }
            },
            "type": "table"
           }
          ]
         },
         "layout": {
          "annotationdefaults": {
           "arrowcolor": "#2a3f5f",
           "arrowhead": 0,
           "arrowwidth": 1
          },
          "autotypenumbers": "strict",
          "coloraxis": {
           "colorbar": {
            "outlinewidth": 0,
            "ticks": ""
           }
          },
          "colorscale": {
           "diverging": [
            [
             0,
             "#8e0152"
            ],
            [
             0.1,
             "#c51b7d"
            ],
            [
             0.2,
             "#de77ae"
            ],
            [
             0.3,
             "#f1b6da"
            ],
            [
             0.4,
             "#fde0ef"
            ],
            [
             0.5,
             "#f7f7f7"
            ],
            [
             0.6,
             "#e6f5d0"
            ],
            [
             0.7,
             "#b8e186"
            ],
            [
             0.8,
             "#7fbc41"
            ],
            [
             0.9,
             "#4d9221"
            ],
            [
             1,
             "#276419"
            ]
           ],
           "sequential": [
            [
             0,
             "#0d0887"
            ],
            [
             0.1111111111111111,
             "#46039f"
            ],
            [
             0.2222222222222222,
             "#7201a8"
            ],
            [
             0.3333333333333333,
             "#9c179e"
            ],
            [
             0.4444444444444444,
             "#bd3786"
            ],
            [
             0.5555555555555556,
             "#d8576b"
            ],
            [
             0.6666666666666666,
             "#ed7953"
            ],
            [
             0.7777777777777778,
             "#fb9f3a"
            ],
            [
             0.8888888888888888,
             "#fdca26"
            ],
            [
             1,
             "#f0f921"
            ]
           ],
           "sequentialminus": [
            [
             0,
             "#0d0887"
            ],
            [
             0.1111111111111111,
             "#46039f"
            ],
            [
             0.2222222222222222,
             "#7201a8"
            ],
            [
             0.3333333333333333,
             "#9c179e"
            ],
            [
             0.4444444444444444,
             "#bd3786"
            ],
            [
             0.5555555555555556,
             "#d8576b"
            ],
            [
             0.6666666666666666,
             "#ed7953"
            ],
            [
             0.7777777777777778,
             "#fb9f3a"
            ],
            [
             0.8888888888888888,
             "#fdca26"
            ],
            [
             1,
             "#f0f921"
            ]
           ]
          },
          "colorway": [
           "#636efa",
           "#EF553B",
           "#00cc96",
           "#ab63fa",
           "#FFA15A",
           "#19d3f3",
           "#FF6692",
           "#B6E880",
           "#FF97FF",
           "#FECB52"
          ],
          "font": {
           "color": "#2a3f5f"
          },
          "geo": {
           "bgcolor": "white",
           "lakecolor": "white",
           "landcolor": "#E5ECF6",
           "showlakes": true,
           "showland": true,
           "subunitcolor": "white"
          },
          "hoverlabel": {
           "align": "left"
          },
          "hovermode": "closest",
          "mapbox": {
           "style": "light"
          },
          "paper_bgcolor": "white",
          "plot_bgcolor": "#E5ECF6",
          "polar": {
           "angularaxis": {
            "gridcolor": "white",
            "linecolor": "white",
            "ticks": ""
           },
           "bgcolor": "#E5ECF6",
           "radialaxis": {
            "gridcolor": "white",
            "linecolor": "white",
            "ticks": ""
           }
          },
          "scene": {
           "xaxis": {
            "backgroundcolor": "#E5ECF6",
            "gridcolor": "white",
            "gridwidth": 2,
            "linecolor": "white",
            "showbackground": true,
            "ticks": "",
            "zerolinecolor": "white"
           },
           "yaxis": {
            "backgroundcolor": "#E5ECF6",
            "gridcolor": "white",
            "gridwidth": 2,
            "linecolor": "white",
            "showbackground": true,
            "ticks": "",
            "zerolinecolor": "white"
           },
           "zaxis": {
            "backgroundcolor": "#E5ECF6",
            "gridcolor": "white",
            "gridwidth": 2,
            "linecolor": "white",
            "showbackground": true,
            "ticks": "",
            "zerolinecolor": "white"
           }
          },
          "shapedefaults": {
           "line": {
            "color": "#2a3f5f"
           }
          },
          "ternary": {
           "aaxis": {
            "gridcolor": "white",
            "linecolor": "white",
            "ticks": ""
           },
           "baxis": {
            "gridcolor": "white",
            "linecolor": "white",
            "ticks": ""
           },
           "bgcolor": "#E5ECF6",
           "caxis": {
            "gridcolor": "white",
            "linecolor": "white",
            "ticks": ""
           }
          },
          "title": {
           "x": 0.05
          },
          "xaxis": {
           "automargin": true,
           "gridcolor": "white",
           "linecolor": "white",
           "ticks": "",
           "title": {
            "standoff": 15
           },
           "zerolinecolor": "white",
           "zerolinewidth": 2
          },
          "yaxis": {
           "automargin": true,
           "gridcolor": "white",
           "linecolor": "white",
           "ticks": "",
           "title": {
            "standoff": 15
           },
           "zerolinecolor": "white",
           "zerolinewidth": 2
          }
         }
        },
        "title": {
         "text": "Día con más Tweets mencionando a The Bridge"
        },
        "xaxis": {
         "anchor": "y",
         "domain": [
          0,
          1
         ],
         "dtick": [
          [
           1,
           2,
           3,
           11,
           12
          ]
         ],
         "title": {
          "text": "Days"
         }
        },
        "yaxis": {
         "anchor": "x",
         "domain": [
          0,
          1
         ],
         "title": {
          "text": "Tweets"
         }
        }
       }
      }
     },
     "metadata": {},
     "output_type": "display_data"
    }
   ],
   "source": [
    "fig = px.bar(day,x = day.index,y = day.values,text=day.values,\n",
    "            title=\"Día con más Tweets mencionando a The Bridge\")\n",
    "fig.update_xaxes(title = 'Days', dtick =[(1,2,3,11,12)])\n",
    "fig.update_yaxes(title = 'Tweets')\n",
    "fig.show()"
   ]
  },
  {
   "cell_type": "code",
   "execution_count": 673,
   "metadata": {},
   "outputs": [],
   "source": [
    "hour = df.groupby('hour')['hour'].count().sort_values(ascending=False)"
   ]
  },
  {
   "cell_type": "code",
   "execution_count": 674,
   "metadata": {},
   "outputs": [
    {
     "data": {
      "application/vnd.plotly.v1+json": {
       "config": {
        "plotlyServerURL": "https://plot.ly"
       },
       "data": [
        {
         "alignmentgroup": "True",
         "hovertemplate": "index=%{x}<br>y=%{y}<br>text=%{text}<extra></extra>",
         "legendgroup": "",
         "marker": {
          "color": "#636efa",
          "pattern": {
           "shape": ""
          }
         },
         "name": "",
         "offsetgroup": "",
         "orientation": "v",
         "showlegend": false,
         "text": [
          19,
          19,
          11,
          10,
          9,
          8,
          8,
          8,
          7,
          5,
          5,
          4,
          4,
          3,
          3,
          2,
          1,
          1,
          1
         ],
         "textposition": "auto",
         "type": "bar",
         "x": [
          8,
          9,
          10,
          12,
          15,
          13,
          18,
          17,
          16,
          20,
          19,
          14,
          11,
          6,
          7,
          21,
          22,
          5,
          23
         ],
         "xaxis": "x",
         "y": [
          19,
          19,
          11,
          10,
          9,
          8,
          8,
          8,
          7,
          5,
          5,
          4,
          4,
          3,
          3,
          2,
          1,
          1,
          1
         ],
         "yaxis": "y"
        }
       ],
       "layout": {
        "barmode": "relative",
        "legend": {
         "tracegroupgap": 0
        },
        "template": {
         "data": {
          "bar": [
           {
            "error_x": {
             "color": "#2a3f5f"
            },
            "error_y": {
             "color": "#2a3f5f"
            },
            "marker": {
             "line": {
              "color": "#E5ECF6",
              "width": 0.5
             },
             "pattern": {
              "fillmode": "overlay",
              "size": 10,
              "solidity": 0.2
             }
            },
            "type": "bar"
           }
          ],
          "barpolar": [
           {
            "marker": {
             "line": {
              "color": "#E5ECF6",
              "width": 0.5
             },
             "pattern": {
              "fillmode": "overlay",
              "size": 10,
              "solidity": 0.2
             }
            },
            "type": "barpolar"
           }
          ],
          "carpet": [
           {
            "aaxis": {
             "endlinecolor": "#2a3f5f",
             "gridcolor": "white",
             "linecolor": "white",
             "minorgridcolor": "white",
             "startlinecolor": "#2a3f5f"
            },
            "baxis": {
             "endlinecolor": "#2a3f5f",
             "gridcolor": "white",
             "linecolor": "white",
             "minorgridcolor": "white",
             "startlinecolor": "#2a3f5f"
            },
            "type": "carpet"
           }
          ],
          "choropleth": [
           {
            "colorbar": {
             "outlinewidth": 0,
             "ticks": ""
            },
            "type": "choropleth"
           }
          ],
          "contour": [
           {
            "colorbar": {
             "outlinewidth": 0,
             "ticks": ""
            },
            "colorscale": [
             [
              0,
              "#0d0887"
             ],
             [
              0.1111111111111111,
              "#46039f"
             ],
             [
              0.2222222222222222,
              "#7201a8"
             ],
             [
              0.3333333333333333,
              "#9c179e"
             ],
             [
              0.4444444444444444,
              "#bd3786"
             ],
             [
              0.5555555555555556,
              "#d8576b"
             ],
             [
              0.6666666666666666,
              "#ed7953"
             ],
             [
              0.7777777777777778,
              "#fb9f3a"
             ],
             [
              0.8888888888888888,
              "#fdca26"
             ],
             [
              1,
              "#f0f921"
             ]
            ],
            "type": "contour"
           }
          ],
          "contourcarpet": [
           {
            "colorbar": {
             "outlinewidth": 0,
             "ticks": ""
            },
            "type": "contourcarpet"
           }
          ],
          "heatmap": [
           {
            "colorbar": {
             "outlinewidth": 0,
             "ticks": ""
            },
            "colorscale": [
             [
              0,
              "#0d0887"
             ],
             [
              0.1111111111111111,
              "#46039f"
             ],
             [
              0.2222222222222222,
              "#7201a8"
             ],
             [
              0.3333333333333333,
              "#9c179e"
             ],
             [
              0.4444444444444444,
              "#bd3786"
             ],
             [
              0.5555555555555556,
              "#d8576b"
             ],
             [
              0.6666666666666666,
              "#ed7953"
             ],
             [
              0.7777777777777778,
              "#fb9f3a"
             ],
             [
              0.8888888888888888,
              "#fdca26"
             ],
             [
              1,
              "#f0f921"
             ]
            ],
            "type": "heatmap"
           }
          ],
          "heatmapgl": [
           {
            "colorbar": {
             "outlinewidth": 0,
             "ticks": ""
            },
            "colorscale": [
             [
              0,
              "#0d0887"
             ],
             [
              0.1111111111111111,
              "#46039f"
             ],
             [
              0.2222222222222222,
              "#7201a8"
             ],
             [
              0.3333333333333333,
              "#9c179e"
             ],
             [
              0.4444444444444444,
              "#bd3786"
             ],
             [
              0.5555555555555556,
              "#d8576b"
             ],
             [
              0.6666666666666666,
              "#ed7953"
             ],
             [
              0.7777777777777778,
              "#fb9f3a"
             ],
             [
              0.8888888888888888,
              "#fdca26"
             ],
             [
              1,
              "#f0f921"
             ]
            ],
            "type": "heatmapgl"
           }
          ],
          "histogram": [
           {
            "marker": {
             "pattern": {
              "fillmode": "overlay",
              "size": 10,
              "solidity": 0.2
             }
            },
            "type": "histogram"
           }
          ],
          "histogram2d": [
           {
            "colorbar": {
             "outlinewidth": 0,
             "ticks": ""
            },
            "colorscale": [
             [
              0,
              "#0d0887"
             ],
             [
              0.1111111111111111,
              "#46039f"
             ],
             [
              0.2222222222222222,
              "#7201a8"
             ],
             [
              0.3333333333333333,
              "#9c179e"
             ],
             [
              0.4444444444444444,
              "#bd3786"
             ],
             [
              0.5555555555555556,
              "#d8576b"
             ],
             [
              0.6666666666666666,
              "#ed7953"
             ],
             [
              0.7777777777777778,
              "#fb9f3a"
             ],
             [
              0.8888888888888888,
              "#fdca26"
             ],
             [
              1,
              "#f0f921"
             ]
            ],
            "type": "histogram2d"
           }
          ],
          "histogram2dcontour": [
           {
            "colorbar": {
             "outlinewidth": 0,
             "ticks": ""
            },
            "colorscale": [
             [
              0,
              "#0d0887"
             ],
             [
              0.1111111111111111,
              "#46039f"
             ],
             [
              0.2222222222222222,
              "#7201a8"
             ],
             [
              0.3333333333333333,
              "#9c179e"
             ],
             [
              0.4444444444444444,
              "#bd3786"
             ],
             [
              0.5555555555555556,
              "#d8576b"
             ],
             [
              0.6666666666666666,
              "#ed7953"
             ],
             [
              0.7777777777777778,
              "#fb9f3a"
             ],
             [
              0.8888888888888888,
              "#fdca26"
             ],
             [
              1,
              "#f0f921"
             ]
            ],
            "type": "histogram2dcontour"
           }
          ],
          "mesh3d": [
           {
            "colorbar": {
             "outlinewidth": 0,
             "ticks": ""
            },
            "type": "mesh3d"
           }
          ],
          "parcoords": [
           {
            "line": {
             "colorbar": {
              "outlinewidth": 0,
              "ticks": ""
             }
            },
            "type": "parcoords"
           }
          ],
          "pie": [
           {
            "automargin": true,
            "type": "pie"
           }
          ],
          "scatter": [
           {
            "fillpattern": {
             "fillmode": "overlay",
             "size": 10,
             "solidity": 0.2
            },
            "type": "scatter"
           }
          ],
          "scatter3d": [
           {
            "line": {
             "colorbar": {
              "outlinewidth": 0,
              "ticks": ""
             }
            },
            "marker": {
             "colorbar": {
              "outlinewidth": 0,
              "ticks": ""
             }
            },
            "type": "scatter3d"
           }
          ],
          "scattercarpet": [
           {
            "marker": {
             "colorbar": {
              "outlinewidth": 0,
              "ticks": ""
             }
            },
            "type": "scattercarpet"
           }
          ],
          "scattergeo": [
           {
            "marker": {
             "colorbar": {
              "outlinewidth": 0,
              "ticks": ""
             }
            },
            "type": "scattergeo"
           }
          ],
          "scattergl": [
           {
            "marker": {
             "colorbar": {
              "outlinewidth": 0,
              "ticks": ""
             }
            },
            "type": "scattergl"
           }
          ],
          "scattermapbox": [
           {
            "marker": {
             "colorbar": {
              "outlinewidth": 0,
              "ticks": ""
             }
            },
            "type": "scattermapbox"
           }
          ],
          "scatterpolar": [
           {
            "marker": {
             "colorbar": {
              "outlinewidth": 0,
              "ticks": ""
             }
            },
            "type": "scatterpolar"
           }
          ],
          "scatterpolargl": [
           {
            "marker": {
             "colorbar": {
              "outlinewidth": 0,
              "ticks": ""
             }
            },
            "type": "scatterpolargl"
           }
          ],
          "scatterternary": [
           {
            "marker": {
             "colorbar": {
              "outlinewidth": 0,
              "ticks": ""
             }
            },
            "type": "scatterternary"
           }
          ],
          "surface": [
           {
            "colorbar": {
             "outlinewidth": 0,
             "ticks": ""
            },
            "colorscale": [
             [
              0,
              "#0d0887"
             ],
             [
              0.1111111111111111,
              "#46039f"
             ],
             [
              0.2222222222222222,
              "#7201a8"
             ],
             [
              0.3333333333333333,
              "#9c179e"
             ],
             [
              0.4444444444444444,
              "#bd3786"
             ],
             [
              0.5555555555555556,
              "#d8576b"
             ],
             [
              0.6666666666666666,
              "#ed7953"
             ],
             [
              0.7777777777777778,
              "#fb9f3a"
             ],
             [
              0.8888888888888888,
              "#fdca26"
             ],
             [
              1,
              "#f0f921"
             ]
            ],
            "type": "surface"
           }
          ],
          "table": [
           {
            "cells": {
             "fill": {
              "color": "#EBF0F8"
             },
             "line": {
              "color": "white"
             }
            },
            "header": {
             "fill": {
              "color": "#C8D4E3"
             },
             "line": {
              "color": "white"
             }
            },
            "type": "table"
           }
          ]
         },
         "layout": {
          "annotationdefaults": {
           "arrowcolor": "#2a3f5f",
           "arrowhead": 0,
           "arrowwidth": 1
          },
          "autotypenumbers": "strict",
          "coloraxis": {
           "colorbar": {
            "outlinewidth": 0,
            "ticks": ""
           }
          },
          "colorscale": {
           "diverging": [
            [
             0,
             "#8e0152"
            ],
            [
             0.1,
             "#c51b7d"
            ],
            [
             0.2,
             "#de77ae"
            ],
            [
             0.3,
             "#f1b6da"
            ],
            [
             0.4,
             "#fde0ef"
            ],
            [
             0.5,
             "#f7f7f7"
            ],
            [
             0.6,
             "#e6f5d0"
            ],
            [
             0.7,
             "#b8e186"
            ],
            [
             0.8,
             "#7fbc41"
            ],
            [
             0.9,
             "#4d9221"
            ],
            [
             1,
             "#276419"
            ]
           ],
           "sequential": [
            [
             0,
             "#0d0887"
            ],
            [
             0.1111111111111111,
             "#46039f"
            ],
            [
             0.2222222222222222,
             "#7201a8"
            ],
            [
             0.3333333333333333,
             "#9c179e"
            ],
            [
             0.4444444444444444,
             "#bd3786"
            ],
            [
             0.5555555555555556,
             "#d8576b"
            ],
            [
             0.6666666666666666,
             "#ed7953"
            ],
            [
             0.7777777777777778,
             "#fb9f3a"
            ],
            [
             0.8888888888888888,
             "#fdca26"
            ],
            [
             1,
             "#f0f921"
            ]
           ],
           "sequentialminus": [
            [
             0,
             "#0d0887"
            ],
            [
             0.1111111111111111,
             "#46039f"
            ],
            [
             0.2222222222222222,
             "#7201a8"
            ],
            [
             0.3333333333333333,
             "#9c179e"
            ],
            [
             0.4444444444444444,
             "#bd3786"
            ],
            [
             0.5555555555555556,
             "#d8576b"
            ],
            [
             0.6666666666666666,
             "#ed7953"
            ],
            [
             0.7777777777777778,
             "#fb9f3a"
            ],
            [
             0.8888888888888888,
             "#fdca26"
            ],
            [
             1,
             "#f0f921"
            ]
           ]
          },
          "colorway": [
           "#636efa",
           "#EF553B",
           "#00cc96",
           "#ab63fa",
           "#FFA15A",
           "#19d3f3",
           "#FF6692",
           "#B6E880",
           "#FF97FF",
           "#FECB52"
          ],
          "font": {
           "color": "#2a3f5f"
          },
          "geo": {
           "bgcolor": "white",
           "lakecolor": "white",
           "landcolor": "#E5ECF6",
           "showlakes": true,
           "showland": true,
           "subunitcolor": "white"
          },
          "hoverlabel": {
           "align": "left"
          },
          "hovermode": "closest",
          "mapbox": {
           "style": "light"
          },
          "paper_bgcolor": "white",
          "plot_bgcolor": "#E5ECF6",
          "polar": {
           "angularaxis": {
            "gridcolor": "white",
            "linecolor": "white",
            "ticks": ""
           },
           "bgcolor": "#E5ECF6",
           "radialaxis": {
            "gridcolor": "white",
            "linecolor": "white",
            "ticks": ""
           }
          },
          "scene": {
           "xaxis": {
            "backgroundcolor": "#E5ECF6",
            "gridcolor": "white",
            "gridwidth": 2,
            "linecolor": "white",
            "showbackground": true,
            "ticks": "",
            "zerolinecolor": "white"
           },
           "yaxis": {
            "backgroundcolor": "#E5ECF6",
            "gridcolor": "white",
            "gridwidth": 2,
            "linecolor": "white",
            "showbackground": true,
            "ticks": "",
            "zerolinecolor": "white"
           },
           "zaxis": {
            "backgroundcolor": "#E5ECF6",
            "gridcolor": "white",
            "gridwidth": 2,
            "linecolor": "white",
            "showbackground": true,
            "ticks": "",
            "zerolinecolor": "white"
           }
          },
          "shapedefaults": {
           "line": {
            "color": "#2a3f5f"
           }
          },
          "ternary": {
           "aaxis": {
            "gridcolor": "white",
            "linecolor": "white",
            "ticks": ""
           },
           "baxis": {
            "gridcolor": "white",
            "linecolor": "white",
            "ticks": ""
           },
           "bgcolor": "#E5ECF6",
           "caxis": {
            "gridcolor": "white",
            "linecolor": "white",
            "ticks": ""
           }
          },
          "title": {
           "x": 0.05
          },
          "xaxis": {
           "automargin": true,
           "gridcolor": "white",
           "linecolor": "white",
           "ticks": "",
           "title": {
            "standoff": 15
           },
           "zerolinecolor": "white",
           "zerolinewidth": 2
          },
          "yaxis": {
           "automargin": true,
           "gridcolor": "white",
           "linecolor": "white",
           "ticks": "",
           "title": {
            "standoff": 15
           },
           "zerolinecolor": "white",
           "zerolinewidth": 2
          }
         }
        },
        "title": {
         "text": "Hora con más Tweets mencionando a The Bridge"
        },
        "xaxis": {
         "anchor": "y",
         "domain": [
          0,
          1
         ],
         "dtick": [
          [
           1,
           2,
           3,
           11,
           12
          ]
         ],
         "title": {
          "text": "Hour"
         }
        },
        "yaxis": {
         "anchor": "x",
         "domain": [
          0,
          1
         ],
         "title": {
          "text": "Tweets"
         }
        }
       }
      }
     },
     "metadata": {},
     "output_type": "display_data"
    }
   ],
   "source": [
    "fig = px.bar(hour,x = hour.index,y = hour.values,text=hour.values,\n",
    "            title=\"Hora con más Tweets mencionando a The Bridge\")\n",
    "fig.update_xaxes(title = 'Hour', dtick =[(1,2,3,11,12)])\n",
    "fig.update_yaxes(title = 'Tweets')\n",
    "fig.show()"
   ]
  },
  {
   "attachments": {},
   "cell_type": "markdown",
   "metadata": {},
   "source": [
    "As we can see January has been the most active month, it's ready to check it out deeply. In the other hand, Wednesday is the most active day during the week from the date selected."
   ]
  },
  {
   "attachments": {},
   "cell_type": "markdown",
   "metadata": {},
   "source": [
    "4. The most common word"
   ]
  },
  {
   "cell_type": "code",
   "execution_count": 675,
   "metadata": {},
   "outputs": [],
   "source": [
    "spanish_stopwords = stopwords.words('spanish')\n",
    "\n",
    "def remove_stopwords(df):\n",
    "    return \" \".join([word for word in df.split() if word not in spanish_stopwords])\n",
    "\n",
    "def spanish_stemmer(x):\n",
    "    stemmer = SnowballStemmer('spanish')\n",
    "    return \" \".join([stemmer.stem(word) for word in x.split()])\n",
    "\n",
    "def generate_ngrams(text, n_gram=1):\n",
    "    token = [token for token in text.lower().split(\" \") if token != \"\" if token not in STOPWORDS]\n",
    "    ngrams = zip(*[token[i:] for i in range(n_gram)])\n",
    "    return [\" \".join(ngram) for ngram in ngrams]\n",
    "\n",
    "df['script'] = df['Tweets'].apply(remove_stopwords)\n",
    "#df['script'] = df['Tweets'].apply(spanish_stemmer)\n",
    "#df['script'].head()"
   ]
  },
  {
   "cell_type": "code",
   "execution_count": 676,
   "metadata": {},
   "outputs": [
    {
     "data": {
      "application/vnd.plotly.v1+json": {
       "config": {
        "linkText": "Export to plot.ly",
        "plotlyServerURL": "https://plot.ly",
        "showLink": false
       },
       "data": [
        {
         "orientation": "h",
         "type": "bar",
         "x": [
          8,
          8,
          8,
          9,
          9,
          9,
          9,
          9,
          9,
          10,
          10,
          10,
          11,
          11,
          12,
          13,
          13,
          13,
          14,
          17,
          19,
          22,
          24,
          24,
          116
         ],
         "y": [
          "@godivaciones",
          "@ae_bm",
          "eta",
          "colaboración",
          "cómo",
          "#bootcamps",
          "diseño",
          "presentación",
          "🗣",
          "web",
          "#ciberseguridad",
          "@recuenco",
          "@edemempresarios",
          "@bbk_kuna",
          "🤝",
          "gracias",
          "hoy",
          "desarrollo",
          "@ddamasd",
          "bootcamps",
          "@bbk_eus",
          "digital",
          "bbk",
          "#bbkbootcamps",
          "@thebridge_tech"
         ]
        }
       ],
       "layout": {
        "height": 1200,
        "paper_bgcolor": "rgb(233,233,233)",
        "template": {
         "data": {
          "bar": [
           {
            "error_x": {
             "color": "#2a3f5f"
            },
            "error_y": {
             "color": "#2a3f5f"
            },
            "marker": {
             "line": {
              "color": "#E5ECF6",
              "width": 0.5
             },
             "pattern": {
              "fillmode": "overlay",
              "size": 10,
              "solidity": 0.2
             }
            },
            "type": "bar"
           }
          ],
          "barpolar": [
           {
            "marker": {
             "line": {
              "color": "#E5ECF6",
              "width": 0.5
             },
             "pattern": {
              "fillmode": "overlay",
              "size": 10,
              "solidity": 0.2
             }
            },
            "type": "barpolar"
           }
          ],
          "carpet": [
           {
            "aaxis": {
             "endlinecolor": "#2a3f5f",
             "gridcolor": "white",
             "linecolor": "white",
             "minorgridcolor": "white",
             "startlinecolor": "#2a3f5f"
            },
            "baxis": {
             "endlinecolor": "#2a3f5f",
             "gridcolor": "white",
             "linecolor": "white",
             "minorgridcolor": "white",
             "startlinecolor": "#2a3f5f"
            },
            "type": "carpet"
           }
          ],
          "choropleth": [
           {
            "colorbar": {
             "outlinewidth": 0,
             "ticks": ""
            },
            "type": "choropleth"
           }
          ],
          "contour": [
           {
            "colorbar": {
             "outlinewidth": 0,
             "ticks": ""
            },
            "colorscale": [
             [
              0,
              "#0d0887"
             ],
             [
              0.1111111111111111,
              "#46039f"
             ],
             [
              0.2222222222222222,
              "#7201a8"
             ],
             [
              0.3333333333333333,
              "#9c179e"
             ],
             [
              0.4444444444444444,
              "#bd3786"
             ],
             [
              0.5555555555555556,
              "#d8576b"
             ],
             [
              0.6666666666666666,
              "#ed7953"
             ],
             [
              0.7777777777777778,
              "#fb9f3a"
             ],
             [
              0.8888888888888888,
              "#fdca26"
             ],
             [
              1,
              "#f0f921"
             ]
            ],
            "type": "contour"
           }
          ],
          "contourcarpet": [
           {
            "colorbar": {
             "outlinewidth": 0,
             "ticks": ""
            },
            "type": "contourcarpet"
           }
          ],
          "heatmap": [
           {
            "colorbar": {
             "outlinewidth": 0,
             "ticks": ""
            },
            "colorscale": [
             [
              0,
              "#0d0887"
             ],
             [
              0.1111111111111111,
              "#46039f"
             ],
             [
              0.2222222222222222,
              "#7201a8"
             ],
             [
              0.3333333333333333,
              "#9c179e"
             ],
             [
              0.4444444444444444,
              "#bd3786"
             ],
             [
              0.5555555555555556,
              "#d8576b"
             ],
             [
              0.6666666666666666,
              "#ed7953"
             ],
             [
              0.7777777777777778,
              "#fb9f3a"
             ],
             [
              0.8888888888888888,
              "#fdca26"
             ],
             [
              1,
              "#f0f921"
             ]
            ],
            "type": "heatmap"
           }
          ],
          "heatmapgl": [
           {
            "colorbar": {
             "outlinewidth": 0,
             "ticks": ""
            },
            "colorscale": [
             [
              0,
              "#0d0887"
             ],
             [
              0.1111111111111111,
              "#46039f"
             ],
             [
              0.2222222222222222,
              "#7201a8"
             ],
             [
              0.3333333333333333,
              "#9c179e"
             ],
             [
              0.4444444444444444,
              "#bd3786"
             ],
             [
              0.5555555555555556,
              "#d8576b"
             ],
             [
              0.6666666666666666,
              "#ed7953"
             ],
             [
              0.7777777777777778,
              "#fb9f3a"
             ],
             [
              0.8888888888888888,
              "#fdca26"
             ],
             [
              1,
              "#f0f921"
             ]
            ],
            "type": "heatmapgl"
           }
          ],
          "histogram": [
           {
            "marker": {
             "pattern": {
              "fillmode": "overlay",
              "size": 10,
              "solidity": 0.2
             }
            },
            "type": "histogram"
           }
          ],
          "histogram2d": [
           {
            "colorbar": {
             "outlinewidth": 0,
             "ticks": ""
            },
            "colorscale": [
             [
              0,
              "#0d0887"
             ],
             [
              0.1111111111111111,
              "#46039f"
             ],
             [
              0.2222222222222222,
              "#7201a8"
             ],
             [
              0.3333333333333333,
              "#9c179e"
             ],
             [
              0.4444444444444444,
              "#bd3786"
             ],
             [
              0.5555555555555556,
              "#d8576b"
             ],
             [
              0.6666666666666666,
              "#ed7953"
             ],
             [
              0.7777777777777778,
              "#fb9f3a"
             ],
             [
              0.8888888888888888,
              "#fdca26"
             ],
             [
              1,
              "#f0f921"
             ]
            ],
            "type": "histogram2d"
           }
          ],
          "histogram2dcontour": [
           {
            "colorbar": {
             "outlinewidth": 0,
             "ticks": ""
            },
            "colorscale": [
             [
              0,
              "#0d0887"
             ],
             [
              0.1111111111111111,
              "#46039f"
             ],
             [
              0.2222222222222222,
              "#7201a8"
             ],
             [
              0.3333333333333333,
              "#9c179e"
             ],
             [
              0.4444444444444444,
              "#bd3786"
             ],
             [
              0.5555555555555556,
              "#d8576b"
             ],
             [
              0.6666666666666666,
              "#ed7953"
             ],
             [
              0.7777777777777778,
              "#fb9f3a"
             ],
             [
              0.8888888888888888,
              "#fdca26"
             ],
             [
              1,
              "#f0f921"
             ]
            ],
            "type": "histogram2dcontour"
           }
          ],
          "mesh3d": [
           {
            "colorbar": {
             "outlinewidth": 0,
             "ticks": ""
            },
            "type": "mesh3d"
           }
          ],
          "parcoords": [
           {
            "line": {
             "colorbar": {
              "outlinewidth": 0,
              "ticks": ""
             }
            },
            "type": "parcoords"
           }
          ],
          "pie": [
           {
            "automargin": true,
            "type": "pie"
           }
          ],
          "scatter": [
           {
            "fillpattern": {
             "fillmode": "overlay",
             "size": 10,
             "solidity": 0.2
            },
            "type": "scatter"
           }
          ],
          "scatter3d": [
           {
            "line": {
             "colorbar": {
              "outlinewidth": 0,
              "ticks": ""
             }
            },
            "marker": {
             "colorbar": {
              "outlinewidth": 0,
              "ticks": ""
             }
            },
            "type": "scatter3d"
           }
          ],
          "scattercarpet": [
           {
            "marker": {
             "colorbar": {
              "outlinewidth": 0,
              "ticks": ""
             }
            },
            "type": "scattercarpet"
           }
          ],
          "scattergeo": [
           {
            "marker": {
             "colorbar": {
              "outlinewidth": 0,
              "ticks": ""
             }
            },
            "type": "scattergeo"
           }
          ],
          "scattergl": [
           {
            "marker": {
             "colorbar": {
              "outlinewidth": 0,
              "ticks": ""
             }
            },
            "type": "scattergl"
           }
          ],
          "scattermapbox": [
           {
            "marker": {
             "colorbar": {
              "outlinewidth": 0,
              "ticks": ""
             }
            },
            "type": "scattermapbox"
           }
          ],
          "scatterpolar": [
           {
            "marker": {
             "colorbar": {
              "outlinewidth": 0,
              "ticks": ""
             }
            },
            "type": "scatterpolar"
           }
          ],
          "scatterpolargl": [
           {
            "marker": {
             "colorbar": {
              "outlinewidth": 0,
              "ticks": ""
             }
            },
            "type": "scatterpolargl"
           }
          ],
          "scatterternary": [
           {
            "marker": {
             "colorbar": {
              "outlinewidth": 0,
              "ticks": ""
             }
            },
            "type": "scatterternary"
           }
          ],
          "surface": [
           {
            "colorbar": {
             "outlinewidth": 0,
             "ticks": ""
            },
            "colorscale": [
             [
              0,
              "#0d0887"
             ],
             [
              0.1111111111111111,
              "#46039f"
             ],
             [
              0.2222222222222222,
              "#7201a8"
             ],
             [
              0.3333333333333333,
              "#9c179e"
             ],
             [
              0.4444444444444444,
              "#bd3786"
             ],
             [
              0.5555555555555556,
              "#d8576b"
             ],
             [
              0.6666666666666666,
              "#ed7953"
             ],
             [
              0.7777777777777778,
              "#fb9f3a"
             ],
             [
              0.8888888888888888,
              "#fdca26"
             ],
             [
              1,
              "#f0f921"
             ]
            ],
            "type": "surface"
           }
          ],
          "table": [
           {
            "cells": {
             "fill": {
              "color": "#EBF0F8"
             },
             "line": {
              "color": "white"
             }
            },
            "header": {
             "fill": {
              "color": "#C8D4E3"
             },
             "line": {
              "color": "white"
             }
            },
            "type": "table"
           }
          ]
         },
         "layout": {
          "annotationdefaults": {
           "arrowcolor": "#2a3f5f",
           "arrowhead": 0,
           "arrowwidth": 1
          },
          "autotypenumbers": "strict",
          "coloraxis": {
           "colorbar": {
            "outlinewidth": 0,
            "ticks": ""
           }
          },
          "colorscale": {
           "diverging": [
            [
             0,
             "#8e0152"
            ],
            [
             0.1,
             "#c51b7d"
            ],
            [
             0.2,
             "#de77ae"
            ],
            [
             0.3,
             "#f1b6da"
            ],
            [
             0.4,
             "#fde0ef"
            ],
            [
             0.5,
             "#f7f7f7"
            ],
            [
             0.6,
             "#e6f5d0"
            ],
            [
             0.7,
             "#b8e186"
            ],
            [
             0.8,
             "#7fbc41"
            ],
            [
             0.9,
             "#4d9221"
            ],
            [
             1,
             "#276419"
            ]
           ],
           "sequential": [
            [
             0,
             "#0d0887"
            ],
            [
             0.1111111111111111,
             "#46039f"
            ],
            [
             0.2222222222222222,
             "#7201a8"
            ],
            [
             0.3333333333333333,
             "#9c179e"
            ],
            [
             0.4444444444444444,
             "#bd3786"
            ],
            [
             0.5555555555555556,
             "#d8576b"
            ],
            [
             0.6666666666666666,
             "#ed7953"
            ],
            [
             0.7777777777777778,
             "#fb9f3a"
            ],
            [
             0.8888888888888888,
             "#fdca26"
            ],
            [
             1,
             "#f0f921"
            ]
           ],
           "sequentialminus": [
            [
             0,
             "#0d0887"
            ],
            [
             0.1111111111111111,
             "#46039f"
            ],
            [
             0.2222222222222222,
             "#7201a8"
            ],
            [
             0.3333333333333333,
             "#9c179e"
            ],
            [
             0.4444444444444444,
             "#bd3786"
            ],
            [
             0.5555555555555556,
             "#d8576b"
            ],
            [
             0.6666666666666666,
             "#ed7953"
            ],
            [
             0.7777777777777778,
             "#fb9f3a"
            ],
            [
             0.8888888888888888,
             "#fdca26"
            ],
            [
             1,
             "#f0f921"
            ]
           ]
          },
          "colorway": [
           "#636efa",
           "#EF553B",
           "#00cc96",
           "#ab63fa",
           "#FFA15A",
           "#19d3f3",
           "#FF6692",
           "#B6E880",
           "#FF97FF",
           "#FECB52"
          ],
          "font": {
           "color": "#2a3f5f"
          },
          "geo": {
           "bgcolor": "white",
           "lakecolor": "white",
           "landcolor": "#E5ECF6",
           "showlakes": true,
           "showland": true,
           "subunitcolor": "white"
          },
          "hoverlabel": {
           "align": "left"
          },
          "hovermode": "closest",
          "mapbox": {
           "style": "light"
          },
          "paper_bgcolor": "white",
          "plot_bgcolor": "#E5ECF6",
          "polar": {
           "angularaxis": {
            "gridcolor": "white",
            "linecolor": "white",
            "ticks": ""
           },
           "bgcolor": "#E5ECF6",
           "radialaxis": {
            "gridcolor": "white",
            "linecolor": "white",
            "ticks": ""
           }
          },
          "scene": {
           "xaxis": {
            "backgroundcolor": "#E5ECF6",
            "gridcolor": "white",
            "gridwidth": 2,
            "linecolor": "white",
            "showbackground": true,
            "ticks": "",
            "zerolinecolor": "white"
           },
           "yaxis": {
            "backgroundcolor": "#E5ECF6",
            "gridcolor": "white",
            "gridwidth": 2,
            "linecolor": "white",
            "showbackground": true,
            "ticks": "",
            "zerolinecolor": "white"
           },
           "zaxis": {
            "backgroundcolor": "#E5ECF6",
            "gridcolor": "white",
            "gridwidth": 2,
            "linecolor": "white",
            "showbackground": true,
            "ticks": "",
            "zerolinecolor": "white"
           }
          },
          "shapedefaults": {
           "line": {
            "color": "#2a3f5f"
           }
          },
          "ternary": {
           "aaxis": {
            "gridcolor": "white",
            "linecolor": "white",
            "ticks": ""
           },
           "baxis": {
            "gridcolor": "white",
            "linecolor": "white",
            "ticks": ""
           },
           "bgcolor": "#E5ECF6",
           "caxis": {
            "gridcolor": "white",
            "linecolor": "white",
            "ticks": ""
           }
          },
          "title": {
           "x": 0.05
          },
          "xaxis": {
           "automargin": true,
           "gridcolor": "white",
           "linecolor": "white",
           "ticks": "",
           "title": {
            "standoff": 15
           },
           "zerolinecolor": "white",
           "zerolinewidth": 2
          },
          "yaxis": {
           "automargin": true,
           "gridcolor": "white",
           "linecolor": "white",
           "ticks": "",
           "title": {
            "standoff": 15
           },
           "zerolinecolor": "white",
           "zerolinewidth": 2
          }
         }
        },
        "title": {
         "text": "Word Count Plots"
        },
        "width": 900
       }
      }
     },
     "metadata": {},
     "output_type": "display_data"
    }
   ],
   "source": [
    "freq_dict = defaultdict(int)\n",
    "for sent in df[\"script\"]:\n",
    "    for word in generate_ngrams(sent):\n",
    "        freq_dict[word] += 1\n",
    "fd_sorted = pd.DataFrame(sorted(freq_dict.items(), key=lambda x: x[1])[::-1][:25], columns=[\"word\", \"wordcount\"])\n",
    "fd_sorted\n",
    "trace0 = go.Bar(\n",
    "    x=fd_sorted[\"wordcount\"][::-1],\n",
    "    y=fd_sorted[\"word\"][::-1],\n",
    "    orientation='h'\n",
    ")\n",
    "fig = go.Figure(trace0)\n",
    "fig['layout'].update(height=1200, width=900, paper_bgcolor='rgb(233,233,233)', title=\"Word Count Plots\")\n",
    "py.iplot(fig, filename='word-plots')"
   ]
  },
  {
   "attachments": {},
   "cell_type": "markdown",
   "metadata": {},
   "source": [
    "As we see, this is how the common words works"
   ]
  },
  {
   "attachments": {},
   "cell_type": "markdown",
   "metadata": {},
   "source": [
    "5. Correlation between diferent metrics"
   ]
  },
  {
   "cell_type": "code",
   "execution_count": 677,
   "metadata": {},
   "outputs": [],
   "source": [
    "# Convert to string \n",
    "df['Id del mensaje']=df['Id del mensaje'].astype(str)\n",
    "\n",
    "# Map the days for numeric values\n",
    "dict = {'Monday':1, 'Tuesday':2, 'Wednesday':3, 'Thursday':4, 'Friday':5, 'Saturday':6, 'Sunday':7}\n",
    "df['number_day'] = df['day'].map(dict)"
   ]
  },
  {
   "cell_type": "code",
   "execution_count": 678,
   "metadata": {},
   "outputs": [
    {
     "data": {
      "text/plain": [
       "<Axes: >"
      ]
     },
     "execution_count": 678,
     "metadata": {},
     "output_type": "execute_result"
    },
    {
     "data": {
      "image/png": "[encoded data removed]",
      "text/plain": [
       "<Figure size 1200x400 with 2 Axes>"
      ]
     },
     "metadata": {},
     "output_type": "display_data"
    }
   ],
   "source": [
    "plt.figure(figsize=(12,4))\n",
    "sns.heatmap(df[['Respuestas','Retweets','Likes','Citas','Engagement','hour','month']].corr(), annot=True)"
   ]
  },
  {
   "attachments": {},
   "cell_type": "markdown",
   "metadata": {},
   "source": [
    "As we can see, there are different correlation between different features, Retweets and likes have strong correlation , because obviously facts.\n",
    "\n",
    "But there are not strong correlation, with other features."
   ]
  },
  {
   "attachments": {},
   "cell_type": "markdown",
   "metadata": {},
   "source": [
    "In addition, I showed that Wednesday is the most engagement day of the week. As important fact, along 8 and 9 in the morning is the range of the most engagement active.\n",
    "\n",
    "So, in the future we can analyze this two fact because they are so important in some bussines."
   ]
  },
  {
   "attachments": {},
   "cell_type": "markdown",
   "metadata": {},
   "source": [
    "# TRAINING"
   ]
  },
  {
   "attachments": {},
   "cell_type": "markdown",
   "metadata": {},
   "source": [
    "1. Predictions"
   ]
  },
  {
   "cell_type": "code",
   "execution_count": 679,
   "metadata": {},
   "outputs": [
    {
     "name": "stderr",
     "output_type": "stream",
     "text": [
      "/Users/migueldefrutos/miniconda3/lib/python3.10/site-packages/sklearn/base.py:299: UserWarning:\n",
      "\n",
      "Trying to unpickle estimator CountVectorizer from version 1.0.2 when using version 1.2.1. This might lead to breaking code or invalid results. Use at your own risk. For more info please refer to:\n",
      "https://scikit-learn.org/stable/model_persistence.html#security-maintainability-limitations\n",
      "\n",
      "/Users/migueldefrutos/miniconda3/lib/python3.10/site-packages/sklearn/base.py:299: UserWarning:\n",
      "\n",
      "Trying to unpickle estimator LogisticRegression from version 1.0.2 when using version 1.2.1. This might lead to breaking code or invalid results. Use at your own risk. For more info please refer to:\n",
      "https://scikit-learn.org/stable/model_persistence.html#security-maintainability-limitations\n",
      "\n",
      "/Users/migueldefrutos/miniconda3/lib/python3.10/site-packages/sklearn/base.py:299: UserWarning:\n",
      "\n",
      "Trying to unpickle estimator Pipeline from version 1.0.2 when using version 1.2.1. This might lead to breaking code or invalid results. Use at your own risk. For more info please refer to:\n",
      "https://scikit-learn.org/stable/model_persistence.html#security-maintainability-limitations\n",
      "\n"
     ]
    }
   ],
   "source": [
    "with open('src/model/sentiment_model', \"rb\") as archivo_entrada:\n",
    "    pipeline_importada = pickle.load(archivo_entrada)"
   ]
  },
  {
   "cell_type": "code",
   "execution_count": 680,
   "metadata": {},
   "outputs": [
    {
     "data": {
      "text/html": [
       "<style>#sk-container-id-5 {color: black;background-color: white;}#sk-container-id-5 pre{padding: 0;}#sk-container-id-5 div.sk-toggleable {background-color: white;}#sk-container-id-5 label.sk-toggleable__label {cursor: pointer;display: block;width: 100%;margin-bottom: 0;padding: 0.3em;box-sizing: border-box;text-align: center;}#sk-container-id-5 label.sk-toggleable__label-arrow:before {content: \"▸\";float: left;margin-right: 0.25em;color: #696969;}#sk-container-id-5 label.sk-toggleable__label-arrow:hover:before {color: black;}#sk-container-id-5 div.sk-estimator:hover label.sk-toggleable__label-arrow:before {color: black;}#sk-container-id-5 div.sk-toggleable__content {max-height: 0;max-width: 0;overflow: hidden;text-align: left;background-color: #f0f8ff;}#sk-container-id-5 div.sk-toggleable__content pre {margin: 0.2em;color: black;border-radius: 0.25em;background-color: #f0f8ff;}#sk-container-id-5 input.sk-toggleable__control:checked~div.sk-toggleable__content {max-height: 200px;max-width: 100%;overflow: auto;}#sk-container-id-5 input.sk-toggleable__control:checked~label.sk-toggleable__label-arrow:before {content: \"▾\";}#sk-container-id-5 div.sk-estimator input.sk-toggleable__control:checked~label.sk-toggleable__label {background-color: #d4ebff;}#sk-container-id-5 div.sk-label input.sk-toggleable__control:checked~label.sk-toggleable__label {background-color: #d4ebff;}#sk-container-id-5 input.sk-hidden--visually {border: 0;clip: rect(1px 1px 1px 1px);clip: rect(1px, 1px, 1px, 1px);height: 1px;margin: -1px;overflow: hidden;padding: 0;position: absolute;width: 1px;}#sk-container-id-5 div.sk-estimator {font-family: monospace;background-color: #f0f8ff;border: 1px dotted black;border-radius: 0.25em;box-sizing: border-box;margin-bottom: 0.5em;}#sk-container-id-5 div.sk-estimator:hover {background-color: #d4ebff;}#sk-container-id-5 div.sk-parallel-item::after {content: \"\";width: 100%;border-bottom: 1px solid gray;flex-grow: 1;}#sk-container-id-5 div.sk-label:hover label.sk-toggleable__label {background-color: #d4ebff;}#sk-container-id-5 div.sk-serial::before {content: \"\";position: absolute;border-left: 1px solid gray;box-sizing: border-box;top: 0;bottom: 0;left: 50%;z-index: 0;}#sk-container-id-5 div.sk-serial {display: flex;flex-direction: column;align-items: center;background-color: white;padding-right: 0.2em;padding-left: 0.2em;position: relative;}#sk-container-id-5 div.sk-item {position: relative;z-index: 1;}#sk-container-id-5 div.sk-parallel {display: flex;align-items: stretch;justify-content: center;background-color: white;position: relative;}#sk-container-id-5 div.sk-item::before, #sk-container-id-5 div.sk-parallel-item::before {content: \"\";position: absolute;border-left: 1px solid gray;box-sizing: border-box;top: 0;bottom: 0;left: 50%;z-index: -1;}#sk-container-id-5 div.sk-parallel-item {display: flex;flex-direction: column;z-index: 1;position: relative;background-color: white;}#sk-container-id-5 div.sk-parallel-item:first-child::after {align-self: flex-end;width: 50%;}#sk-container-id-5 div.sk-parallel-item:last-child::after {align-self: flex-start;width: 50%;}#sk-container-id-5 div.sk-parallel-item:only-child::after {width: 0;}#sk-container-id-5 div.sk-dashed-wrapped {border: 1px dashed gray;margin: 0 0.4em 0.5em 0.4em;box-sizing: border-box;padding-bottom: 0.4em;background-color: white;}#sk-container-id-5 div.sk-label label {font-family: monospace;font-weight: bold;display: inline-block;line-height: 1.2em;}#sk-container-id-5 div.sk-label-container {text-align: center;}#sk-container-id-5 div.sk-container {/* jupyter's `normalize.less` sets `[hidden] { display: none; }` but bootstrap.min.css set `[hidden] { display: none !important; }` so we also need the `!important` here to be able to override the default hidden behavior on the sphinx rendered scikit-learn.org. See: https://github.com/scikit-learn/scikit-learn/issues/21755 */display: inline-block !important;position: relative;}#sk-container-id-5 div.sk-text-repr-fallback {display: none;}</style><div id=\"sk-container-id-5\" class=\"sk-top-container\"><div class=\"sk-text-repr-fallback\"><pre>Pipeline(steps=[(&#x27;vect&#x27;,\n",
       "                 CountVectorizer(max_df=0.5, max_features=1000, min_df=5,\n",
       "                                 ngram_range=(1, 2))),\n",
       "                (&#x27;cls&#x27;, LogisticRegression(C=0.5))])</pre><b>In a Jupyter environment, please rerun this cell to show the HTML representation or trust the notebook. <br />On GitHub, the HTML representation is unable to render, please try loading this page with nbviewer.org.</b></div><div class=\"sk-container\" hidden><div class=\"sk-item sk-dashed-wrapped\"><div class=\"sk-label-container\"><div class=\"sk-label sk-toggleable\"><input class=\"sk-toggleable__control sk-hidden--visually\" id=\"sk-estimator-id-13\" type=\"checkbox\" ><label for=\"sk-estimator-id-13\" class=\"sk-toggleable__label sk-toggleable__label-arrow\">Pipeline</label><div class=\"sk-toggleable__content\"><pre>Pipeline(steps=[(&#x27;vect&#x27;,\n",
       "                 CountVectorizer(max_df=0.5, max_features=1000, min_df=5,\n",
       "                                 ngram_range=(1, 2))),\n",
       "                (&#x27;cls&#x27;, LogisticRegression(C=0.5))])</pre></div></div></div><div class=\"sk-serial\"><div class=\"sk-item\"><div class=\"sk-estimator sk-toggleable\"><input class=\"sk-toggleable__control sk-hidden--visually\" id=\"sk-estimator-id-14\" type=\"checkbox\" ><label for=\"sk-estimator-id-14\" class=\"sk-toggleable__label sk-toggleable__label-arrow\">CountVectorizer</label><div class=\"sk-toggleable__content\"><pre>CountVectorizer(max_df=0.5, max_features=1000, min_df=5, ngram_range=(1, 2))</pre></div></div></div><div class=\"sk-item\"><div class=\"sk-estimator sk-toggleable\"><input class=\"sk-toggleable__control sk-hidden--visually\" id=\"sk-estimator-id-15\" type=\"checkbox\" ><label for=\"sk-estimator-id-15\" class=\"sk-toggleable__label sk-toggleable__label-arrow\">LogisticRegression</label><div class=\"sk-toggleable__content\"><pre>LogisticRegression(C=0.5)</pre></div></div></div></div></div></div></div>"
      ],
      "text/plain": [
       "Pipeline(steps=[('vect',\n",
       "                 CountVectorizer(max_df=0.5, max_features=1000, min_df=5,\n",
       "                                 ngram_range=(1, 2))),\n",
       "                ('cls', LogisticRegression(C=0.5))])"
      ]
     },
     "execution_count": 680,
     "metadata": {},
     "output_type": "execute_result"
    }
   ],
   "source": [
    "pipeline_importada"
   ]
  },
  {
   "cell_type": "code",
   "execution_count": 681,
   "metadata": {},
   "outputs": [
    {
     "data": {
      "text/html": [
       "<div>\n",
       "<style scoped>\n",
       "    .dataframe tbody tr th:only-of-type {\n",
       "        vertical-align: middle;\n",
       "    }\n",
       "\n",
       "    .dataframe tbody tr th {\n",
       "        vertical-align: top;\n",
       "    }\n",
       "\n",
       "    .dataframe thead th {\n",
       "        text-align: right;\n",
       "    }\n",
       "</style>\n",
       "<table border=\"1\" class=\"dataframe\">\n",
       "  <thead>\n",
       "    <tr style=\"text-align: right;\">\n",
       "      <th></th>\n",
       "      <th>Tweets</th>\n",
       "      <th>script</th>\n",
       "      <th>Feeling</th>\n",
       "    </tr>\n",
       "  </thead>\n",
       "  <tbody>\n",
       "    <tr>\n",
       "      <th>0</th>\n",
       "      <td>Las inscripciones se realizarán por Eventbrite...</td>\n",
       "      <td>Las inscripciones realizarán Eventbrite. Cualq...</td>\n",
       "      <td>0</td>\n",
       "    </tr>\n",
       "    <tr>\n",
       "      <th>1</th>\n",
       "      <td>¡Por fin podemos publicar el cartel con los po...</td>\n",
       "      <td>¡Por fin podemos publicar cartel ponentes #cyb...</td>\n",
       "      <td>1</td>\n",
       "    </tr>\n",
       "    <tr>\n",
       "      <th>2</th>\n",
       "      <td>Encuentro de la @mlopscommunity en Madrid: \"ML...</td>\n",
       "      <td>Encuentro @mlopscommunity Madrid: \"MLOPs: trin...</td>\n",
       "      <td>1</td>\n",
       "    </tr>\n",
       "    <tr>\n",
       "      <th>3</th>\n",
       "      <td>@nodosenlared @snowded @TheBridge_Tech Muy bue...</td>\n",
       "      <td>@nodosenlared @snowded @TheBridge_Tech Muy bue...</td>\n",
       "      <td>0</td>\n",
       "    </tr>\n",
       "    <tr>\n",
       "      <th>4</th>\n",
       "      <td>@PauMugarra @ToniDorta @TheBridge_Tech https:/...</td>\n",
       "      <td>@PauMugarra @ToniDorta @TheBridge_Tech https:/...</td>\n",
       "      <td>0</td>\n",
       "    </tr>\n",
       "    <tr>\n",
       "      <th>...</th>\n",
       "      <td>...</td>\n",
       "      <td>...</td>\n",
       "      <td>...</td>\n",
       "    </tr>\n",
       "    <tr>\n",
       "      <th>123</th>\n",
       "      <td>@Cyber_Madrid  organiza el I Congreso de #Cibe...</td>\n",
       "      <td>@Cyber_Madrid organiza I Congreso #Ciberseguri...</td>\n",
       "      <td>0</td>\n",
       "    </tr>\n",
       "    <tr>\n",
       "      <th>124</th>\n",
       "      <td>🔵Acelera tu carrera digital con #BBKBootcamps....</td>\n",
       "      <td>🔵Acelera carrera digital #BBKBootcamps. Gracia...</td>\n",
       "      <td>1</td>\n",
       "    </tr>\n",
       "    <tr>\n",
       "      <th>125</th>\n",
       "      <td>Acelerando juntos el #talentodigital en España...</td>\n",
       "      <td>Acelerando juntos #talentodigital España. El p...</td>\n",
       "      <td>0</td>\n",
       "    </tr>\n",
       "    <tr>\n",
       "      <th>126</th>\n",
       "      <td>Ikasi gaur etorkizuneko lanbideak, izena eman ...</td>\n",
       "      <td>Ikasi gaur etorkizuneko lanbideak, izena eman ...</td>\n",
       "      <td>1</td>\n",
       "    </tr>\n",
       "    <tr>\n",
       "      <th>127</th>\n",
       "      <td>Aprende hoy las profesiones del futuro, ¡inscr...</td>\n",
       "      <td>Aprende hoy profesiones futuro, ¡inscríbete #B...</td>\n",
       "      <td>0</td>\n",
       "    </tr>\n",
       "  </tbody>\n",
       "</table>\n",
       "<p>128 rows × 3 columns</p>\n",
       "</div>"
      ],
      "text/plain": [
       "                                                Tweets  \\\n",
       "0    Las inscripciones se realizarán por Eventbrite...   \n",
       "1    ¡Por fin podemos publicar el cartel con los po...   \n",
       "2    Encuentro de la @mlopscommunity en Madrid: \"ML...   \n",
       "3    @nodosenlared @snowded @TheBridge_Tech Muy bue...   \n",
       "4    @PauMugarra @ToniDorta @TheBridge_Tech https:/...   \n",
       "..                                                 ...   \n",
       "123  @Cyber_Madrid  organiza el I Congreso de #Cibe...   \n",
       "124  🔵Acelera tu carrera digital con #BBKBootcamps....   \n",
       "125  Acelerando juntos el #talentodigital en España...   \n",
       "126  Ikasi gaur etorkizuneko lanbideak, izena eman ...   \n",
       "127  Aprende hoy las profesiones del futuro, ¡inscr...   \n",
       "\n",
       "                                                script  Feeling  \n",
       "0    Las inscripciones realizarán Eventbrite. Cualq...        0  \n",
       "1    ¡Por fin podemos publicar cartel ponentes #cyb...        1  \n",
       "2    Encuentro @mlopscommunity Madrid: \"MLOPs: trin...        1  \n",
       "3    @nodosenlared @snowded @TheBridge_Tech Muy bue...        0  \n",
       "4    @PauMugarra @ToniDorta @TheBridge_Tech https:/...        0  \n",
       "..                                                 ...      ...  \n",
       "123  @Cyber_Madrid organiza I Congreso #Ciberseguri...        0  \n",
       "124  🔵Acelera carrera digital #BBKBootcamps. Gracia...        1  \n",
       "125  Acelerando juntos #talentodigital España. El p...        0  \n",
       "126  Ikasi gaur etorkizuneko lanbideak, izena eman ...        1  \n",
       "127  Aprende hoy profesiones futuro, ¡inscríbete #B...        0  \n",
       "\n",
       "[128 rows x 3 columns]"
      ]
     },
     "execution_count": 681,
     "metadata": {},
     "output_type": "execute_result"
    }
   ],
   "source": [
    "predictions = pipeline_importada.predict(df['Tweets'])\n",
    "df['Feeling'] = pd.Series(predictions)\n",
    "df[['Tweets','script','Feeling']]"
   ]
  },
  {
   "cell_type": "code",
   "execution_count": 682,
   "metadata": {},
   "outputs": [
    {
     "data": {
      "text/plain": [
       "array([[0.51901694, 0.48098306],\n",
       "       [0.40379759, 0.59620241],\n",
       "       [0.21567168, 0.78432832],\n",
       "       [0.54376377, 0.45623623],\n",
       "       [0.54745853, 0.45254147],\n",
       "       [0.51529556, 0.48470444],\n",
       "       [0.73246715, 0.26753285],\n",
       "       [0.51456081, 0.48543919],\n",
       "       [0.58760061, 0.41239939],\n",
       "       [0.54745853, 0.45254147],\n",
       "       [0.43116739, 0.56883261],\n",
       "       [0.54745853, 0.45254147],\n",
       "       [0.47835499, 0.52164501],\n",
       "       [0.70028848, 0.29971152],\n",
       "       [0.23255407, 0.76744593],\n",
       "       [0.44996338, 0.55003662],\n",
       "       [0.54745853, 0.45254147],\n",
       "       [0.91928196, 0.08071804],\n",
       "       [0.44289636, 0.55710364],\n",
       "       [0.51033272, 0.48966728],\n",
       "       [0.52724888, 0.47275112],\n",
       "       [0.78972669, 0.21027331],\n",
       "       [0.54745853, 0.45254147],\n",
       "       [0.54745853, 0.45254147],\n",
       "       [0.54745853, 0.45254147],\n",
       "       [0.54745853, 0.45254147],\n",
       "       [0.39064124, 0.60935876],\n",
       "       [0.61146036, 0.38853964],\n",
       "       [0.60360588, 0.39639412],\n",
       "       [0.60360588, 0.39639412],\n",
       "       [0.60360588, 0.39639412],\n",
       "       [0.67209372, 0.32790628],\n",
       "       [0.93509263, 0.06490737],\n",
       "       [0.62083447, 0.37916553],\n",
       "       [0.27438093, 0.72561907],\n",
       "       [0.56375252, 0.43624748],\n",
       "       [0.58543944, 0.41456056],\n",
       "       [0.54745853, 0.45254147],\n",
       "       [0.58760061, 0.41239939],\n",
       "       [0.10578948, 0.89421052],\n",
       "       [0.65989465, 0.34010535],\n",
       "       [0.4889909 , 0.5110091 ],\n",
       "       [0.61499506, 0.38500494],\n",
       "       [0.1557976 , 0.8442024 ],\n",
       "       [0.43092224, 0.56907776],\n",
       "       [0.91668306, 0.08331694],\n",
       "       [0.54745853, 0.45254147],\n",
       "       [0.39064124, 0.60935876],\n",
       "       [0.31685456, 0.68314544],\n",
       "       [0.54745853, 0.45254147],\n",
       "       [0.23643433, 0.76356567],\n",
       "       [0.54745853, 0.45254147],\n",
       "       [0.39064124, 0.60935876],\n",
       "       [0.54376377, 0.45623623],\n",
       "       [0.63359475, 0.36640525],\n",
       "       [0.26247124, 0.73752876],\n",
       "       [0.54745853, 0.45254147],\n",
       "       [0.54745853, 0.45254147],\n",
       "       [0.1802923 , 0.8197077 ],\n",
       "       [0.54745853, 0.45254147],\n",
       "       [0.54745853, 0.45254147],\n",
       "       [0.46997008, 0.53002992],\n",
       "       [0.38709953, 0.61290047],\n",
       "       [0.54745853, 0.45254147],\n",
       "       [0.45198848, 0.54801152],\n",
       "       [0.10578948, 0.89421052],\n",
       "       [0.54822319, 0.45177681],\n",
       "       [0.54745853, 0.45254147],\n",
       "       [0.5224026 , 0.4775974 ],\n",
       "       [0.86275171, 0.13724829],\n",
       "       [0.75950634, 0.24049366],\n",
       "       [0.1487456 , 0.8512544 ],\n",
       "       [0.28031078, 0.71968922],\n",
       "       [0.51901694, 0.48098306],\n",
       "       [0.5530268 , 0.4469732 ],\n",
       "       [0.43388221, 0.56611779],\n",
       "       [0.7412559 , 0.2587441 ],\n",
       "       [0.06117678, 0.93882322],\n",
       "       [0.46464912, 0.53535088],\n",
       "       [0.52724888, 0.47275112],\n",
       "       [0.54006418, 0.45993582],\n",
       "       [0.1775207 , 0.8224793 ],\n",
       "       [0.51901694, 0.48098306],\n",
       "       [0.13659385, 0.86340615],\n",
       "       [0.7113323 , 0.2886677 ],\n",
       "       [0.51901694, 0.48098306],\n",
       "       [0.38709953, 0.61290047],\n",
       "       [0.39064124, 0.60935876],\n",
       "       [0.54745853, 0.45254147],\n",
       "       [0.51013756, 0.48986244],\n",
       "       [0.61499506, 0.38500494],\n",
       "       [0.25357369, 0.74642631],\n",
       "       [0.14673289, 0.85326711],\n",
       "       [0.12660818, 0.87339182],\n",
       "       [0.51832439, 0.48167561],\n",
       "       [0.21131258, 0.78868742],\n",
       "       [0.66327835, 0.33672165],\n",
       "       [0.54745853, 0.45254147],\n",
       "       [0.23467783, 0.76532217],\n",
       "       [0.29641246, 0.70358754],\n",
       "       [0.39064124, 0.60935876],\n",
       "       [0.25123464, 0.74876536],\n",
       "       [0.26345681, 0.73654319],\n",
       "       [0.58933951, 0.41066049],\n",
       "       [0.54745853, 0.45254147],\n",
       "       [0.54745853, 0.45254147],\n",
       "       [0.23166976, 0.76833024],\n",
       "       [0.51013756, 0.48986244],\n",
       "       [0.30124362, 0.69875638],\n",
       "       [0.38392768, 0.61607232],\n",
       "       [0.22048081, 0.77951919],\n",
       "       [0.67789798, 0.32210202],\n",
       "       [0.13647512, 0.86352488],\n",
       "       [0.52931767, 0.47068233],\n",
       "       [0.54745853, 0.45254147],\n",
       "       [0.35212197, 0.64787803],\n",
       "       [0.51910066, 0.48089934],\n",
       "       [0.36264975, 0.63735025],\n",
       "       [0.30723237, 0.69276763],\n",
       "       [0.45842948, 0.54157052],\n",
       "       [0.51901694, 0.48098306],\n",
       "       [0.51901694, 0.48098306],\n",
       "       [0.11750445, 0.88249555],\n",
       "       [0.60003463, 0.39996537],\n",
       "       [0.39064124, 0.60935876],\n",
       "       [0.6307471 , 0.3692529 ],\n",
       "       [0.43551881, 0.56448119],\n",
       "       [0.73246715, 0.26753285]])"
      ]
     },
     "execution_count": 682,
     "metadata": {},
     "output_type": "execute_result"
    }
   ],
   "source": [
    "predicions_proba = pipeline_importada.predict_proba(df['Tweets'])\n",
    "predicions_proba"
   ]
  },
  {
   "cell_type": "code",
   "execution_count": 683,
   "metadata": {},
   "outputs": [
    {
     "name": "stderr",
     "output_type": "stream",
     "text": [
      "/var/folders/fh/hxrrvrn15b5_v0bjv8nbpw2w0000gp/T/ipykernel_17625/2256110331.py:2: SettingWithCopyWarning:\n",
      "\n",
      "\n",
      "A value is trying to be set on a copy of a slice from a DataFrame.\n",
      "Try using .loc[row_indexer,col_indexer] = value instead\n",
      "\n",
      "See the caveats in the documentation: https://pandas.pydata.org/pandas-docs/stable/user_guide/indexing.html#returning-a-view-versus-a-copy\n",
      "\n",
      "/var/folders/fh/hxrrvrn15b5_v0bjv8nbpw2w0000gp/T/ipykernel_17625/2256110331.py:3: SettingWithCopyWarning:\n",
      "\n",
      "\n",
      "A value is trying to be set on a copy of a slice from a DataFrame.\n",
      "Try using .loc[row_indexer,col_indexer] = value instead\n",
      "\n",
      "See the caveats in the documentation: https://pandas.pydata.org/pandas-docs/stable/user_guide/indexing.html#returning-a-view-versus-a-copy\n",
      "\n"
     ]
    },
    {
     "data": {
      "text/html": [
       "<div>\n",
       "<style scoped>\n",
       "    .dataframe tbody tr th:only-of-type {\n",
       "        vertical-align: middle;\n",
       "    }\n",
       "\n",
       "    .dataframe tbody tr th {\n",
       "        vertical-align: top;\n",
       "    }\n",
       "\n",
       "    .dataframe thead th {\n",
       "        text-align: right;\n",
       "    }\n",
       "</style>\n",
       "<table border=\"1\" class=\"dataframe\">\n",
       "  <thead>\n",
       "    <tr style=\"text-align: right;\">\n",
       "      <th></th>\n",
       "      <th>Tweets</th>\n",
       "      <th>script</th>\n",
       "      <th>Feeling</th>\n",
       "      <th>Polarity_Pos</th>\n",
       "      <th>Polarity_Neg</th>\n",
       "    </tr>\n",
       "  </thead>\n",
       "  <tbody>\n",
       "    <tr>\n",
       "      <th>0</th>\n",
       "      <td>Las inscripciones se realizarán por Eventbrite...</td>\n",
       "      <td>Las inscripciones realizarán Eventbrite. Cualq...</td>\n",
       "      <td>0</td>\n",
       "      <td>0.480983</td>\n",
       "      <td>0.519017</td>\n",
       "    </tr>\n",
       "    <tr>\n",
       "      <th>1</th>\n",
       "      <td>¡Por fin podemos publicar el cartel con los po...</td>\n",
       "      <td>¡Por fin podemos publicar cartel ponentes #cyb...</td>\n",
       "      <td>1</td>\n",
       "      <td>0.596202</td>\n",
       "      <td>0.403798</td>\n",
       "    </tr>\n",
       "    <tr>\n",
       "      <th>2</th>\n",
       "      <td>Encuentro de la @mlopscommunity en Madrid: \"ML...</td>\n",
       "      <td>Encuentro @mlopscommunity Madrid: \"MLOPs: trin...</td>\n",
       "      <td>1</td>\n",
       "      <td>0.784328</td>\n",
       "      <td>0.215672</td>\n",
       "    </tr>\n",
       "    <tr>\n",
       "      <th>3</th>\n",
       "      <td>@nodosenlared @snowded @TheBridge_Tech Muy bue...</td>\n",
       "      <td>@nodosenlared @snowded @TheBridge_Tech Muy bue...</td>\n",
       "      <td>0</td>\n",
       "      <td>0.456236</td>\n",
       "      <td>0.543764</td>\n",
       "    </tr>\n",
       "    <tr>\n",
       "      <th>4</th>\n",
       "      <td>@PauMugarra @ToniDorta @TheBridge_Tech https:/...</td>\n",
       "      <td>@PauMugarra @ToniDorta @TheBridge_Tech https:/...</td>\n",
       "      <td>0</td>\n",
       "      <td>0.452541</td>\n",
       "      <td>0.547459</td>\n",
       "    </tr>\n",
       "    <tr>\n",
       "      <th>...</th>\n",
       "      <td>...</td>\n",
       "      <td>...</td>\n",
       "      <td>...</td>\n",
       "      <td>...</td>\n",
       "      <td>...</td>\n",
       "    </tr>\n",
       "    <tr>\n",
       "      <th>123</th>\n",
       "      <td>@Cyber_Madrid  organiza el I Congreso de #Cibe...</td>\n",
       "      <td>@Cyber_Madrid organiza I Congreso #Ciberseguri...</td>\n",
       "      <td>0</td>\n",
       "      <td>0.399965</td>\n",
       "      <td>0.600035</td>\n",
       "    </tr>\n",
       "    <tr>\n",
       "      <th>124</th>\n",
       "      <td>🔵Acelera tu carrera digital con #BBKBootcamps....</td>\n",
       "      <td>🔵Acelera carrera digital #BBKBootcamps. Gracia...</td>\n",
       "      <td>1</td>\n",
       "      <td>0.609359</td>\n",
       "      <td>0.390641</td>\n",
       "    </tr>\n",
       "    <tr>\n",
       "      <th>125</th>\n",
       "      <td>Acelerando juntos el #talentodigital en España...</td>\n",
       "      <td>Acelerando juntos #talentodigital España. El p...</td>\n",
       "      <td>0</td>\n",
       "      <td>0.369253</td>\n",
       "      <td>0.630747</td>\n",
       "    </tr>\n",
       "    <tr>\n",
       "      <th>126</th>\n",
       "      <td>Ikasi gaur etorkizuneko lanbideak, izena eman ...</td>\n",
       "      <td>Ikasi gaur etorkizuneko lanbideak, izena eman ...</td>\n",
       "      <td>1</td>\n",
       "      <td>0.564481</td>\n",
       "      <td>0.435519</td>\n",
       "    </tr>\n",
       "    <tr>\n",
       "      <th>127</th>\n",
       "      <td>Aprende hoy las profesiones del futuro, ¡inscr...</td>\n",
       "      <td>Aprende hoy profesiones futuro, ¡inscríbete #B...</td>\n",
       "      <td>0</td>\n",
       "      <td>0.267533</td>\n",
       "      <td>0.732467</td>\n",
       "    </tr>\n",
       "  </tbody>\n",
       "</table>\n",
       "<p>128 rows × 5 columns</p>\n",
       "</div>"
      ],
      "text/plain": [
       "                                                Tweets  \\\n",
       "0    Las inscripciones se realizarán por Eventbrite...   \n",
       "1    ¡Por fin podemos publicar el cartel con los po...   \n",
       "2    Encuentro de la @mlopscommunity en Madrid: \"ML...   \n",
       "3    @nodosenlared @snowded @TheBridge_Tech Muy bue...   \n",
       "4    @PauMugarra @ToniDorta @TheBridge_Tech https:/...   \n",
       "..                                                 ...   \n",
       "123  @Cyber_Madrid  organiza el I Congreso de #Cibe...   \n",
       "124  🔵Acelera tu carrera digital con #BBKBootcamps....   \n",
       "125  Acelerando juntos el #talentodigital en España...   \n",
       "126  Ikasi gaur etorkizuneko lanbideak, izena eman ...   \n",
       "127  Aprende hoy las profesiones del futuro, ¡inscr...   \n",
       "\n",
       "                                                script  Feeling  Polarity_Pos  \\\n",
       "0    Las inscripciones realizarán Eventbrite. Cualq...        0      0.480983   \n",
       "1    ¡Por fin podemos publicar cartel ponentes #cyb...        1      0.596202   \n",
       "2    Encuentro @mlopscommunity Madrid: \"MLOPs: trin...        1      0.784328   \n",
       "3    @nodosenlared @snowded @TheBridge_Tech Muy bue...        0      0.456236   \n",
       "4    @PauMugarra @ToniDorta @TheBridge_Tech https:/...        0      0.452541   \n",
       "..                                                 ...      ...           ...   \n",
       "123  @Cyber_Madrid organiza I Congreso #Ciberseguri...        0      0.399965   \n",
       "124  🔵Acelera carrera digital #BBKBootcamps. Gracia...        1      0.609359   \n",
       "125  Acelerando juntos #talentodigital España. El p...        0      0.369253   \n",
       "126  Ikasi gaur etorkizuneko lanbideak, izena eman ...        1      0.564481   \n",
       "127  Aprende hoy profesiones futuro, ¡inscríbete #B...        0      0.267533   \n",
       "\n",
       "     Polarity_Neg  \n",
       "0        0.519017  \n",
       "1        0.403798  \n",
       "2        0.215672  \n",
       "3        0.543764  \n",
       "4        0.547459  \n",
       "..            ...  \n",
       "123      0.600035  \n",
       "124      0.390641  \n",
       "125      0.630747  \n",
       "126      0.435519  \n",
       "127      0.732467  \n",
       "\n",
       "[128 rows x 5 columns]"
      ]
     },
     "execution_count": 683,
     "metadata": {},
     "output_type": "execute_result"
    }
   ],
   "source": [
    "feeling = df[['Tweets','script','Feeling']]\n",
    "feeling['Polarity_Pos'] = predicions_proba[:,1]\n",
    "feeling['Polarity_Neg'] = predicions_proba[:,0]\n",
    "feeling"
   ]
  },
  {
   "cell_type": "code",
   "execution_count": 720,
   "metadata": {},
   "outputs": [
    {
     "data": {
      "text/html": [
       "<div>\n",
       "<style scoped>\n",
       "    .dataframe tbody tr th:only-of-type {\n",
       "        vertical-align: middle;\n",
       "    }\n",
       "\n",
       "    .dataframe tbody tr th {\n",
       "        vertical-align: top;\n",
       "    }\n",
       "\n",
       "    .dataframe thead th {\n",
       "        text-align: right;\n",
       "    }\n",
       "</style>\n",
       "<table border=\"1\" class=\"dataframe\">\n",
       "  <thead>\n",
       "    <tr style=\"text-align: right;\">\n",
       "      <th></th>\n",
       "      <th>Tweets</th>\n",
       "      <th>script</th>\n",
       "      <th>Feeling</th>\n",
       "      <th>Polarity_Pos</th>\n",
       "      <th>Polarity_Neg</th>\n",
       "    </tr>\n",
       "  </thead>\n",
       "  <tbody>\n",
       "    <tr>\n",
       "      <th>32</th>\n",
       "      <td>@jorgegrev was one of the reasons I got into c...</td>\n",
       "      <td>@jorgegrev was one of the reasons I got into c...</td>\n",
       "      <td>0</td>\n",
       "      <td>0.064907</td>\n",
       "      <td>0.935093</td>\n",
       "    </tr>\n",
       "    <tr>\n",
       "      <th>17</th>\n",
       "      <td>Gracias a nuestros amigos @TheBridge_Tech por ...</td>\n",
       "      <td>Gracias amigos @TheBridge_Tech acogernos ayer ...</td>\n",
       "      <td>0</td>\n",
       "      <td>0.080718</td>\n",
       "      <td>0.919282</td>\n",
       "    </tr>\n",
       "    <tr>\n",
       "      <th>45</th>\n",
       "      <td>Un buen resumen de mi charla de ayer sobre vul...</td>\n",
       "      <td>Un buen resumen charla ayer vulnerabilidades p...</td>\n",
       "      <td>0</td>\n",
       "      <td>0.083317</td>\n",
       "      <td>0.916683</td>\n",
       "    </tr>\n",
       "    <tr>\n",
       "      <th>69</th>\n",
       "      <td>HOY #masterclass de #UXUI Introducción al dise...</td>\n",
       "      <td>HOY #masterclass #UXUI Introducción diseño #pr...</td>\n",
       "      <td>0</td>\n",
       "      <td>0.137248</td>\n",
       "      <td>0.862752</td>\n",
       "    </tr>\n",
       "    <tr>\n",
       "      <th>21</th>\n",
       "      <td>Un placer asistir ayer al \"Taller UX/UI - Cómo...</td>\n",
       "      <td>Un placer asistir ayer \"Taller UX/UI - Cómo ma...</td>\n",
       "      <td>0</td>\n",
       "      <td>0.210273</td>\n",
       "      <td>0.789727</td>\n",
       "    </tr>\n",
       "    <tr>\n",
       "      <th>...</th>\n",
       "      <td>...</td>\n",
       "      <td>...</td>\n",
       "      <td>...</td>\n",
       "      <td>...</td>\n",
       "      <td>...</td>\n",
       "    </tr>\n",
       "    <tr>\n",
       "      <th>93</th>\n",
       "      <td>Tras la presentación de la nueva edición de #B...</td>\n",
       "      <td>Tras presentación nueva edición #BBKBootcamps ...</td>\n",
       "      <td>1</td>\n",
       "      <td>0.873392</td>\n",
       "      <td>0.126608</td>\n",
       "    </tr>\n",
       "    <tr>\n",
       "      <th>122</th>\n",
       "      <td>☕ Miércoles 30 NOV 9:00 @BAT_Tower Desayuno: L...</td>\n",
       "      <td>☕ Miércoles 30 NOV 9:00 @BAT_Tower Desayuno: L...</td>\n",
       "      <td>1</td>\n",
       "      <td>0.882496</td>\n",
       "      <td>0.117504</td>\n",
       "    </tr>\n",
       "    <tr>\n",
       "      <th>39</th>\n",
       "      <td>Advanced #Cynefin, Estuarine mapping &amp;amp; EUF...</td>\n",
       "      <td>Advanced #Cynefin, Estuarine mapping &amp;amp; EUF...</td>\n",
       "      <td>1</td>\n",
       "      <td>0.894211</td>\n",
       "      <td>0.105789</td>\n",
       "    </tr>\n",
       "    <tr>\n",
       "      <th>65</th>\n",
       "      <td>Advanced #Cynefin, Estuarine mapping &amp;amp; EUF...</td>\n",
       "      <td>Advanced #Cynefin, Estuarine mapping &amp;amp; EUF...</td>\n",
       "      <td>1</td>\n",
       "      <td>0.894211</td>\n",
       "      <td>0.105789</td>\n",
       "    </tr>\n",
       "    <tr>\n",
       "      <th>77</th>\n",
       "      <td>🤝 @EDEMempresarios se alía con @TheBridge_Tech...</td>\n",
       "      <td>🤝 @EDEMempresarios alía @TheBridge_Tech impart...</td>\n",
       "      <td>1</td>\n",
       "      <td>0.938823</td>\n",
       "      <td>0.061177</td>\n",
       "    </tr>\n",
       "  </tbody>\n",
       "</table>\n",
       "<p>128 rows × 5 columns</p>\n",
       "</div>"
      ],
      "text/plain": [
       "                                                Tweets  \\\n",
       "32   @jorgegrev was one of the reasons I got into c...   \n",
       "17   Gracias a nuestros amigos @TheBridge_Tech por ...   \n",
       "45   Un buen resumen de mi charla de ayer sobre vul...   \n",
       "69   HOY #masterclass de #UXUI Introducción al dise...   \n",
       "21   Un placer asistir ayer al \"Taller UX/UI - Cómo...   \n",
       "..                                                 ...   \n",
       "93   Tras la presentación de la nueva edición de #B...   \n",
       "122  ☕ Miércoles 30 NOV 9:00 @BAT_Tower Desayuno: L...   \n",
       "39   Advanced #Cynefin, Estuarine mapping &amp; EUF...   \n",
       "65   Advanced #Cynefin, Estuarine mapping &amp; EUF...   \n",
       "77   🤝 @EDEMempresarios se alía con @TheBridge_Tech...   \n",
       "\n",
       "                                                script  Feeling  Polarity_Pos  \\\n",
       "32   @jorgegrev was one of the reasons I got into c...        0      0.064907   \n",
       "17   Gracias amigos @TheBridge_Tech acogernos ayer ...        0      0.080718   \n",
       "45   Un buen resumen charla ayer vulnerabilidades p...        0      0.083317   \n",
       "69   HOY #masterclass #UXUI Introducción diseño #pr...        0      0.137248   \n",
       "21   Un placer asistir ayer \"Taller UX/UI - Cómo ma...        0      0.210273   \n",
       "..                                                 ...      ...           ...   \n",
       "93   Tras presentación nueva edición #BBKBootcamps ...        1      0.873392   \n",
       "122  ☕ Miércoles 30 NOV 9:00 @BAT_Tower Desayuno: L...        1      0.882496   \n",
       "39   Advanced #Cynefin, Estuarine mapping &amp; EUF...        1      0.894211   \n",
       "65   Advanced #Cynefin, Estuarine mapping &amp; EUF...        1      0.894211   \n",
       "77   🤝 @EDEMempresarios alía @TheBridge_Tech impart...        1      0.938823   \n",
       "\n",
       "     Polarity_Neg  \n",
       "32       0.935093  \n",
       "17       0.919282  \n",
       "45       0.916683  \n",
       "69       0.862752  \n",
       "21       0.789727  \n",
       "..            ...  \n",
       "93       0.126608  \n",
       "122      0.117504  \n",
       "39       0.105789  \n",
       "65       0.105789  \n",
       "77       0.061177  \n",
       "\n",
       "[128 rows x 5 columns]"
      ]
     },
     "execution_count": 720,
     "metadata": {},
     "output_type": "execute_result"
    }
   ],
   "source": [
    "neg = feeling.sort_values(by='Polarity_Neg',ascending=False)\n",
    "neg"
   ]
  },
  {
   "cell_type": "code",
   "execution_count": 721,
   "metadata": {},
   "outputs": [
    {
     "data": {
      "text/html": [
       "<div>\n",
       "<style scoped>\n",
       "    .dataframe tbody tr th:only-of-type {\n",
       "        vertical-align: middle;\n",
       "    }\n",
       "\n",
       "    .dataframe tbody tr th {\n",
       "        vertical-align: top;\n",
       "    }\n",
       "\n",
       "    .dataframe thead th {\n",
       "        text-align: right;\n",
       "    }\n",
       "</style>\n",
       "<table border=\"1\" class=\"dataframe\">\n",
       "  <thead>\n",
       "    <tr style=\"text-align: right;\">\n",
       "      <th></th>\n",
       "      <th>Tweets</th>\n",
       "      <th>script</th>\n",
       "      <th>Feeling</th>\n",
       "      <th>Polarity_Pos</th>\n",
       "      <th>Polarity_Neg</th>\n",
       "    </tr>\n",
       "  </thead>\n",
       "  <tbody>\n",
       "    <tr>\n",
       "      <th>77</th>\n",
       "      <td>🤝 @EDEMempresarios se alía con @TheBridge_Tech...</td>\n",
       "      <td>🤝 @EDEMempresarios alía @TheBridge_Tech impart...</td>\n",
       "      <td>1</td>\n",
       "      <td>0.938823</td>\n",
       "      <td>0.061177</td>\n",
       "    </tr>\n",
       "    <tr>\n",
       "      <th>65</th>\n",
       "      <td>Advanced #Cynefin, Estuarine mapping &amp;amp; EUF...</td>\n",
       "      <td>Advanced #Cynefin, Estuarine mapping &amp;amp; EUF...</td>\n",
       "      <td>1</td>\n",
       "      <td>0.894211</td>\n",
       "      <td>0.105789</td>\n",
       "    </tr>\n",
       "    <tr>\n",
       "      <th>39</th>\n",
       "      <td>Advanced #Cynefin, Estuarine mapping &amp;amp; EUF...</td>\n",
       "      <td>Advanced #Cynefin, Estuarine mapping &amp;amp; EUF...</td>\n",
       "      <td>1</td>\n",
       "      <td>0.894211</td>\n",
       "      <td>0.105789</td>\n",
       "    </tr>\n",
       "    <tr>\n",
       "      <th>122</th>\n",
       "      <td>☕ Miércoles 30 NOV 9:00 @BAT_Tower Desayuno: L...</td>\n",
       "      <td>☕ Miércoles 30 NOV 9:00 @BAT_Tower Desayuno: L...</td>\n",
       "      <td>1</td>\n",
       "      <td>0.882496</td>\n",
       "      <td>0.117504</td>\n",
       "    </tr>\n",
       "    <tr>\n",
       "      <th>93</th>\n",
       "      <td>Tras la presentación de la nueva edición de #B...</td>\n",
       "      <td>Tras presentación nueva edición #BBKBootcamps ...</td>\n",
       "      <td>1</td>\n",
       "      <td>0.873392</td>\n",
       "      <td>0.126608</td>\n",
       "    </tr>\n",
       "    <tr>\n",
       "      <th>...</th>\n",
       "      <td>...</td>\n",
       "      <td>...</td>\n",
       "      <td>...</td>\n",
       "      <td>...</td>\n",
       "      <td>...</td>\n",
       "    </tr>\n",
       "    <tr>\n",
       "      <th>21</th>\n",
       "      <td>Un placer asistir ayer al \"Taller UX/UI - Cómo...</td>\n",
       "      <td>Un placer asistir ayer \"Taller UX/UI - Cómo ma...</td>\n",
       "      <td>0</td>\n",
       "      <td>0.210273</td>\n",
       "      <td>0.789727</td>\n",
       "    </tr>\n",
       "    <tr>\n",
       "      <th>69</th>\n",
       "      <td>HOY #masterclass de #UXUI Introducción al dise...</td>\n",
       "      <td>HOY #masterclass #UXUI Introducción diseño #pr...</td>\n",
       "      <td>0</td>\n",
       "      <td>0.137248</td>\n",
       "      <td>0.862752</td>\n",
       "    </tr>\n",
       "    <tr>\n",
       "      <th>45</th>\n",
       "      <td>Un buen resumen de mi charla de ayer sobre vul...</td>\n",
       "      <td>Un buen resumen charla ayer vulnerabilidades p...</td>\n",
       "      <td>0</td>\n",
       "      <td>0.083317</td>\n",
       "      <td>0.916683</td>\n",
       "    </tr>\n",
       "    <tr>\n",
       "      <th>17</th>\n",
       "      <td>Gracias a nuestros amigos @TheBridge_Tech por ...</td>\n",
       "      <td>Gracias amigos @TheBridge_Tech acogernos ayer ...</td>\n",
       "      <td>0</td>\n",
       "      <td>0.080718</td>\n",
       "      <td>0.919282</td>\n",
       "    </tr>\n",
       "    <tr>\n",
       "      <th>32</th>\n",
       "      <td>@jorgegrev was one of the reasons I got into c...</td>\n",
       "      <td>@jorgegrev was one of the reasons I got into c...</td>\n",
       "      <td>0</td>\n",
       "      <td>0.064907</td>\n",
       "      <td>0.935093</td>\n",
       "    </tr>\n",
       "  </tbody>\n",
       "</table>\n",
       "<p>128 rows × 5 columns</p>\n",
       "</div>"
      ],
      "text/plain": [
       "                                                Tweets  \\\n",
       "77   🤝 @EDEMempresarios se alía con @TheBridge_Tech...   \n",
       "65   Advanced #Cynefin, Estuarine mapping &amp; EUF...   \n",
       "39   Advanced #Cynefin, Estuarine mapping &amp; EUF...   \n",
       "122  ☕ Miércoles 30 NOV 9:00 @BAT_Tower Desayuno: L...   \n",
       "93   Tras la presentación de la nueva edición de #B...   \n",
       "..                                                 ...   \n",
       "21   Un placer asistir ayer al \"Taller UX/UI - Cómo...   \n",
       "69   HOY #masterclass de #UXUI Introducción al dise...   \n",
       "45   Un buen resumen de mi charla de ayer sobre vul...   \n",
       "17   Gracias a nuestros amigos @TheBridge_Tech por ...   \n",
       "32   @jorgegrev was one of the reasons I got into c...   \n",
       "\n",
       "                                                script  Feeling  Polarity_Pos  \\\n",
       "77   🤝 @EDEMempresarios alía @TheBridge_Tech impart...        1      0.938823   \n",
       "65   Advanced #Cynefin, Estuarine mapping &amp; EUF...        1      0.894211   \n",
       "39   Advanced #Cynefin, Estuarine mapping &amp; EUF...        1      0.894211   \n",
       "122  ☕ Miércoles 30 NOV 9:00 @BAT_Tower Desayuno: L...        1      0.882496   \n",
       "93   Tras presentación nueva edición #BBKBootcamps ...        1      0.873392   \n",
       "..                                                 ...      ...           ...   \n",
       "21   Un placer asistir ayer \"Taller UX/UI - Cómo ma...        0      0.210273   \n",
       "69   HOY #masterclass #UXUI Introducción diseño #pr...        0      0.137248   \n",
       "45   Un buen resumen charla ayer vulnerabilidades p...        0      0.083317   \n",
       "17   Gracias amigos @TheBridge_Tech acogernos ayer ...        0      0.080718   \n",
       "32   @jorgegrev was one of the reasons I got into c...        0      0.064907   \n",
       "\n",
       "     Polarity_Neg  \n",
       "77       0.061177  \n",
       "65       0.105789  \n",
       "39       0.105789  \n",
       "122      0.117504  \n",
       "93       0.126608  \n",
       "..            ...  \n",
       "21       0.789727  \n",
       "69       0.862752  \n",
       "45       0.916683  \n",
       "17       0.919282  \n",
       "32       0.935093  \n",
       "\n",
       "[128 rows x 5 columns]"
      ]
     },
     "execution_count": 721,
     "metadata": {},
     "output_type": "execute_result"
    }
   ],
   "source": [
    "pos = feeling.sort_values(by='Polarity_Pos',ascending=False)\n",
    "pos"
   ]
  },
  {
   "cell_type": "code",
   "execution_count": 718,
   "metadata": {},
   "outputs": [
    {
     "data": {
      "text/plain": [
       "<seaborn.axisgrid.FacetGrid at 0x294110610>"
      ]
     },
     "execution_count": 718,
     "metadata": {},
     "output_type": "execute_result"
    },
    {
     "data": {
      "image/png": "[encoded data removed]",
      "text/plain": [
       "<Figure size 500x500 with 1 Axes>"
      ]
     },
     "metadata": {},
     "output_type": "display_data"
    }
   ],
   "source": [
    "sns.displot(feeling['Polarity_Pos'])"
   ]
  },
  {
   "cell_type": "code",
   "execution_count": 719,
   "metadata": {},
   "outputs": [
    {
     "data": {
      "text/plain": [
       "<seaborn.axisgrid.FacetGrid at 0x29413b310>"
      ]
     },
     "execution_count": 719,
     "metadata": {},
     "output_type": "execute_result"
    },
    {
     "data": {
      "image/png": "[encoded data removed]",
      "text/plain": [
       "<Figure size 500x500 with 1 Axes>"
      ]
     },
     "metadata": {},
     "output_type": "display_data"
    }
   ],
   "source": [
    "sns.displot(feeling['Polarity_Neg'])"
   ]
  },
  {
   "cell_type": "code",
   "execution_count": 705,
   "metadata": {},
   "outputs": [
    {
     "data": {
      "application/vnd.plotly.v1+json": {
       "config": {
        "plotlyServerURL": "https://plot.ly"
       },
       "data": [
        {
         "alignmentgroup": "True",
         "bingroup": "x",
         "hovertemplate": "variable=Polarity_Pos<br>value=%{x}<br>count=%{y}<extra></extra>",
         "legendgroup": "Polarity_Pos",
         "marker": {
          "color": "#636efa",
          "pattern": {
           "shape": ""
          }
         },
         "name": "Polarity_Pos",
         "offsetgroup": "Polarity_Pos",
         "orientation": "v",
         "showlegend": true,
         "type": "histogram",
         "x": [
          0.48098306450922534,
          0.5962024129773692,
          0.7843283244343985,
          0.45623623320449286,
          0.4525414729163467,
          0.4847044426214387,
          0.2675328543859511,
          0.48543919171583355,
          0.4123993910372812,
          0.4525414729163467,
          0.568832612617383,
          0.4525414729163467,
          0.5216450104864883,
          0.29971152326081335,
          0.76744593422478,
          0.5500366232200388,
          0.4525414729163467,
          0.0807180383701254,
          0.5571036364827053,
          0.4896672842292354,
          0.4727511219470093,
          0.21027331437453511,
          0.4525414729163467,
          0.4525414729163467,
          0.4525414729163467,
          0.4525414729163467,
          0.6093587550054993,
          0.3885396421385786,
          0.396394115821735,
          0.396394115821735,
          0.396394115821735,
          0.3279062762425413,
          0.06490736646114748,
          0.3791655309030184,
          0.7256190729080998,
          0.43624748188203144,
          0.4145605648025351,
          0.4525414729163467,
          0.4123993910372812,
          0.8942105160292666,
          0.34010534574736884,
          0.5110090983715632,
          0.3850049448297368,
          0.8442024038278868,
          0.5690777639684548,
          0.08331693720589582,
          0.4525414729163467,
          0.6093587550054993,
          0.6831454444166735,
          0.4525414729163467,
          0.7635656707432933,
          0.4525414729163467,
          0.6093587550054993,
          0.45623623320449286,
          0.3664052452092707,
          0.7375287558219384,
          0.4525414729163467,
          0.4525414729163467,
          0.8197076953386552,
          0.4525414729163467,
          0.4525414729163467,
          0.5300299234997702,
          0.6129004676146421,
          0.4525414729163467,
          0.5480115237697868,
          0.8942105160292666,
          0.4517768149638513,
          0.4525414729163467,
          0.47759740101921855,
          0.1372482937260594,
          0.24049365599775846,
          0.8512544020893308,
          0.7196892221918256,
          0.48098306450922534,
          0.4469731972564181,
          0.5661177922086217,
          0.25874410463049696,
          0.9388232221739491,
          0.5353508795186595,
          0.4727511219470093,
          0.4599358161197667,
          0.8224792958576536,
          0.48098306450922534,
          0.863406151573221,
          0.2886676955813204,
          0.48098306450922534,
          0.6129004676146421,
          0.6093587550054993,
          0.4525414729163467,
          0.48986243647947586,
          0.3850049448297368,
          0.7464263142945772,
          0.853267113263064,
          0.8733918151441833,
          0.4816756148839392,
          0.7886874197351489,
          0.3367216452303188,
          0.4525414729163467,
          0.7653221711735777,
          0.7035875367331383,
          0.6093587550054993,
          0.7487653619816469,
          0.736543191780239,
          0.41066049474563243,
          0.4525414729163467,
          0.4525414729163467,
          0.7683302421459349,
          0.48986243647947586,
          0.6987563790477037,
          0.6160723178523233,
          0.779519191606558,
          0.3221020184225814,
          0.8635248835801679,
          0.4706823330964262,
          0.4525414729163467,
          0.647878029380276,
          0.4808993402537605,
          0.6373502534380645,
          0.6927676312615534,
          0.5415705222929792,
          0.48098306450922534,
          0.48098306450922534,
          0.8824955498932022,
          0.39996537301584933,
          0.6093587550054993,
          0.3692528994321556,
          0.5644811926092145,
          0.2675328543859511
         ],
         "xaxis": "x",
         "yaxis": "y"
        },
        {
         "alignmentgroup": "True",
         "boxpoints": "all",
         "fillcolor": "rgba(255,255,255,0)",
         "hoveron": "points",
         "hovertemplate": "variable=Polarity_Pos<br>value=%{x}<extra></extra>",
         "jitter": 0,
         "legendgroup": "Polarity_Pos",
         "line": {
          "color": "rgba(255,255,255,0)"
         },
         "marker": {
          "color": "#636efa",
          "symbol": "line-ns-open"
         },
         "name": "Polarity_Pos",
         "offsetgroup": "Polarity_Pos",
         "showlegend": false,
         "type": "box",
         "x": [
          0.48098306450922534,
          0.5962024129773692,
          0.7843283244343985,
          0.45623623320449286,
          0.4525414729163467,
          0.4847044426214387,
          0.2675328543859511,
          0.48543919171583355,
          0.4123993910372812,
          0.4525414729163467,
          0.568832612617383,
          0.4525414729163467,
          0.5216450104864883,
          0.29971152326081335,
          0.76744593422478,
          0.5500366232200388,
          0.4525414729163467,
          0.0807180383701254,
          0.5571036364827053,
          0.4896672842292354,
          0.4727511219470093,
          0.21027331437453511,
          0.4525414729163467,
          0.4525414729163467,
          0.4525414729163467,
          0.4525414729163467,
          0.6093587550054993,
          0.3885396421385786,
          0.396394115821735,
          0.396394115821735,
          0.396394115821735,
          0.3279062762425413,
          0.06490736646114748,
          0.3791655309030184,
          0.7256190729080998,
          0.43624748188203144,
          0.4145605648025351,
          0.4525414729163467,
          0.4123993910372812,
          0.8942105160292666,
          0.34010534574736884,
          0.5110090983715632,
          0.3850049448297368,
          0.8442024038278868,
          0.5690777639684548,
          0.08331693720589582,
          0.4525414729163467,
          0.6093587550054993,
          0.6831454444166735,
          0.4525414729163467,
          0.7635656707432933,
          0.4525414729163467,
          0.6093587550054993,
          0.45623623320449286,
          0.3664052452092707,
          0.7375287558219384,
          0.4525414729163467,
          0.4525414729163467,
          0.8197076953386552,
          0.4525414729163467,
          0.4525414729163467,
          0.5300299234997702,
          0.6129004676146421,
          0.4525414729163467,
          0.5480115237697868,
          0.8942105160292666,
          0.4517768149638513,
          0.4525414729163467,
          0.47759740101921855,
          0.1372482937260594,
          0.24049365599775846,
          0.8512544020893308,
          0.7196892221918256,
          0.48098306450922534,
          0.4469731972564181,
          0.5661177922086217,
          0.25874410463049696,
          0.9388232221739491,
          0.5353508795186595,
          0.4727511219470093,
          0.4599358161197667,
          0.8224792958576536,
          0.48098306450922534,
          0.863406151573221,
          0.2886676955813204,
          0.48098306450922534,
          0.6129004676146421,
          0.6093587550054993,
          0.4525414729163467,
          0.48986243647947586,
          0.3850049448297368,
          0.7464263142945772,
          0.853267113263064,
          0.8733918151441833,
          0.4816756148839392,
          0.7886874197351489,
          0.3367216452303188,
          0.4525414729163467,
          0.7653221711735777,
          0.7035875367331383,
          0.6093587550054993,
          0.7487653619816469,
          0.736543191780239,
          0.41066049474563243,
          0.4525414729163467,
          0.4525414729163467,
          0.7683302421459349,
          0.48986243647947586,
          0.6987563790477037,
          0.6160723178523233,
          0.779519191606558,
          0.3221020184225814,
          0.8635248835801679,
          0.4706823330964262,
          0.4525414729163467,
          0.647878029380276,
          0.4808993402537605,
          0.6373502534380645,
          0.6927676312615534,
          0.5415705222929792,
          0.48098306450922534,
          0.48098306450922534,
          0.8824955498932022,
          0.39996537301584933,
          0.6093587550054993,
          0.3692528994321556,
          0.5644811926092145,
          0.2675328543859511
         ],
         "xaxis": "x2",
         "yaxis": "y2"
        },
        {
         "alignmentgroup": "True",
         "bingroup": "x",
         "hovertemplate": "variable=Polarity_Neg<br>value=%{x}<br>count=%{y}<extra></extra>",
         "legendgroup": "Polarity_Neg",
         "marker": {
          "color": "#EF553B",
          "pattern": {
           "shape": ""
          }
         },
         "name": "Polarity_Neg",
         "offsetgroup": "Polarity_Neg",
         "orientation": "v",
         "showlegend": true,
         "type": "histogram",
         "x": [
          0.5190169354907747,
          0.4037975870226308,
          0.21567167556560152,
          0.5437637667955071,
          0.5474585270836533,
          0.5152955573785614,
          0.7324671456140489,
          0.5145608082841664,
          0.5876006089627188,
          0.5474585270836533,
          0.43116738738261695,
          0.5474585270836533,
          0.47835498951351174,
          0.7002884767391866,
          0.23255406577521998,
          0.44996337677996123,
          0.5474585270836533,
          0.9192819616298746,
          0.44289636351729467,
          0.5103327157707647,
          0.5272488780529907,
          0.7897266856254649,
          0.5474585270836533,
          0.5474585270836533,
          0.5474585270836533,
          0.5474585270836533,
          0.3906412449945007,
          0.6114603578614214,
          0.603605884178265,
          0.603605884178265,
          0.603605884178265,
          0.6720937237574587,
          0.9350926335388525,
          0.6208344690969816,
          0.2743809270919002,
          0.5637525181179686,
          0.5854394351974649,
          0.5474585270836533,
          0.5876006089627188,
          0.1057894839707334,
          0.6598946542526312,
          0.48899090162843684,
          0.6149950551702632,
          0.1557975961721132,
          0.4309222360315452,
          0.9166830627941042,
          0.5474585270836533,
          0.3906412449945007,
          0.31685455558332654,
          0.5474585270836533,
          0.2364343292567067,
          0.5474585270836533,
          0.3906412449945007,
          0.5437637667955071,
          0.6335947547907292,
          0.26247124417806156,
          0.5474585270836533,
          0.5474585270836533,
          0.18029230466134483,
          0.5474585270836533,
          0.5474585270836533,
          0.4699700765002298,
          0.3870995323853579,
          0.5474585270836533,
          0.4519884762302132,
          0.1057894839707334,
          0.5482231850361488,
          0.5474585270836533,
          0.5224025989807815,
          0.8627517062739406,
          0.7595063440022416,
          0.14874559791066921,
          0.28031077780817437,
          0.5190169354907747,
          0.5530268027435818,
          0.4338822077913783,
          0.741255895369503,
          0.06117677782605091,
          0.46464912048134055,
          0.5272488780529907,
          0.5400641838802334,
          0.17752070414234644,
          0.5190169354907747,
          0.13659384842677902,
          0.7113323044186797,
          0.5190169354907747,
          0.3870995323853579,
          0.3906412449945007,
          0.5474585270836533,
          0.5101375635205241,
          0.6149950551702632,
          0.2535736857054228,
          0.14673288673693596,
          0.1266081848558167,
          0.5183243851160608,
          0.2113125802648511,
          0.6632783547696812,
          0.5474585270836533,
          0.2346778288264223,
          0.29641246326686166,
          0.3906412449945007,
          0.2512346380183531,
          0.26345680821976103,
          0.5893395052543675,
          0.5474585270836533,
          0.5474585270836533,
          0.23166975785406507,
          0.5101375635205241,
          0.3012436209522963,
          0.3839276821476767,
          0.22048080839344197,
          0.6778979815774187,
          0.13647511641983212,
          0.5293176669035737,
          0.5474585270836533,
          0.35212197061972395,
          0.5191006597462395,
          0.3626497465619355,
          0.3072323687384466,
          0.4584294777070208,
          0.5190169354907747,
          0.5190169354907747,
          0.11750445010679778,
          0.6000346269841507,
          0.3906412449945007,
          0.6307471005678444,
          0.4355188073907855,
          0.7324671456140489
         ],
         "xaxis": "x",
         "yaxis": "y"
        },
        {
         "alignmentgroup": "True",
         "boxpoints": "all",
         "fillcolor": "rgba(255,255,255,0)",
         "hoveron": "points",
         "hovertemplate": "variable=Polarity_Neg<br>value=%{x}<extra></extra>",
         "jitter": 0,
         "legendgroup": "Polarity_Neg",
         "line": {
          "color": "rgba(255,255,255,0)"
         },
         "marker": {
          "color": "#EF553B",
          "symbol": "line-ns-open"
         },
         "name": "Polarity_Neg",
         "offsetgroup": "Polarity_Neg",
         "showlegend": false,
         "type": "box",
         "x": [
          0.5190169354907747,
          0.4037975870226308,
          0.21567167556560152,
          0.5437637667955071,
          0.5474585270836533,
          0.5152955573785614,
          0.7324671456140489,
          0.5145608082841664,
          0.5876006089627188,
          0.5474585270836533,
          0.43116738738261695,
          0.5474585270836533,
          0.47835498951351174,
          0.7002884767391866,
          0.23255406577521998,
          0.44996337677996123,
          0.5474585270836533,
          0.9192819616298746,
          0.44289636351729467,
          0.5103327157707647,
          0.5272488780529907,
          0.7897266856254649,
          0.5474585270836533,
          0.5474585270836533,
          0.5474585270836533,
          0.5474585270836533,
          0.3906412449945007,
          0.6114603578614214,
          0.603605884178265,
          0.603605884178265,
          0.603605884178265,
          0.6720937237574587,
          0.9350926335388525,
          0.6208344690969816,
          0.2743809270919002,
          0.5637525181179686,
          0.5854394351974649,
          0.5474585270836533,
          0.5876006089627188,
          0.1057894839707334,
          0.6598946542526312,
          0.48899090162843684,
          0.6149950551702632,
          0.1557975961721132,
          0.4309222360315452,
          0.9166830627941042,
          0.5474585270836533,
          0.3906412449945007,
          0.31685455558332654,
          0.5474585270836533,
          0.2364343292567067,
          0.5474585270836533,
          0.3906412449945007,
          0.5437637667955071,
          0.6335947547907292,
          0.26247124417806156,
          0.5474585270836533,
          0.5474585270836533,
          0.18029230466134483,
          0.5474585270836533,
          0.5474585270836533,
          0.4699700765002298,
          0.3870995323853579,
          0.5474585270836533,
          0.4519884762302132,
          0.1057894839707334,
          0.5482231850361488,
          0.5474585270836533,
          0.5224025989807815,
          0.8627517062739406,
          0.7595063440022416,
          0.14874559791066921,
          0.28031077780817437,
          0.5190169354907747,
          0.5530268027435818,
          0.4338822077913783,
          0.741255895369503,
          0.06117677782605091,
          0.46464912048134055,
          0.5272488780529907,
          0.5400641838802334,
          0.17752070414234644,
          0.5190169354907747,
          0.13659384842677902,
          0.7113323044186797,
          0.5190169354907747,
          0.3870995323853579,
          0.3906412449945007,
          0.5474585270836533,
          0.5101375635205241,
          0.6149950551702632,
          0.2535736857054228,
          0.14673288673693596,
          0.1266081848558167,
          0.5183243851160608,
          0.2113125802648511,
          0.6632783547696812,
          0.5474585270836533,
          0.2346778288264223,
          0.29641246326686166,
          0.3906412449945007,
          0.2512346380183531,
          0.26345680821976103,
          0.5893395052543675,
          0.5474585270836533,
          0.5474585270836533,
          0.23166975785406507,
          0.5101375635205241,
          0.3012436209522963,
          0.3839276821476767,
          0.22048080839344197,
          0.6778979815774187,
          0.13647511641983212,
          0.5293176669035737,
          0.5474585270836533,
          0.35212197061972395,
          0.5191006597462395,
          0.3626497465619355,
          0.3072323687384466,
          0.4584294777070208,
          0.5190169354907747,
          0.5190169354907747,
          0.11750445010679778,
          0.6000346269841507,
          0.3906412449945007,
          0.6307471005678444,
          0.4355188073907855,
          0.7324671456140489
         ],
         "xaxis": "x2",
         "yaxis": "y2"
        }
       ],
       "layout": {
        "barmode": "relative",
        "legend": {
         "title": {
          "text": "variable"
         },
         "tracegroupgap": 0
        },
        "margin": {
         "t": 60
        },
        "template": {
         "data": {
          "bar": [
           {
            "error_x": {
             "color": "#2a3f5f"
            },
            "error_y": {
             "color": "#2a3f5f"
            },
            "marker": {
             "line": {
              "color": "#E5ECF6",
              "width": 0.5
             },
             "pattern": {
              "fillmode": "overlay",
              "size": 10,
              "solidity": 0.2
             }
            },
            "type": "bar"
           }
          ],
          "barpolar": [
           {
            "marker": {
             "line": {
              "color": "#E5ECF6",
              "width": 0.5
             },
             "pattern": {
              "fillmode": "overlay",
              "size": 10,
              "solidity": 0.2
             }
            },
            "type": "barpolar"
           }
          ],
          "carpet": [
           {
            "aaxis": {
             "endlinecolor": "#2a3f5f",
             "gridcolor": "white",
             "linecolor": "white",
             "minorgridcolor": "white",
             "startlinecolor": "#2a3f5f"
            },
            "baxis": {
             "endlinecolor": "#2a3f5f",
             "gridcolor": "white",
             "linecolor": "white",
             "minorgridcolor": "white",
             "startlinecolor": "#2a3f5f"
            },
            "type": "carpet"
           }
          ],
          "choropleth": [
           {
            "colorbar": {
             "outlinewidth": 0,
             "ticks": ""
            },
            "type": "choropleth"
           }
          ],
          "contour": [
           {
            "colorbar": {
             "outlinewidth": 0,
             "ticks": ""
            },
            "colorscale": [
             [
              0,
              "#0d0887"
             ],
             [
              0.1111111111111111,
              "#46039f"
             ],
             [
              0.2222222222222222,
              "#7201a8"
             ],
             [
              0.3333333333333333,
              "#9c179e"
             ],
             [
              0.4444444444444444,
              "#bd3786"
             ],
             [
              0.5555555555555556,
              "#d8576b"
             ],
             [
              0.6666666666666666,
              "#ed7953"
             ],
             [
              0.7777777777777778,
              "#fb9f3a"
             ],
             [
              0.8888888888888888,
              "#fdca26"
             ],
             [
              1,
              "#f0f921"
             ]
            ],
            "type": "contour"
           }
          ],
          "contourcarpet": [
           {
            "colorbar": {
             "outlinewidth": 0,
             "ticks": ""
            },
            "type": "contourcarpet"
           }
          ],
          "heatmap": [
           {
            "colorbar": {
             "outlinewidth": 0,
             "ticks": ""
            },
            "colorscale": [
             [
              0,
              "#0d0887"
             ],
             [
              0.1111111111111111,
              "#46039f"
             ],
             [
              0.2222222222222222,
              "#7201a8"
             ],
             [
              0.3333333333333333,
              "#9c179e"
             ],
             [
              0.4444444444444444,
              "#bd3786"
             ],
             [
              0.5555555555555556,
              "#d8576b"
             ],
             [
              0.6666666666666666,
              "#ed7953"
             ],
             [
              0.7777777777777778,
              "#fb9f3a"
             ],
             [
              0.8888888888888888,
              "#fdca26"
             ],
             [
              1,
              "#f0f921"
             ]
            ],
            "type": "heatmap"
           }
          ],
          "heatmapgl": [
           {
            "colorbar": {
             "outlinewidth": 0,
             "ticks": ""
            },
            "colorscale": [
             [
              0,
              "#0d0887"
             ],
             [
              0.1111111111111111,
              "#46039f"
             ],
             [
              0.2222222222222222,
              "#7201a8"
             ],
             [
              0.3333333333333333,
              "#9c179e"
             ],
             [
              0.4444444444444444,
              "#bd3786"
             ],
             [
              0.5555555555555556,
              "#d8576b"
             ],
             [
              0.6666666666666666,
              "#ed7953"
             ],
             [
              0.7777777777777778,
              "#fb9f3a"
             ],
             [
              0.8888888888888888,
              "#fdca26"
             ],
             [
              1,
              "#f0f921"
             ]
            ],
            "type": "heatmapgl"
           }
          ],
          "histogram": [
           {
            "marker": {
             "pattern": {
              "fillmode": "overlay",
              "size": 10,
              "solidity": 0.2
             }
            },
            "type": "histogram"
           }
          ],
          "histogram2d": [
           {
            "colorbar": {
             "outlinewidth": 0,
             "ticks": ""
            },
            "colorscale": [
             [
              0,
              "#0d0887"
             ],
             [
              0.1111111111111111,
              "#46039f"
             ],
             [
              0.2222222222222222,
              "#7201a8"
             ],
             [
              0.3333333333333333,
              "#9c179e"
             ],
             [
              0.4444444444444444,
              "#bd3786"
             ],
             [
              0.5555555555555556,
              "#d8576b"
             ],
             [
              0.6666666666666666,
              "#ed7953"
             ],
             [
              0.7777777777777778,
              "#fb9f3a"
             ],
             [
              0.8888888888888888,
              "#fdca26"
             ],
             [
              1,
              "#f0f921"
             ]
            ],
            "type": "histogram2d"
           }
          ],
          "histogram2dcontour": [
           {
            "colorbar": {
             "outlinewidth": 0,
             "ticks": ""
            },
            "colorscale": [
             [
              0,
              "#0d0887"
             ],
             [
              0.1111111111111111,
              "#46039f"
             ],
             [
              0.2222222222222222,
              "#7201a8"
             ],
             [
              0.3333333333333333,
              "#9c179e"
             ],
             [
              0.4444444444444444,
              "#bd3786"
             ],
             [
              0.5555555555555556,
              "#d8576b"
             ],
             [
              0.6666666666666666,
              "#ed7953"
             ],
             [
              0.7777777777777778,
              "#fb9f3a"
             ],
             [
              0.8888888888888888,
              "#fdca26"
             ],
             [
              1,
              "#f0f921"
             ]
            ],
            "type": "histogram2dcontour"
           }
          ],
          "mesh3d": [
           {
            "colorbar": {
             "outlinewidth": 0,
             "ticks": ""
            },
            "type": "mesh3d"
           }
          ],
          "parcoords": [
           {
            "line": {
             "colorbar": {
              "outlinewidth": 0,
              "ticks": ""
             }
            },
            "type": "parcoords"
           }
          ],
          "pie": [
           {
            "automargin": true,
            "type": "pie"
           }
          ],
          "scatter": [
           {
            "fillpattern": {
             "fillmode": "overlay",
             "size": 10,
             "solidity": 0.2
            },
            "type": "scatter"
           }
          ],
          "scatter3d": [
           {
            "line": {
             "colorbar": {
              "outlinewidth": 0,
              "ticks": ""
             }
            },
            "marker": {
             "colorbar": {
              "outlinewidth": 0,
              "ticks": ""
             }
            },
            "type": "scatter3d"
           }
          ],
          "scattercarpet": [
           {
            "marker": {
             "colorbar": {
              "outlinewidth": 0,
              "ticks": ""
             }
            },
            "type": "scattercarpet"
           }
          ],
          "scattergeo": [
           {
            "marker": {
             "colorbar": {
              "outlinewidth": 0,
              "ticks": ""
             }
            },
            "type": "scattergeo"
           }
          ],
          "scattergl": [
           {
            "marker": {
             "colorbar": {
              "outlinewidth": 0,
              "ticks": ""
             }
            },
            "type": "scattergl"
           }
          ],
          "scattermapbox": [
           {
            "marker": {
             "colorbar": {
              "outlinewidth": 0,
              "ticks": ""
             }
            },
            "type": "scattermapbox"
           }
          ],
          "scatterpolar": [
           {
            "marker": {
             "colorbar": {
              "outlinewidth": 0,
              "ticks": ""
             }
            },
            "type": "scatterpolar"
           }
          ],
          "scatterpolargl": [
           {
            "marker": {
             "colorbar": {
              "outlinewidth": 0,
              "ticks": ""
             }
            },
            "type": "scatterpolargl"
           }
          ],
          "scatterternary": [
           {
            "marker": {
             "colorbar": {
              "outlinewidth": 0,
              "ticks": ""
             }
            },
            "type": "scatterternary"
           }
          ],
          "surface": [
           {
            "colorbar": {
             "outlinewidth": 0,
             "ticks": ""
            },
            "colorscale": [
             [
              0,
              "#0d0887"
             ],
             [
              0.1111111111111111,
              "#46039f"
             ],
             [
              0.2222222222222222,
              "#7201a8"
             ],
             [
              0.3333333333333333,
              "#9c179e"
             ],
             [
              0.4444444444444444,
              "#bd3786"
             ],
             [
              0.5555555555555556,
              "#d8576b"
             ],
             [
              0.6666666666666666,
              "#ed7953"
             ],
             [
              0.7777777777777778,
              "#fb9f3a"
             ],
             [
              0.8888888888888888,
              "#fdca26"
             ],
             [
              1,
              "#f0f921"
             ]
            ],
            "type": "surface"
           }
          ],
          "table": [
           {
            "cells": {
             "fill": {
              "color": "#EBF0F8"
             },
             "line": {
              "color": "white"
             }
            },
            "header": {
             "fill": {
              "color": "#C8D4E3"
             },
             "line": {
              "color": "white"
             }
            },
            "type": "table"
           }
          ]
         },
         "layout": {
          "annotationdefaults": {
           "arrowcolor": "#2a3f5f",
           "arrowhead": 0,
           "arrowwidth": 1
          },
          "autotypenumbers": "strict",
          "coloraxis": {
           "colorbar": {
            "outlinewidth": 0,
            "ticks": ""
           }
          },
          "colorscale": {
           "diverging": [
            [
             0,
             "#8e0152"
            ],
            [
             0.1,
             "#c51b7d"
            ],
            [
             0.2,
             "#de77ae"
            ],
            [
             0.3,
             "#f1b6da"
            ],
            [
             0.4,
             "#fde0ef"
            ],
            [
             0.5,
             "#f7f7f7"
            ],
            [
             0.6,
             "#e6f5d0"
            ],
            [
             0.7,
             "#b8e186"
            ],
            [
             0.8,
             "#7fbc41"
            ],
            [
             0.9,
             "#4d9221"
            ],
            [
             1,
             "#276419"
            ]
           ],
           "sequential": [
            [
             0,
             "#0d0887"
            ],
            [
             0.1111111111111111,
             "#46039f"
            ],
            [
             0.2222222222222222,
             "#7201a8"
            ],
            [
             0.3333333333333333,
             "#9c179e"
            ],
            [
             0.4444444444444444,
             "#bd3786"
            ],
            [
             0.5555555555555556,
             "#d8576b"
            ],
            [
             0.6666666666666666,
             "#ed7953"
            ],
            [
             0.7777777777777778,
             "#fb9f3a"
            ],
            [
             0.8888888888888888,
             "#fdca26"
            ],
            [
             1,
             "#f0f921"
            ]
           ],
           "sequentialminus": [
            [
             0,
             "#0d0887"
            ],
            [
             0.1111111111111111,
             "#46039f"
            ],
            [
             0.2222222222222222,
             "#7201a8"
            ],
            [
             0.3333333333333333,
             "#9c179e"
            ],
            [
             0.4444444444444444,
             "#bd3786"
            ],
            [
             0.5555555555555556,
             "#d8576b"
            ],
            [
             0.6666666666666666,
             "#ed7953"
            ],
            [
             0.7777777777777778,
             "#fb9f3a"
            ],
            [
             0.8888888888888888,
             "#fdca26"
            ],
            [
             1,
             "#f0f921"
            ]
           ]
          },
          "colorway": [
           "#636efa",
           "#EF553B",
           "#00cc96",
           "#ab63fa",
           "#FFA15A",
           "#19d3f3",
           "#FF6692",
           "#B6E880",
           "#FF97FF",
           "#FECB52"
          ],
          "font": {
           "color": "#2a3f5f"
          },
          "geo": {
           "bgcolor": "white",
           "lakecolor": "white",
           "landcolor": "#E5ECF6",
           "showlakes": true,
           "showland": true,
           "subunitcolor": "white"
          },
          "hoverlabel": {
           "align": "left"
          },
          "hovermode": "closest",
          "mapbox": {
           "style": "light"
          },
          "paper_bgcolor": "white",
          "plot_bgcolor": "#E5ECF6",
          "polar": {
           "angularaxis": {
            "gridcolor": "white",
            "linecolor": "white",
            "ticks": ""
           },
           "bgcolor": "#E5ECF6",
           "radialaxis": {
            "gridcolor": "white",
            "linecolor": "white",
            "ticks": ""
           }
          },
          "scene": {
           "xaxis": {
            "backgroundcolor": "#E5ECF6",
            "gridcolor": "white",
            "gridwidth": 2,
            "linecolor": "white",
            "showbackground": true,
            "ticks": "",
            "zerolinecolor": "white"
           },
           "yaxis": {
            "backgroundcolor": "#E5ECF6",
            "gridcolor": "white",
            "gridwidth": 2,
            "linecolor": "white",
            "showbackground": true,
            "ticks": "",
            "zerolinecolor": "white"
           },
           "zaxis": {
            "backgroundcolor": "#E5ECF6",
            "gridcolor": "white",
            "gridwidth": 2,
            "linecolor": "white",
            "showbackground": true,
            "ticks": "",
            "zerolinecolor": "white"
           }
          },
          "shapedefaults": {
           "line": {
            "color": "#2a3f5f"
           }
          },
          "ternary": {
           "aaxis": {
            "gridcolor": "white",
            "linecolor": "white",
            "ticks": ""
           },
           "baxis": {
            "gridcolor": "white",
            "linecolor": "white",
            "ticks": ""
           },
           "bgcolor": "#E5ECF6",
           "caxis": {
            "gridcolor": "white",
            "linecolor": "white",
            "ticks": ""
           }
          },
          "title": {
           "x": 0.05
          },
          "xaxis": {
           "automargin": true,
           "gridcolor": "white",
           "linecolor": "white",
           "ticks": "",
           "title": {
            "standoff": 15
           },
           "zerolinecolor": "white",
           "zerolinewidth": 2
          },
          "yaxis": {
           "automargin": true,
           "gridcolor": "white",
           "linecolor": "white",
           "ticks": "",
           "title": {
            "standoff": 15
           },
           "zerolinecolor": "white",
           "zerolinewidth": 2
          }
         }
        },
        "xaxis": {
         "anchor": "y",
         "domain": [
          0,
          1
         ],
         "title": {
          "text": "value"
         }
        },
        "xaxis2": {
         "anchor": "y2",
         "domain": [
          0,
          1
         ],
         "matches": "x",
         "showgrid": true,
         "showticklabels": false
        },
        "yaxis": {
         "anchor": "x",
         "domain": [
          0,
          0.7326
         ],
         "title": {
          "text": "count"
         }
        },
        "yaxis2": {
         "anchor": "x2",
         "domain": [
          0.7426,
          1
         ],
         "matches": "y2",
         "showgrid": false,
         "showline": false,
         "showticklabels": false,
         "ticks": ""
        }
       }
      }
     },
     "metadata": {},
     "output_type": "display_data"
    }
   ],
   "source": [
    "fig = px.histogram(feeling[[\"Polarity_Pos\",'Polarity_Neg']], x=[\"Polarity_Pos\",'Polarity_Neg'], marginal=\"rug\")\n",
    "fig.show()"
   ]
  },
  {
   "cell_type": "code",
   "execution_count": 578,
   "metadata": {},
   "outputs": [
    {
     "data": {
      "text/plain": [
       "{'graci': 439,\n",
       " 'mar': 578,\n",
       " 'pens': 700,\n",
       " 'va': 947,\n",
       " 'van': 953,\n",
       " 'intent': 500,\n",
       " 'sac': 831,\n",
       " 'algui': 44,\n",
       " 'ja': 512,\n",
       " 'suen': 887,\n",
       " 'ja ja': 513,\n",
       " 'toc': 921,\n",
       " 'dl': 298,\n",
       " 'especial': 360,\n",
       " 'buen': 118,\n",
       " 'dia': 275,\n",
       " 'primer': 751,\n",
       " 'mand': 573,\n",
       " 'abraz': 7,\n",
       " 'grand': 443,\n",
       " 'miguel': 607,\n",
       " 'famili': 384,\n",
       " 'hoy': 469,\n",
       " 'podr': 722,\n",
       " 'ser': 856,\n",
       " 'human': 473,\n",
       " 'buen dia': 119,\n",
       " 'list': 552,\n",
       " 'empez': 328,\n",
       " 'congres': 197,\n",
       " 'link': 549,\n",
       " 'bdi': 104,\n",
       " 'em': 325,\n",
       " 'si': 866,\n",
       " 'llev': 556,\n",
       " 'lueg': 561,\n",
       " 'orbyt': 674,\n",
       " 'moment': 621,\n",
       " 'dig': 284,\n",
       " 'sistem': 876,\n",
       " 'econom': 307,\n",
       " 'recort': 798,\n",
       " 'diner': 286,\n",
       " 'social': 878,\n",
       " 'medi': 592,\n",
       " 'eur': 369,\n",
       " 'banc': 100,\n",
       " 'necesit': 645,\n",
       " 'ajust': 36,\n",
       " 'viern': 981,\n",
       " 'rat': 785,\n",
       " 'amig': 50,\n",
       " 'univers': 943,\n",
       " 'call': 130,\n",
       " 'ayud': 94,\n",
       " 'zapater': 997,\n",
       " 'quier': 780,\n",
       " 'algun': 45,\n",
       " 'ultim': 939,\n",
       " 'consej': 202,\n",
       " 'ministr': 615,\n",
       " 'consej ministr': 203,\n",
       " 'denunci': 263,\n",
       " 'respons': 813,\n",
       " 'ere': 352,\n",
       " 'cuatr': 231,\n",
       " 'carg': 142,\n",
       " 'emple': 330,\n",
       " 'retir': 816,\n",
       " 'march': 581,\n",
       " 'pp': 732,\n",
       " 'cca': 154,\n",
       " 'deb': 244,\n",
       " 'dic': 279,\n",
       " 'conoc': 200,\n",
       " 'cuent': 232,\n",
       " 'aument': 86,\n",
       " 'par': 684,\n",
       " 'segur': 850,\n",
       " 'accident': 12,\n",
       " 'años': 98,\n",
       " 'her': 459,\n",
       " 'men': 595,\n",
       " 'via': 970,\n",
       " 'premi': 739,\n",
       " 'ff': 393,\n",
       " 'hac': 454,\n",
       " 'volv': 987,\n",
       " 'tan': 898,\n",
       " 'victori': 976,\n",
       " 'trabaj': 928,\n",
       " 'sindicat': 874,\n",
       " 'huelg': 471,\n",
       " 'aeropuert': 28,\n",
       " 'compromet': 190,\n",
       " 'sevillahoy': 861,\n",
       " 'gran': 442,\n",
       " 'inici': 493,\n",
       " 'record': 797,\n",
       " 'import': 481,\n",
       " 'terc': 910,\n",
       " 'central': 159,\n",
       " 'dar': 240,\n",
       " 'tiemp': 914,\n",
       " 'pid': 711,\n",
       " 'esfuerz': 356,\n",
       " 'gobiern': 434,\n",
       " 'negoci': 646,\n",
       " 'eta': 368,\n",
       " 'dos': 304,\n",
       " 'aprob': 68,\n",
       " 'ley': 544,\n",
       " 'much': 626,\n",
       " 'anim': 59,\n",
       " 'esper': 362,\n",
       " 'pod': 721,\n",
       " 'cop': 216,\n",
       " 'suert': 888,\n",
       " 'blanc': 110,\n",
       " 'portavoz': 728,\n",
       " 'funcion': 416,\n",
       " 'form': 406,\n",
       " 'sab': 830,\n",
       " 'habl': 453,\n",
       " 'ciert': 169,\n",
       " 'españ': 357,\n",
       " 'sig': 872,\n",
       " 'crec': 225,\n",
       " 'madr': 565,\n",
       " 'mejor': 594,\n",
       " 'vuelt': 992,\n",
       " 'met': 603,\n",
       " 'anunci': 63,\n",
       " 'pon': 725,\n",
       " 'encant': 333,\n",
       " 'ver': 963,\n",
       " 'aqui': 72,\n",
       " 'valenci': 949,\n",
       " 'recom': 794,\n",
       " 'juez': 527,\n",
       " 'imput': 485,\n",
       " 'direct': 291,\n",
       " 'ciud': 175,\n",
       " 'cas': 148,\n",
       " 'urdangarin': 945,\n",
       " 'parec': 685,\n",
       " 'baj': 99,\n",
       " 'nivel': 649,\n",
       " 'marz': 585,\n",
       " 'reconoc': 796,\n",
       " 'da': 238,\n",
       " 'dat': 241,\n",
       " 'objet': 660,\n",
       " 'telediarioint': 906,\n",
       " 'corazon': 217,\n",
       " 'enfrent': 338,\n",
       " 'transparent': 929,\n",
       " 'internacional': 504,\n",
       " 'rt': 825,\n",
       " 'regal': 807,\n",
       " 'cont': 208,\n",
       " 'cont link': 209,\n",
       " 'crisis': 226,\n",
       " 'español': 359,\n",
       " 'encim': 334,\n",
       " 'servici': 858,\n",
       " 'voy': 990,\n",
       " 'apoy': 67,\n",
       " 'supuest': 894,\n",
       " 'cospedal': 222,\n",
       " 'ped': 693,\n",
       " 'perdon': 705,\n",
       " 'utiliz': 946,\n",
       " 'rebaj': 789,\n",
       " 'sueld': 886,\n",
       " 'ahor': 33,\n",
       " 'aplic': 66,\n",
       " 'asi': 79,\n",
       " 'gust': 451,\n",
       " 'pedroj_ramirez': 696,\n",
       " 'orden': 675,\n",
       " 'jef': 517,\n",
       " 'cinc': 172,\n",
       " 'mes': 601,\n",
       " 'iu': 510,\n",
       " 'ello': 323,\n",
       " 'permit': 707,\n",
       " 'gobern': 433,\n",
       " 'bienven': 109,\n",
       " 'problem': 753,\n",
       " 'dej': 257,\n",
       " 'tir': 919,\n",
       " 'despues': 271,\n",
       " 'derech': 264,\n",
       " 'maravill': 579,\n",
       " 'alejandrosanz': 40,\n",
       " 'punt': 776,\n",
       " 'gan': 421,\n",
       " 'nuev': 657,\n",
       " 'felic': 387,\n",
       " 'equip': 350,\n",
       " 'vec': 958,\n",
       " 'casi': 150,\n",
       " 'qued': 777,\n",
       " 'gast': 425,\n",
       " 'ris': 822,\n",
       " 'deten': 273,\n",
       " 'iran': 509,\n",
       " 'maxim': 588,\n",
       " 'deb ser': 245,\n",
       " 'entiend': 344,\n",
       " 'europe': 372,\n",
       " 'pued': 770,\n",
       " 'prest': 745,\n",
       " 'hag': 456,\n",
       " 'europ': 370,\n",
       " 'ver si': 964,\n",
       " 'asegur': 78,\n",
       " 'dias': 278,\n",
       " 'siend': 870,\n",
       " 'buen dias': 120,\n",
       " 'jur': 532,\n",
       " 'result': 815,\n",
       " 'profund': 755,\n",
       " 'cambi': 132,\n",
       " 'vot': 988,\n",
       " 'carreter': 146,\n",
       " 'segund': 849,\n",
       " 'constitu': 206,\n",
       " 'don': 301,\n",
       " 'arranc': 75,\n",
       " 'verd': 966,\n",
       " 'reduc': 803,\n",
       " 'impuest': 484,\n",
       " 'puebl': 769,\n",
       " 'agu': 30,\n",
       " 'fri': 413,\n",
       " 'mañan': 590,\n",
       " 'com': 183,\n",
       " 'descans': 265,\n",
       " 'total': 927,\n",
       " 'noch': 651,\n",
       " 'dificil': 283,\n",
       " 'corr': 218,\n",
       " 'buenafuent': 122,\n",
       " 'control': 213,\n",
       " 'electoral': 320,\n",
       " 'program': 756,\n",
       " 'tant': 899,\n",
       " 'articul': 77,\n",
       " 'consejer': 204,\n",
       " 'salud': 835,\n",
       " 'zon': 998,\n",
       " 'veo': 962,\n",
       " 'fin': 397,\n",
       " 'muj': 633,\n",
       " 'pelicul': 698,\n",
       " 'pas': 690,\n",
       " 'diario_sur': 277,\n",
       " 'civil': 177,\n",
       " 'person': 708,\n",
       " 'dond': 302,\n",
       " 'sol': 880,\n",
       " 'oblig': 661,\n",
       " 'public': 767,\n",
       " 'aunqu': 88,\n",
       " 'bien': 108,\n",
       " 'sient': 871,\n",
       " 'aun': 87,\n",
       " 'salg': 834,\n",
       " 'adel': 24,\n",
       " 'graci amig': 440,\n",
       " 'precios': 737,\n",
       " 'ataqu': 82,\n",
       " 'mir': 617,\n",
       " 'jej': 518,\n",
       " 'hech': 458,\n",
       " 'vam': 952,\n",
       " 'logr': 558,\n",
       " 'cuant': 230,\n",
       " 'maestr': 567,\n",
       " 'comun': 192,\n",
       " 'llen': 555,\n",
       " 'oficial': 664,\n",
       " 'mil': 608,\n",
       " 'favorit': 386,\n",
       " 'graci rt': 441,\n",
       " 'javierarenas_pp': 516,\n",
       " 'critic': 228,\n",
       " 'pepegrin': 702,\n",
       " 'marianorajoy': 582,\n",
       " 'reunion': 818,\n",
       " 'nieg': 647,\n",
       " 'alcald': 38,\n",
       " 'auster': 89,\n",
       " 'mat': 587,\n",
       " 'el_pais': 315,\n",
       " 'link via': 551,\n",
       " 'via el_pais': 972,\n",
       " 'sguein': 865,\n",
       " 'quien': 779,\n",
       " 'pso': 766,\n",
       " 'respuest': 814,\n",
       " 'blog': 111,\n",
       " 'libr': 546,\n",
       " 'cultur': 235,\n",
       " 'rajoy': 784,\n",
       " 'vuelv': 993,\n",
       " 'ten': 909,\n",
       " 'polit': 724,\n",
       " 'respond': 812,\n",
       " 'ningun': 648,\n",
       " 'pais': 681,\n",
       " 'mund': 635,\n",
       " 'practic': 735,\n",
       " 'declar': 250,\n",
       " 'pregunt': 738,\n",
       " 'falt': 383,\n",
       " 'tierr': 915,\n",
       " 'final': 398,\n",
       " 'palm': 683,\n",
       " 'raf': 783,\n",
       " 'chic': 166,\n",
       " 'nadal': 640,\n",
       " 'tod': 922,\n",
       " 'man': 572,\n",
       " 'campeon': 135,\n",
       " 'line': 548,\n",
       " 'mas': 586,\n",
       " 'ole': 667,\n",
       " 'rey': 819,\n",
       " 'hoy dia': 470,\n",
       " 'edurnity': 310,\n",
       " 'cart': 147,\n",
       " 'tal': 896,\n",
       " 'seri': 857,\n",
       " 'viaj': 974,\n",
       " 'embaj': 326,\n",
       " 'catalan': 152,\n",
       " 'abces': 4,\n",
       " 'abc_es': 3,\n",
       " 'via abc_es': 971,\n",
       " 'argentin': 74,\n",
       " 'cant': 140,\n",
       " 'cre': 224,\n",
       " 'puest': 775,\n",
       " 'aqu': 70,\n",
       " 'lleg': 554,\n",
       " 'gent': 429,\n",
       " 'dorm': 303,\n",
       " 'feliz': 390,\n",
       " 'impresion': 483,\n",
       " 'part': 688,\n",
       " 'ejempl': 313,\n",
       " 'ilusion': 480,\n",
       " 'super': 892,\n",
       " 'fot': 407,\n",
       " 'semanaldigital': 852,\n",
       " 'port': 727,\n",
       " 'dentr': 262,\n",
       " 'pag': 680,\n",
       " 'quer': 778,\n",
       " 'orgull': 677,\n",
       " 'juici': 529,\n",
       " 'explic': 379,\n",
       " 'mientr': 606,\n",
       " 'millon': 611,\n",
       " 'president': 744,\n",
       " 'autonom': 90,\n",
       " 'cumpl': 236,\n",
       " 'acerc': 14,\n",
       " 'socied': 879,\n",
       " 'chin': 167,\n",
       " 'prepar': 742,\n",
       " 'upyd': 944,\n",
       " 'amaiur': 48,\n",
       " 'justici': 534,\n",
       " 'grup': 449,\n",
       " 'año': 97,\n",
       " 'tras': 930,\n",
       " 'bonit': 114,\n",
       " 'alfons': 43,\n",
       " 'nadi': 641,\n",
       " 'period': 706,\n",
       " 'encontr': 335,\n",
       " 'perd': 704,\n",
       " 'ppandaluz': 733,\n",
       " 'acept': 13,\n",
       " 'europapress_': 371,\n",
       " 'trat': 931,\n",
       " 'eleg': 321,\n",
       " 'paurubi': 691,\n",
       " 'tonicant': 925,\n",
       " 'vend': 961,\n",
       " 'grab': 438,\n",
       " 'lad': 537,\n",
       " 'error': 353,\n",
       " 'mariviromer': 583,\n",
       " 'entrev': 348,\n",
       " 'sanid': 840,\n",
       " 'presupuest': 746,\n",
       " 'twitt': 937,\n",
       " 'segu': 847,\n",
       " 'busc': 123,\n",
       " 'si quier': 867,\n",
       " 'eleccion': 319,\n",
       " 'propi': 759,\n",
       " 'feliz dia': 391,\n",
       " 'interes': 502,\n",
       " 'muchisim': 628,\n",
       " 'bes': 106,\n",
       " 'med': 591,\n",
       " 'post': 731,\n",
       " 'vez': 969,\n",
       " 'enhorabuen': 340,\n",
       " 'dav': 242,\n",
       " 'larg': 540,\n",
       " 'seman': 851,\n",
       " 'recomend': 795,\n",
       " 'leer': 541,\n",
       " 'descubr': 268,\n",
       " 'bon': 113,\n",
       " 'celebr': 156,\n",
       " 'fiest': 395,\n",
       " 'viv': 985,\n",
       " 'juanraluc': 524,\n",
       " 'barcelon': 101,\n",
       " 'cataluñ': 153,\n",
       " 'extorsion': 380,\n",
       " 'carl': 144,\n",
       " 'larazon_': 539,\n",
       " 'se': 843,\n",
       " 'sorprend': 883,\n",
       " 'present': 743,\n",
       " 'tard': 900,\n",
       " 'sub': 884,\n",
       " 'gratis': 444,\n",
       " 'dad': 239,\n",
       " 'nombr': 653,\n",
       " 'tim': 916,\n",
       " 'acuerd': 22,\n",
       " 'cad': 125,\n",
       " 'cobr': 181,\n",
       " 'prim': 749,\n",
       " 'financ': 399,\n",
       " 'chacon': 164,\n",
       " 'democraci': 261,\n",
       " 'reform': 805,\n",
       " 'garantiz': 423,\n",
       " 'dir': 289,\n",
       " 'zp': 999,\n",
       " 'brusel': 117,\n",
       " 'empiez': 329,\n",
       " 'acto': 20,\n",
       " 'homenaj': 467,\n",
       " 'proxim': 763,\n",
       " 'dese': 269,\n",
       " 'decision': 249,\n",
       " 'gallardon': 420,\n",
       " 'alons': 47,\n",
       " 'recib': 792,\n",
       " 'cariñ': 143,\n",
       " 'vay': 956,\n",
       " 'romp': 823,\n",
       " 'valor': 951,\n",
       " 'tecnic': 904,\n",
       " 'dios': 287,\n",
       " 'real': 787,\n",
       " 'mied': 605,\n",
       " 've': 957,\n",
       " 'impos': 482,\n",
       " 'ahi': 32,\n",
       " 'editorial': 308,\n",
       " 'favor': 385,\n",
       " 'aclar': 16,\n",
       " 'entrad': 345,\n",
       " 'abre': 8,\n",
       " 'prevision': 748,\n",
       " 'visit': 983,\n",
       " 'sid': 868,\n",
       " 'desp': 270,\n",
       " 'cam': 131,\n",
       " 'hol': 465,\n",
       " 'acab': 11,\n",
       " 'ahor si': 34,\n",
       " 'buen noch': 121,\n",
       " 'entend': 342,\n",
       " 'rubalc': 827,\n",
       " 'merkel': 600,\n",
       " 'sarkozy': 842,\n",
       " 'plen': 719,\n",
       " 'lid': 547,\n",
       " 'oposicion': 673,\n",
       " 'posibl': 729,\n",
       " 'inteligent': 498,\n",
       " 'vide': 978,\n",
       " 'minut': 616,\n",
       " 'merec': 599,\n",
       " 'constitucional': 207,\n",
       " 'mal': 569,\n",
       " 'segun': 848,\n",
       " 'compañer': 187,\n",
       " 'analisis': 55,\n",
       " 'plac': 715,\n",
       " 'anotici': 61,\n",
       " 'riesg': 821,\n",
       " 'navid': 643,\n",
       " 'funcionari': 417,\n",
       " 'jug': 528,\n",
       " 'exig': 376,\n",
       " 'empres': 331,\n",
       " 'contrat': 212,\n",
       " 'felip': 389,\n",
       " 'cen': 157,\n",
       " 'top': 926,\n",
       " 'secret': 844,\n",
       " 'andaluc': 56,\n",
       " 'pretend': 747,\n",
       " 'puert': 773,\n",
       " 'ayunt': 95,\n",
       " 'proyect': 764,\n",
       " 'teatr': 903,\n",
       " 'nunc': 659,\n",
       " 'dich': 280,\n",
       " 'juan': 522,\n",
       " 'charl': 165,\n",
       " 'convenc': 214,\n",
       " 'firm': 400,\n",
       " 'llam': 553,\n",
       " 'merc': 598,\n",
       " 'unas': 940,\n",
       " 'cost': 223,\n",
       " 'milit': 609,\n",
       " 'deleg': 258,\n",
       " 'camin': 133,\n",
       " 'termin': 911,\n",
       " 'futbol': 418,\n",
       " 'siempr': 869,\n",
       " 'pel': 697,\n",
       " 'cos': 221,\n",
       " 'unid': 942,\n",
       " 'fond': 404,\n",
       " 'olvid': 668,\n",
       " 'ofrec': 665,\n",
       " 'entrar': 346,\n",
       " 'excelent': 375,\n",
       " 'disc': 293,\n",
       " 'maner': 574,\n",
       " 'increibl': 488,\n",
       " 'laboral': 536,\n",
       " 'sanchez_soni': 838,\n",
       " 'ciudadan': 176,\n",
       " 'salari': 833,\n",
       " 'razon': 786,\n",
       " 'deud': 274,\n",
       " 'indult': 490,\n",
       " 'empresari': 332,\n",
       " 'conden': 194,\n",
       " 'iescol': 477,\n",
       " 'indign': 489,\n",
       " 'mentir': 597,\n",
       " 'mont': 623,\n",
       " 'muer': 629,\n",
       " 'sueñ': 889,\n",
       " 'pront': 758,\n",
       " 'pues': 774,\n",
       " 'ocult': 663,\n",
       " 'rescat': 810,\n",
       " 'conciert': 193,\n",
       " 'centr': 158,\n",
       " 'pact': 678,\n",
       " 'fiscal': 401,\n",
       " 'clav': 180,\n",
       " 'direccion': 290,\n",
       " 'ayer': 93,\n",
       " 'fuert': 414,\n",
       " 'promet': 757,\n",
       " 'mism': 618,\n",
       " 'hiz': 464,\n",
       " 'aznar': 96,\n",
       " 'ue': 938,\n",
       " 'pes': 710,\n",
       " 'sent': 854,\n",
       " 'car': 141,\n",
       " 'vasc': 955,\n",
       " 'exist': 377,\n",
       " 'sum': 891,\n",
       " 'defiend': 256,\n",
       " 'veran': 965,\n",
       " 'izquierd': 511,\n",
       " 'ide': 475,\n",
       " 'cierr': 168,\n",
       " 'consider': 205,\n",
       " 'dur': 306,\n",
       " 'ccifuent': 155,\n",
       " 'sevill': 860,\n",
       " 'besaz': 107,\n",
       " 'rued': 828,\n",
       " 'prens': 740,\n",
       " 'ojal': 666,\n",
       " 'rued prens': 829,\n",
       " 'abandon': 1,\n",
       " 'luis': 562,\n",
       " 'lo': 557,\n",
       " 'timelin': 917,\n",
       " 'dispon': 296,\n",
       " 'histori': 462,\n",
       " 'dispon link': 297,\n",
       " 'link histori': 550,\n",
       " 'histori dia': 463,\n",
       " 'campañ': 134,\n",
       " 'tem': 908,\n",
       " 'vid': 977,\n",
       " 'libert': 545,\n",
       " 'encuentr': 336,\n",
       " 'dec': 247,\n",
       " 'defens': 254,\n",
       " 'jajaj': 514,\n",
       " 'anterior': 62,\n",
       " 'gol': 435,\n",
       " 'tods': 923,\n",
       " 'gonzalez': 437,\n",
       " 'mart': 584,\n",
       " 'diput': 288,\n",
       " 'ir': 508,\n",
       " 'sal': 832,\n",
       " 'solucion': 881,\n",
       " 'madrid': 566,\n",
       " 'tom': 924,\n",
       " 'alegr': 39,\n",
       " 'tel': 905,\n",
       " 'estupend': 367,\n",
       " 'muestr': 631,\n",
       " 'palabr': 682,\n",
       " 'david_bust': 243,\n",
       " 'mayor': 589,\n",
       " 'hab': 452,\n",
       " 'respet': 811,\n",
       " 'personal': 709,\n",
       " 'sin': 873,\n",
       " 'debat': 246,\n",
       " 'necesari': 644,\n",
       " 'red': 801,\n",
       " 'recuper': 800,\n",
       " 'ministeri': 614,\n",
       " 'admir': 27,\n",
       " 'eeuu': 311,\n",
       " 'estudi': 366,\n",
       " 'vari': 954,\n",
       " 'candidat': 139,\n",
       " 'actual': 21,\n",
       " 'recuerd': 799,\n",
       " 'cancion': 138,\n",
       " 'salv': 836,\n",
       " 'cort': 220,\n",
       " 'sen': 853,\n",
       " 'poc': 720,\n",
       " 'gener': 426,\n",
       " 'tribun': 933,\n",
       " 'jos': 520,\n",
       " 'manuel': 577,\n",
       " 'junt': 530,\n",
       " 'nacional': 639,\n",
       " 'comision': 185,\n",
       " 'organiz': 676,\n",
       " 'fras': 410,\n",
       " 'castill': 151,\n",
       " 'cabez': 124,\n",
       " 'propon': 760,\n",
       " 'espectacul': 361,\n",
       " 'juev': 526,\n",
       " 'red social': 802,\n",
       " 'comienz': 184,\n",
       " 'fuerz': 415,\n",
       " 'inform': 491,\n",
       " 'muert': 630,\n",
       " 'elmund': 324,\n",
       " 'via elmund': 973,\n",
       " 'lun': 563,\n",
       " 'abog': 6,\n",
       " 'xq': 995,\n",
       " 'ex': 374,\n",
       " 'estren': 365,\n",
       " 'radi': 782,\n",
       " 'mexic': 604,\n",
       " 'ademas': 25,\n",
       " 'prueb': 765,\n",
       " 'anoch': 60,\n",
       " 'disfrut': 295,\n",
       " 'igual': 478,\n",
       " 'secretari': 845,\n",
       " 'navarr': 642,\n",
       " 'for': 405,\n",
       " 'parlamentari': 687,\n",
       " 'situacion': 877,\n",
       " 'administr': 26,\n",
       " 'asturi': 80,\n",
       " 'mensaj': 596,\n",
       " 'ciu': 174,\n",
       " 'val': 948,\n",
       " 'muev': 632,\n",
       " 'ls': 559,\n",
       " 'har': 457,\n",
       " 'parlament': 686,\n",
       " 'camps': 136,\n",
       " 'reclam': 793,\n",
       " 'enter': 343,\n",
       " 'hor': 468,\n",
       " 'cin': 171,\n",
       " 'unic': 941,\n",
       " 'luch': 560,\n",
       " 'min': 613,\n",
       " 'sector': 846,\n",
       " 'acord': 18,\n",
       " 'relacion': 808,\n",
       " 'tuit': 935,\n",
       " 'levant': 543,\n",
       " 'el': 314,\n",
       " 'engañ': 339,\n",
       " 'carm': 145,\n",
       " 'hombr': 466,\n",
       " 'violenci': 982,\n",
       " 'cerr': 162,\n",
       " 'compr': 189,\n",
       " 'obras': 662,\n",
       " 'malag': 570,\n",
       " 'opinion': 671,\n",
       " 'malag link': 571,\n",
       " 'cualqui': 229,\n",
       " 'bas': 103,\n",
       " 'defend': 253,\n",
       " 'sur': 895,\n",
       " 'cuest': 233,\n",
       " 'version': 967,\n",
       " 'cad vez': 126,\n",
       " 'ros': 824,\n",
       " 'ana': 54,\n",
       " 'vem': 959,\n",
       " 'evit': 373,\n",
       " 'vien': 979,\n",
       " 'vist': 984,\n",
       " 'señor': 864,\n",
       " 'plan': 716,\n",
       " 'cumpleañ': 237,\n",
       " 'alexdelaiglesi': 42,\n",
       " 'pequeñ': 703,\n",
       " 'diferent': 282,\n",
       " 'abiert': 5,\n",
       " 'sangr': 839,\n",
       " 'discurs': 294,\n",
       " 'escuch': 355,\n",
       " 'avis': 92,\n",
       " 'renov': 809,\n",
       " 'much graci': 627,\n",
       " 'just': 533,\n",
       " 'jueg': 525,\n",
       " 'niñ': 650,\n",
       " 'atencion': 83,\n",
       " 'investidur': 506,\n",
       " 'convoc': 215,\n",
       " 'retras': 817,\n",
       " 'jorn': 519,\n",
       " 'asunt': 81,\n",
       " 'padr': 679,\n",
       " 'not': 654,\n",
       " 'entreg': 347,\n",
       " 'victim': 975,\n",
       " 'javi': 515,\n",
       " 'aren': 73,\n",
       " 'pong': 726,\n",
       " 'clar': 178,\n",
       " 'insult': 496,\n",
       " 'amor': 52,\n",
       " 'arte': 76,\n",
       " 'felicit': 388,\n",
       " 'feliz navid': 392,\n",
       " 'deficit': 255,\n",
       " 'ces': 163,\n",
       " 'siri': 875,\n",
       " 'caid': 129,\n",
       " 'iba': 474,\n",
       " 'pen': 699,\n",
       " 'españ link': 358,\n",
       " 'emocion': 327,\n",
       " 'notici': 655,\n",
       " 'pud': 768,\n",
       " 'genial': 428,\n",
       " 'gir': 431,\n",
       " 'hij': 461,\n",
       " 'hic': 460,\n",
       " 'manifest': 575,\n",
       " 'albert_river': 37,\n",
       " 'compart': 186,\n",
       " 'viend': 980,\n",
       " 'posicion': 730,\n",
       " 'ven': 960,\n",
       " 'oper': 670,\n",
       " 'preci': 736,\n",
       " 'propuest': 761,\n",
       " 'investig': 507,\n",
       " 'pierd': 713,\n",
       " 'tip': 918,\n",
       " 'triunf': 934,\n",
       " 'barç': 102,\n",
       " 'pq': 734,\n",
       " 'magnif': 568,\n",
       " 'golp': 436,\n",
       " 'doming': 300,\n",
       " 'demas': 259,\n",
       " 'marc': 580,\n",
       " 'sufr': 890,\n",
       " 'afect': 29,\n",
       " 'futur': 419,\n",
       " 'referent': 804,\n",
       " 'amenaz': 49,\n",
       " 'luz': 564,\n",
       " 'ener': 337,\n",
       " 'ingres': 492,\n",
       " 'eliasbendod': 322,\n",
       " 'leo': 542,\n",
       " 'pedroj_': 695,\n",
       " 'pedaz': 694,\n",
       " 'ido': 476,\n",
       " 'frances': 409,\n",
       " 'voz': 991,\n",
       " 'consegu': 201,\n",
       " 'educ': 309,\n",
       " 'ric': 820,\n",
       " 'ave': 91,\n",
       " 'bomb': 112,\n",
       " 'rechaz': 791,\n",
       " 'señal': 863,\n",
       " 'confianz': 195,\n",
       " 'descombac': 266,\n",
       " 'notici descombac': 656,\n",
       " 'descombac dispon': 267,\n",
       " 'dialog': 276,\n",
       " 'mill': 610,\n",
       " 'enorm': 341,\n",
       " 'aplaus': 65,\n",
       " 'compromis': 191,\n",
       " 'tas': 901,\n",
       " 'iguald': 479,\n",
       " 'profesional': 754,\n",
       " 'joven': 521,\n",
       " 'quit': 781,\n",
       " 'san': 837,\n",
       " 'music': 637,\n",
       " 'terror': 912,\n",
       " 'aplaud': 64,\n",
       " 'intens': 499,\n",
       " 'la': 535,\n",
       " 'particip': 689,\n",
       " 'ampli': 53,\n",
       " 'sub impuest': 885,\n",
       " 'dij': 285,\n",
       " 'fraud': 411,\n",
       " 'numer': 658,\n",
       " 'tres': 932,\n",
       " 'canc': 137,\n",
       " 'continu': 211,\n",
       " 'preocup': 741,\n",
       " 'fgare': 394,\n",
       " 'demasi': 260,\n",
       " 'diez': 281,\n",
       " 'dud': 305,\n",
       " 'elconfidencial': 318,\n",
       " 'absolut': 10,\n",
       " 'peor': 701,\n",
       " 'exit': 378,\n",
       " 'acert': 15,\n",
       " 'content': 210,\n",
       " 'confirm': 196,\n",
       " 'abril': 9,\n",
       " 'pilarggranj': 714,\n",
       " 'abc': 2,\n",
       " 'aquell': 71,\n",
       " 'movil': 625,\n",
       " 'web': 994,\n",
       " 'monclo': 622,\n",
       " 'guind': 450,\n",
       " 'botell': 115,\n",
       " 'frent': 412,\n",
       " 'cit': 173,\n",
       " 'integr': 497,\n",
       " 'intereconomi': 501,\n",
       " 'mit': 619,\n",
       " 'soray': 882,\n",
       " 'criteri': 227,\n",
       " 'dolor': 299,\n",
       " 'paz': 692,\n",
       " 'followercet': 402,\n",
       " 'gob': 432,\n",
       " 'decret': 251,\n",
       " 'activ': 19,\n",
       " 'injust': 494,\n",
       " 'fij': 396,\n",
       " 'mujer': 634,\n",
       " 'lanz': 538,\n",
       " 'facil': 382,\n",
       " 'apuest': 69,\n",
       " 'escrib': 354,\n",
       " 'hac años': 455,\n",
       " 'the': 913,\n",
       " 'sevillajordi': 862,\n",
       " 'medic': 593,\n",
       " 'viviend': 986,\n",
       " 'detall': 272,\n",
       " 'sant': 841,\n",
       " 'recesion': 790,\n",
       " 'montor': 624,\n",
       " 'intervencion': 505,\n",
       " 'andaluci': 57,\n",
       " 'acompañ': 17,\n",
       " 'cifr': 170,\n",
       " 'millon eur': 612,\n",
       " 'piens': 712,\n",
       " 'inocent': 495,\n",
       " 'servici public': 859,\n",
       " 'greci': 446,\n",
       " 'interior': 503,\n",
       " 'ondacero_': 669,\n",
       " 'polic': 723,\n",
       " 'alli': 46,\n",
       " 'director': 292,\n",
       " '_rubalcaba_': 0,\n",
       " 'valencian': 950,\n",
       " 'tampoc': 897,\n",
       " 'aguirr': 31,\n",
       " 'clas': 179,\n",
       " 'decid': 248,\n",
       " 'tb': 902,\n",
       " 'cerc': 161,\n",
       " 'acus': 23,\n",
       " 'juanma_moren': 523,\n",
       " 'ejecut': 312,\n",
       " 'culp': 234,\n",
       " 'ganador': 422,\n",
       " 'bell': 105,\n",
       " 'titul': 920,\n",
       " 'pued hac': 771,\n",
       " 'rtve': 826,\n",
       " 'reform laboral': 806,\n",
       " 'vert': 968,\n",
       " 'realid': 788,\n",
       " 'model': 620,\n",
       " 'alemani': 41,\n",
       " 'pued ser': 772,\n",
       " 'gestion': 430,\n",
       " 'prim riesg': 750,\n",
       " 'casc': 149,\n",
       " 'complet': 188,\n",
       " 'inclu': 487,\n",
       " 'junt andaluc': 531,\n",
       " 'provoc': 762,\n",
       " 'frag': 408,\n",
       " 'ep': 349,\n",
       " 'television': 907,\n",
       " 'corrupcion': 219,\n",
       " 'coch': 182,\n",
       " 'dedic': 252,\n",
       " 'plaz': 718,\n",
       " 'facebook': 381,\n",
       " 'mundial': 636,\n",
       " 'cadiz': 127,\n",
       " 'general': 427,\n",
       " 'estrategi': 364,\n",
       " 'tv_aldi': 936,\n",
       " 'griñan': 448,\n",
       " 'oportun': 672,\n",
       " 'sentenci': 855,\n",
       " 'elcambioandaluz': 316,\n",
       " 'elcambioandaluz link': 317,\n",
       " 'ceo': 160,\n",
       " 'noch followercet': 652,\n",
       " 'followercet link': 403,\n",
       " 'garzon': 424,\n",
       " 'nac': 638,\n",
       " 'suprem': 893,\n",
       " 'caf': 128,\n",
       " 'andaluz': 58,\n",
       " 'prision': 752,\n",
       " 'gratuit': 445,\n",
       " 'yeswespainisdifferent': 996,\n",
       " 'plant': 717,\n",
       " 'brav': 116,\n",
       " 'messi': 602,\n",
       " 'audienci': 85,\n",
       " 'air': 35,\n",
       " 'incendi': 486,\n",
       " 'er': 351,\n",
       " 'mantien': 576,\n",
       " 'huelg general': 472,\n",
       " 'griñ': 447,\n",
       " 'congresopso': 199,\n",
       " 'esperanzaon': 363,\n",
       " 'athletic': 84,\n",
       " 'congresopp': 198,\n",
       " 'votapp': 989,\n",
       " 'amnist': 51}"
      ]
     },
     "execution_count": 578,
     "metadata": {},
     "output_type": "execute_result"
    }
   ],
   "source": [
    "# We get the important words and their coef\n",
    "x = pipeline_importada.named_steps['vect'].vocabulary_\n",
    "coeficientes = pipeline_importada.named_steps['cls'].coef_[0]\n",
    "\n"
   ]
  },
  {
   "cell_type": "code",
   "execution_count": 638,
   "metadata": {},
   "outputs": [],
   "source": [
    "df = pd.DataFrame([[key, x[key]] for key in x.keys()])\n",
    "df.columns=['Palabra','Índice']"
   ]
  },
  {
   "cell_type": "code",
   "execution_count": 625,
   "metadata": {},
   "outputs": [],
   "source": [
    "df1 = pd.DataFrame(coeficientes)\n",
    "df1.columns=['COEF']"
   ]
  },
  {
   "cell_type": "code",
   "execution_count": 628,
   "metadata": {},
   "outputs": [
    {
     "data": {
      "text/html": [
       "<div>\n",
       "<style scoped>\n",
       "    .dataframe tbody tr th:only-of-type {\n",
       "        vertical-align: middle;\n",
       "    }\n",
       "\n",
       "    .dataframe tbody tr th {\n",
       "        vertical-align: top;\n",
       "    }\n",
       "\n",
       "    .dataframe thead th {\n",
       "        text-align: right;\n",
       "    }\n",
       "</style>\n",
       "<table border=\"1\" class=\"dataframe\">\n",
       "  <thead>\n",
       "    <tr style=\"text-align: right;\">\n",
       "      <th></th>\n",
       "      <th>Palabra</th>\n",
       "      <th>Índice</th>\n",
       "      <th>COEF</th>\n",
       "    </tr>\n",
       "  </thead>\n",
       "  <tbody>\n",
       "    <tr>\n",
       "      <th>0</th>\n",
       "      <td>graci</td>\n",
       "      <td>439</td>\n",
       "      <td>-0.161174</td>\n",
       "    </tr>\n",
       "    <tr>\n",
       "      <th>1</th>\n",
       "      <td>mar</td>\n",
       "      <td>578</td>\n",
       "      <td>0.582204</td>\n",
       "    </tr>\n",
       "    <tr>\n",
       "      <th>2</th>\n",
       "      <td>pens</td>\n",
       "      <td>700</td>\n",
       "      <td>0.498377</td>\n",
       "    </tr>\n",
       "    <tr>\n",
       "      <th>3</th>\n",
       "      <td>va</td>\n",
       "      <td>947</td>\n",
       "      <td>-0.061534</td>\n",
       "    </tr>\n",
       "    <tr>\n",
       "      <th>4</th>\n",
       "      <td>van</td>\n",
       "      <td>953</td>\n",
       "      <td>0.195989</td>\n",
       "    </tr>\n",
       "    <tr>\n",
       "      <th>...</th>\n",
       "      <td>...</td>\n",
       "      <td>...</td>\n",
       "      <td>...</td>\n",
       "    </tr>\n",
       "    <tr>\n",
       "      <th>995</th>\n",
       "      <td>esperanzaon</td>\n",
       "      <td>363</td>\n",
       "      <td>0.628716</td>\n",
       "    </tr>\n",
       "    <tr>\n",
       "      <th>996</th>\n",
       "      <td>athletic</td>\n",
       "      <td>84</td>\n",
       "      <td>-0.929601</td>\n",
       "    </tr>\n",
       "    <tr>\n",
       "      <th>997</th>\n",
       "      <td>congresopp</td>\n",
       "      <td>198</td>\n",
       "      <td>-0.252745</td>\n",
       "    </tr>\n",
       "    <tr>\n",
       "      <th>998</th>\n",
       "      <td>votapp</td>\n",
       "      <td>989</td>\n",
       "      <td>0.864392</td>\n",
       "    </tr>\n",
       "    <tr>\n",
       "      <th>999</th>\n",
       "      <td>amnist</td>\n",
       "      <td>51</td>\n",
       "      <td>0.718130</td>\n",
       "    </tr>\n",
       "  </tbody>\n",
       "</table>\n",
       "<p>1000 rows × 3 columns</p>\n",
       "</div>"
      ],
      "text/plain": [
       "         Palabra  Índice      COEF\n",
       "0          graci     439 -0.161174\n",
       "1            mar     578  0.582204\n",
       "2           pens     700  0.498377\n",
       "3             va     947 -0.061534\n",
       "4            van     953  0.195989\n",
       "..           ...     ...       ...\n",
       "995  esperanzaon     363  0.628716\n",
       "996     athletic      84 -0.929601\n",
       "997   congresopp     198 -0.252745\n",
       "998       votapp     989  0.864392\n",
       "999       amnist      51  0.718130\n",
       "\n",
       "[1000 rows x 3 columns]"
      ]
     },
     "execution_count": 628,
     "metadata": {},
     "output_type": "execute_result"
    }
   ],
   "source": [
    "# We merge both dataset for visualizing \n",
    "result = pd.concat([df,df1], axis=1)\n",
    "result\n"
   ]
  },
  {
   "cell_type": "code",
   "execution_count": 631,
   "metadata": {},
   "outputs": [],
   "source": [
    "result['Relacion'] = np.where(result['COEF'].astype(str).str.contains('-'),'Negativo','Positivo')"
   ]
  },
  {
   "cell_type": "code",
   "execution_count": 636,
   "metadata": {},
   "outputs": [],
   "source": [
    "result['COEF']=result['COEF'].abs()"
   ]
  },
  {
   "cell_type": "code",
   "execution_count": 646,
   "metadata": {},
   "outputs": [
    {
     "data": {
      "text/html": [
       "<div>\n",
       "<style scoped>\n",
       "    .dataframe tbody tr th:only-of-type {\n",
       "        vertical-align: middle;\n",
       "    }\n",
       "\n",
       "    .dataframe tbody tr th {\n",
       "        vertical-align: top;\n",
       "    }\n",
       "\n",
       "    .dataframe thead th {\n",
       "        text-align: right;\n",
       "    }\n",
       "</style>\n",
       "<table border=\"1\" class=\"dataframe\">\n",
       "  <thead>\n",
       "    <tr style=\"text-align: right;\">\n",
       "      <th></th>\n",
       "      <th>Palabra</th>\n",
       "      <th>Índice</th>\n",
       "      <th>COEF</th>\n",
       "      <th>Relacion</th>\n",
       "    </tr>\n",
       "  </thead>\n",
       "  <tbody>\n",
       "    <tr>\n",
       "      <th>333</th>\n",
       "      <td>cart</td>\n",
       "      <td>147</td>\n",
       "      <td>1.860511</td>\n",
       "      <td>Negativo</td>\n",
       "    </tr>\n",
       "    <tr>\n",
       "      <th>340</th>\n",
       "      <td>abc_es</td>\n",
       "      <td>3</td>\n",
       "      <td>1.844937</td>\n",
       "      <td>Negativo</td>\n",
       "    </tr>\n",
       "    <tr>\n",
       "      <th>439</th>\n",
       "      <td>tim</td>\n",
       "      <td>916</td>\n",
       "      <td>1.805330</td>\n",
       "      <td>Negativo</td>\n",
       "    </tr>\n",
       "    <tr>\n",
       "      <th>118</th>\n",
       "      <td>blanc</td>\n",
       "      <td>110</td>\n",
       "      <td>1.675119</td>\n",
       "      <td>Negativo</td>\n",
       "    </tr>\n",
       "    <tr>\n",
       "      <th>390</th>\n",
       "      <td>eleg</td>\n",
       "      <td>321</td>\n",
       "      <td>1.473085</td>\n",
       "      <td>Negativo</td>\n",
       "    </tr>\n",
       "    <tr>\n",
       "      <th>106</th>\n",
       "      <td>gobiern</td>\n",
       "      <td>434</td>\n",
       "      <td>1.459033</td>\n",
       "      <td>Negativo</td>\n",
       "    </tr>\n",
       "    <tr>\n",
       "      <th>232</th>\n",
       "      <td>reduc</td>\n",
       "      <td>803</td>\n",
       "      <td>1.427234</td>\n",
       "      <td>Positivo</td>\n",
       "    </tr>\n",
       "    <tr>\n",
       "      <th>255</th>\n",
       "      <td>muj</td>\n",
       "      <td>633</td>\n",
       "      <td>1.402206</td>\n",
       "      <td>Positivo</td>\n",
       "    </tr>\n",
       "    <tr>\n",
       "      <th>110</th>\n",
       "      <td>aprob</td>\n",
       "      <td>68</td>\n",
       "      <td>1.368604</td>\n",
       "      <td>Positivo</td>\n",
       "    </tr>\n",
       "    <tr>\n",
       "      <th>630</th>\n",
       "      <td>tel</td>\n",
       "      <td>905</td>\n",
       "      <td>1.350257</td>\n",
       "      <td>Positivo</td>\n",
       "    </tr>\n",
       "    <tr>\n",
       "      <th>209</th>\n",
       "      <td>deb ser</td>\n",
       "      <td>245</td>\n",
       "      <td>1.346429</td>\n",
       "      <td>Negativo</td>\n",
       "    </tr>\n",
       "    <tr>\n",
       "      <th>795</th>\n",
       "      <td>ven</td>\n",
       "      <td>960</td>\n",
       "      <td>1.344679</td>\n",
       "      <td>Negativo</td>\n",
       "    </tr>\n",
       "    <tr>\n",
       "      <th>194</th>\n",
       "      <td>maravill</td>\n",
       "      <td>579</td>\n",
       "      <td>1.342907</td>\n",
       "      <td>Positivo</td>\n",
       "    </tr>\n",
       "    <tr>\n",
       "      <th>263</th>\n",
       "      <td>oblig</td>\n",
       "      <td>661</td>\n",
       "      <td>1.342179</td>\n",
       "      <td>Positivo</td>\n",
       "    </tr>\n",
       "    <tr>\n",
       "      <th>798</th>\n",
       "      <td>propuest</td>\n",
       "      <td>761</td>\n",
       "      <td>1.318572</td>\n",
       "      <td>Positivo</td>\n",
       "    </tr>\n",
       "    <tr>\n",
       "      <th>489</th>\n",
       "      <td>sarkozy</td>\n",
       "      <td>842</td>\n",
       "      <td>1.315082</td>\n",
       "      <td>Positivo</td>\n",
       "    </tr>\n",
       "    <tr>\n",
       "      <th>228</th>\n",
       "      <td>constitu</td>\n",
       "      <td>206</td>\n",
       "      <td>1.310442</td>\n",
       "      <td>Positivo</td>\n",
       "    </tr>\n",
       "    <tr>\n",
       "      <th>467</th>\n",
       "      <td>real</td>\n",
       "      <td>787</td>\n",
       "      <td>1.292089</td>\n",
       "      <td>Negativo</td>\n",
       "    </tr>\n",
       "    <tr>\n",
       "      <th>221</th>\n",
       "      <td>jur</td>\n",
       "      <td>532</td>\n",
       "      <td>1.269698</td>\n",
       "      <td>Positivo</td>\n",
       "    </tr>\n",
       "    <tr>\n",
       "      <th>945</th>\n",
       "      <td>model</td>\n",
       "      <td>620</td>\n",
       "      <td>1.269001</td>\n",
       "      <td>Positivo</td>\n",
       "    </tr>\n",
       "  </tbody>\n",
       "</table>\n",
       "</div>"
      ],
      "text/plain": [
       "      Palabra  Índice      COEF  Relacion\n",
       "333      cart     147  1.860511  Negativo\n",
       "340    abc_es       3  1.844937  Negativo\n",
       "439       tim     916  1.805330  Negativo\n",
       "118     blanc     110  1.675119  Negativo\n",
       "390      eleg     321  1.473085  Negativo\n",
       "106   gobiern     434  1.459033  Negativo\n",
       "232     reduc     803  1.427234  Positivo\n",
       "255       muj     633  1.402206  Positivo\n",
       "110     aprob      68  1.368604  Positivo\n",
       "630       tel     905  1.350257  Positivo\n",
       "209   deb ser     245  1.346429  Negativo\n",
       "795       ven     960  1.344679  Negativo\n",
       "194  maravill     579  1.342907  Positivo\n",
       "263     oblig     661  1.342179  Positivo\n",
       "798  propuest     761  1.318572  Positivo\n",
       "489   sarkozy     842  1.315082  Positivo\n",
       "228  constitu     206  1.310442  Positivo\n",
       "467      real     787  1.292089  Negativo\n",
       "221       jur     532  1.269698  Positivo\n",
       "945     model     620  1.269001  Positivo"
      ]
     },
     "execution_count": 646,
     "metadata": {},
     "output_type": "execute_result"
    }
   ],
   "source": [
    "result.sort_values(by='COEF', ascending=False).head(20)"
   ]
  },
  {
   "cell_type": "code",
   "execution_count": 641,
   "metadata": {},
   "outputs": [
    {
     "data": {
      "text/html": [
       "\n",
       "    <style>\n",
       "    table.eli5-weights tr:hover {\n",
       "        filter: brightness(85%);\n",
       "    }\n",
       "</style>\n",
       "\n",
       "\n",
       "\n",
       "    \n",
       "\n",
       "    \n",
       "\n",
       "    \n",
       "\n",
       "    \n",
       "\n",
       "    \n",
       "\n",
       "    \n",
       "\n",
       "\n",
       "    \n",
       "\n",
       "    \n",
       "\n",
       "    \n",
       "\n",
       "    \n",
       "        \n",
       "\n",
       "    \n",
       "\n",
       "        \n",
       "            \n",
       "                \n",
       "                \n",
       "    \n",
       "        <p style=\"margin-bottom: 0.5em; margin-top: 0em\">\n",
       "            <b>\n",
       "    \n",
       "        y=1\n",
       "    \n",
       "</b>\n",
       "\n",
       "top features\n",
       "        </p>\n",
       "    \n",
       "    <table class=\"eli5-weights\"\n",
       "           style=\"border-collapse: collapse; border: none; margin-top: 0em; table-layout: auto; margin-bottom: 2em;\">\n",
       "        <thead>\n",
       "        <tr style=\"border: none;\">\n",
       "            \n",
       "                <th style=\"padding: 0 1em 0 0.5em; text-align: right; border: none;\" title=\"Feature weights. Note that weights do not account for feature value scales, so if feature values have different scales, features with highest weights might not be the most important.\">\n",
       "                    Weight<sup>?</sup>\n",
       "                </th>\n",
       "            \n",
       "            <th style=\"padding: 0 0.5em 0 0.5em; text-align: left; border: none;\">Feature</th>\n",
       "            \n",
       "        </tr>\n",
       "        </thead>\n",
       "        <tbody>\n",
       "        \n",
       "            <tr style=\"background-color: hsl(120, 100.00%, 83.39%); border: none;\">\n",
       "    <td style=\"padding: 0 1em 0 0.5em; text-align: right; border: none;\">\n",
       "        +1.427\n",
       "    </td>\n",
       "    <td style=\"padding: 0 0.5em 0 0.5em; text-align: left; border: none;\">\n",
       "        x232\n",
       "    </td>\n",
       "    \n",
       "</tr>\n",
       "        \n",
       "            <tr style=\"background-color: hsl(120, 100.00%, 83.59%); border: none;\">\n",
       "    <td style=\"padding: 0 1em 0 0.5em; text-align: right; border: none;\">\n",
       "        +1.402\n",
       "    </td>\n",
       "    <td style=\"padding: 0 0.5em 0 0.5em; text-align: left; border: none;\">\n",
       "        x255\n",
       "    </td>\n",
       "    \n",
       "</tr>\n",
       "        \n",
       "            <tr style=\"background-color: hsl(120, 100.00%, 83.87%); border: none;\">\n",
       "    <td style=\"padding: 0 1em 0 0.5em; text-align: right; border: none;\">\n",
       "        +1.369\n",
       "    </td>\n",
       "    <td style=\"padding: 0 0.5em 0 0.5em; text-align: left; border: none;\">\n",
       "        x110\n",
       "    </td>\n",
       "    \n",
       "</tr>\n",
       "        \n",
       "            <tr style=\"background-color: hsl(120, 100.00%, 84.02%); border: none;\">\n",
       "    <td style=\"padding: 0 1em 0 0.5em; text-align: right; border: none;\">\n",
       "        +1.350\n",
       "    </td>\n",
       "    <td style=\"padding: 0 0.5em 0 0.5em; text-align: left; border: none;\">\n",
       "        x630\n",
       "    </td>\n",
       "    \n",
       "</tr>\n",
       "        \n",
       "            <tr style=\"background-color: hsl(120, 100.00%, 84.08%); border: none;\">\n",
       "    <td style=\"padding: 0 1em 0 0.5em; text-align: right; border: none;\">\n",
       "        +1.343\n",
       "    </td>\n",
       "    <td style=\"padding: 0 0.5em 0 0.5em; text-align: left; border: none;\">\n",
       "        x194\n",
       "    </td>\n",
       "    \n",
       "</tr>\n",
       "        \n",
       "            <tr style=\"background-color: hsl(120, 100.00%, 84.09%); border: none;\">\n",
       "    <td style=\"padding: 0 1em 0 0.5em; text-align: right; border: none;\">\n",
       "        +1.342\n",
       "    </td>\n",
       "    <td style=\"padding: 0 0.5em 0 0.5em; text-align: left; border: none;\">\n",
       "        x263\n",
       "    </td>\n",
       "    \n",
       "</tr>\n",
       "        \n",
       "            <tr style=\"background-color: hsl(120, 100.00%, 84.28%); border: none;\">\n",
       "    <td style=\"padding: 0 1em 0 0.5em; text-align: right; border: none;\">\n",
       "        +1.319\n",
       "    </td>\n",
       "    <td style=\"padding: 0 0.5em 0 0.5em; text-align: left; border: none;\">\n",
       "        x798\n",
       "    </td>\n",
       "    \n",
       "</tr>\n",
       "        \n",
       "            <tr style=\"background-color: hsl(120, 100.00%, 84.31%); border: none;\">\n",
       "    <td style=\"padding: 0 1em 0 0.5em; text-align: right; border: none;\">\n",
       "        +1.315\n",
       "    </td>\n",
       "    <td style=\"padding: 0 0.5em 0 0.5em; text-align: left; border: none;\">\n",
       "        x489\n",
       "    </td>\n",
       "    \n",
       "</tr>\n",
       "        \n",
       "            <tr style=\"background-color: hsl(120, 100.00%, 84.35%); border: none;\">\n",
       "    <td style=\"padding: 0 1em 0 0.5em; text-align: right; border: none;\">\n",
       "        +1.310\n",
       "    </td>\n",
       "    <td style=\"padding: 0 0.5em 0 0.5em; text-align: left; border: none;\">\n",
       "        x228\n",
       "    </td>\n",
       "    \n",
       "</tr>\n",
       "        \n",
       "            <tr style=\"background-color: hsl(120, 100.00%, 84.69%); border: none;\">\n",
       "    <td style=\"padding: 0 1em 0 0.5em; text-align: right; border: none;\">\n",
       "        +1.270\n",
       "    </td>\n",
       "    <td style=\"padding: 0 0.5em 0 0.5em; text-align: left; border: none;\">\n",
       "        x221\n",
       "    </td>\n",
       "    \n",
       "</tr>\n",
       "        \n",
       "            <tr style=\"background-color: hsl(120, 100.00%, 84.70%); border: none;\">\n",
       "    <td style=\"padding: 0 1em 0 0.5em; text-align: right; border: none;\">\n",
       "        +1.269\n",
       "    </td>\n",
       "    <td style=\"padding: 0 0.5em 0 0.5em; text-align: left; border: none;\">\n",
       "        x945\n",
       "    </td>\n",
       "    \n",
       "</tr>\n",
       "        \n",
       "        \n",
       "            <tr style=\"background-color: hsl(120, 100.00%, 84.70%); border: none;\">\n",
       "                <td colspan=\"2\" style=\"padding: 0 0.5em 0 0.5em; text-align: center; border: none; white-space: nowrap;\">\n",
       "                    <i>&hellip; 505 more positive &hellip;</i>\n",
       "                </td>\n",
       "            </tr>\n",
       "        \n",
       "\n",
       "        \n",
       "            <tr style=\"background-color: hsl(0, 100.00%, 84.50%); border: none;\">\n",
       "                <td colspan=\"2\" style=\"padding: 0 0.5em 0 0.5em; text-align: center; border: none; white-space: nowrap;\">\n",
       "                    <i>&hellip; 476 more negative &hellip;</i>\n",
       "                </td>\n",
       "            </tr>\n",
       "        \n",
       "        \n",
       "            <tr style=\"background-color: hsl(0, 100.00%, 84.50%); border: none;\">\n",
       "    <td style=\"padding: 0 1em 0 0.5em; text-align: right; border: none;\">\n",
       "        -1.292\n",
       "    </td>\n",
       "    <td style=\"padding: 0 0.5em 0 0.5em; text-align: left; border: none;\">\n",
       "        x467\n",
       "    </td>\n",
       "    \n",
       "</tr>\n",
       "        \n",
       "            <tr style=\"background-color: hsl(0, 100.00%, 84.07%); border: none;\">\n",
       "    <td style=\"padding: 0 1em 0 0.5em; text-align: right; border: none;\">\n",
       "        -1.345\n",
       "    </td>\n",
       "    <td style=\"padding: 0 0.5em 0 0.5em; text-align: left; border: none;\">\n",
       "        x795\n",
       "    </td>\n",
       "    \n",
       "</tr>\n",
       "        \n",
       "            <tr style=\"background-color: hsl(0, 100.00%, 84.05%); border: none;\">\n",
       "    <td style=\"padding: 0 1em 0 0.5em; text-align: right; border: none;\">\n",
       "        -1.346\n",
       "    </td>\n",
       "    <td style=\"padding: 0 0.5em 0 0.5em; text-align: left; border: none;\">\n",
       "        x209\n",
       "    </td>\n",
       "    \n",
       "</tr>\n",
       "        \n",
       "            <tr style=\"background-color: hsl(0, 100.00%, 83.13%); border: none;\">\n",
       "    <td style=\"padding: 0 1em 0 0.5em; text-align: right; border: none;\">\n",
       "        -1.459\n",
       "    </td>\n",
       "    <td style=\"padding: 0 0.5em 0 0.5em; text-align: left; border: none;\">\n",
       "        x106\n",
       "    </td>\n",
       "    \n",
       "</tr>\n",
       "        \n",
       "            <tr style=\"background-color: hsl(0, 100.00%, 83.02%); border: none;\">\n",
       "    <td style=\"padding: 0 1em 0 0.5em; text-align: right; border: none;\">\n",
       "        -1.473\n",
       "    </td>\n",
       "    <td style=\"padding: 0 0.5em 0 0.5em; text-align: left; border: none;\">\n",
       "        x390\n",
       "    </td>\n",
       "    \n",
       "</tr>\n",
       "        \n",
       "            <tr style=\"background-color: hsl(0, 100.00%, 81.42%); border: none;\">\n",
       "    <td style=\"padding: 0 1em 0 0.5em; text-align: right; border: none;\">\n",
       "        -1.675\n",
       "    </td>\n",
       "    <td style=\"padding: 0 0.5em 0 0.5em; text-align: left; border: none;\">\n",
       "        x118\n",
       "    </td>\n",
       "    \n",
       "</tr>\n",
       "        \n",
       "            <tr style=\"background-color: hsl(0, 100.00%, 80.42%); border: none;\">\n",
       "    <td style=\"padding: 0 1em 0 0.5em; text-align: right; border: none;\">\n",
       "        -1.805\n",
       "    </td>\n",
       "    <td style=\"padding: 0 0.5em 0 0.5em; text-align: left; border: none;\">\n",
       "        x439\n",
       "    </td>\n",
       "    \n",
       "</tr>\n",
       "        \n",
       "            <tr style=\"background-color: hsl(0, 100.00%, 80.12%); border: none;\">\n",
       "    <td style=\"padding: 0 1em 0 0.5em; text-align: right; border: none;\">\n",
       "        -1.845\n",
       "    </td>\n",
       "    <td style=\"padding: 0 0.5em 0 0.5em; text-align: left; border: none;\">\n",
       "        x340\n",
       "    </td>\n",
       "    \n",
       "</tr>\n",
       "        \n",
       "            <tr style=\"background-color: hsl(0, 100.00%, 80.00%); border: none;\">\n",
       "    <td style=\"padding: 0 1em 0 0.5em; text-align: right; border: none;\">\n",
       "        -1.861\n",
       "    </td>\n",
       "    <td style=\"padding: 0 0.5em 0 0.5em; text-align: left; border: none;\">\n",
       "        x333\n",
       "    </td>\n",
       "    \n",
       "</tr>\n",
       "        \n",
       "\n",
       "        </tbody>\n",
       "    </table>\n",
       "\n",
       "            \n",
       "        \n",
       "\n",
       "        \n",
       "\n",
       "\n",
       "\n",
       "    \n",
       "\n",
       "    \n",
       "\n",
       "    \n",
       "\n",
       "    \n",
       "\n",
       "\n",
       "    \n",
       "\n",
       "    \n",
       "\n",
       "    \n",
       "\n",
       "    \n",
       "\n",
       "    \n",
       "\n",
       "    \n",
       "\n",
       "\n",
       "    \n",
       "\n",
       "    \n",
       "\n",
       "    \n",
       "\n",
       "    \n",
       "\n",
       "    \n",
       "\n",
       "    \n",
       "\n",
       "\n",
       "\n"
      ],
      "text/plain": [
       "<IPython.core.display.HTML object>"
      ]
     },
     "execution_count": 641,
     "metadata": {},
     "output_type": "execute_result"
    }
   ],
   "source": [
    "import eli5\n",
    "eli5.show_weights(pipeline_importada.named_steps['cls'], vec=pipeline_importada.named_steps['vect'], top=20)\n"
   ]
  },
  {
   "cell_type": "code",
   "execution_count": 507,
   "metadata": {},
   "outputs": [
    {
     "data": {
      "text/plain": [
       "0       x232\n",
       "1       x255\n",
       "2       x110\n",
       "3       x630\n",
       "4       x194\n",
       "        ... \n",
       "996     x390\n",
       "997     x118\n",
       "998     x439\n",
       "999     x340\n",
       "1000    x333\n",
       "Name: feature, Length: 1001, dtype: object"
      ]
     },
     "execution_count": 507,
     "metadata": {},
     "output_type": "execute_result"
    }
   ],
   "source": [
    "weights = eli5.formatters.as_dataframe.explain_weights_df(pipeline_importada.named_steps['cls'], vec=pipeline_importada.named_steps['vect'])\n",
    "features = weights['feature']\n",
    "features"
   ]
  },
  {
   "attachments": {},
   "cell_type": "markdown",
   "metadata": {},
   "source": [
    "3. How to improve the model?"
   ]
  },
  {
   "attachments": {},
   "cell_type": "markdown",
   "metadata": {},
   "source": [
    "I would rather change the Vect_stop_word, because is None, likely the model is cutting off this special words. Even, I would have used Random Forest or even Support Vector Machine, which can separate the two classes in better conditions. I would use more data for retrain my model to see how that improve.\n",
    "\n",
    "And even, i would change the hiperparameters just in case those allow them, like max_features, now is 1000, so probably is going to be overfitting."
   ]
  },
  {
   "attachments": {},
   "cell_type": "markdown",
   "metadata": {},
   "source": [
    "4. Where can we apply this model?"
   ]
  },
  {
   "attachments": {},
   "cell_type": "markdown",
   "metadata": {},
   "source": [
    "There are so many case where apply this case of work:\n",
    "\n",
    "1.  Marketing comany, who needs to measures how the feedbacks o reviews on google maps, or even in trustpilot going on. This make you to have knowledge about their feeling.\n",
    "\n",
    "2. Officer Police, who needs to know if the guilt is saying the thuth or not.\n",
    "\n",
    "3. Chatbot at the School, which has been trained for answering different question to all students.\n",
    "\n",
    "4. Robot, which has been trained for edearly people who are alone or just need some buddy for talking about whatever."
   ]
  },
  {
   "cell_type": "code",
   "execution_count": 479,
   "metadata": {},
   "outputs": [
    {
     "data": {
      "text/plain": [
       "{'memory': None,\n",
       " 'steps': [('vect',\n",
       "   CountVectorizer(max_df=0.5, max_features=1000, min_df=5, ngram_range=(1, 2))),\n",
       "  ('cls', LogisticRegression(C=0.5))],\n",
       " 'verbose': False,\n",
       " 'vect': CountVectorizer(max_df=0.5, max_features=1000, min_df=5, ngram_range=(1, 2)),\n",
       " 'cls': LogisticRegression(C=0.5),\n",
       " 'vect__analyzer': 'word',\n",
       " 'vect__binary': False,\n",
       " 'vect__decode_error': 'strict',\n",
       " 'vect__dtype': numpy.int64,\n",
       " 'vect__encoding': 'utf-8',\n",
       " 'vect__input': 'content',\n",
       " 'vect__lowercase': True,\n",
       " 'vect__max_df': 0.5,\n",
       " 'vect__max_features': 1000,\n",
       " 'vect__min_df': 5,\n",
       " 'vect__ngram_range': (1, 2),\n",
       " 'vect__preprocessor': None,\n",
       " 'vect__stop_words': None,\n",
       " 'vect__strip_accents': None,\n",
       " 'vect__token_pattern': '(?u)\\\\b\\\\w\\\\w+\\\\b',\n",
       " 'vect__tokenizer': None,\n",
       " 'vect__vocabulary': None,\n",
       " 'cls__C': 0.5,\n",
       " 'cls__class_weight': None,\n",
       " 'cls__dual': False,\n",
       " 'cls__fit_intercept': True,\n",
       " 'cls__intercept_scaling': 1,\n",
       " 'cls__l1_ratio': None,\n",
       " 'cls__max_iter': 100,\n",
       " 'cls__multi_class': 'auto',\n",
       " 'cls__n_jobs': None,\n",
       " 'cls__penalty': 'l2',\n",
       " 'cls__random_state': None,\n",
       " 'cls__solver': 'lbfgs',\n",
       " 'cls__tol': 0.0001,\n",
       " 'cls__verbose': 0,\n",
       " 'cls__warm_start': False}"
      ]
     },
     "execution_count": 479,
     "metadata": {},
     "output_type": "execute_result"
    }
   ],
   "source": [
    "params = pipeline_importada.get_params()\n",
    "params"
   ]
  }
 ],
 "metadata": {
  "kernelspec": {
   "display_name": "toolkit",
   "language": "python",
   "name": "python3"
  },
  "language_info": {
   "codemirror_mode": {
    "name": "ipython",
    "version": 3
   },
   "file_extension": ".py",
   "mimetype": "text/x-python",
   "name": "python",
   "nbconvert_exporter": "python",
   "pygments_lexer": "ipython3",
   "version": "3.10.9"
  },
  "orig_nbformat": 4
 },
 "nbformat": 4,
 "nbformat_minor": 2
}
