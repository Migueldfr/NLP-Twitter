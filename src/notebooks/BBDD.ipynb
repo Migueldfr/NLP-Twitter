{
 "cells": [
  {
   "cell_type": "code",
   "execution_count": 2,
   "metadata": {},
   "outputs": [],
   "source": [
    "from sqlalchemy import create_engine\n",
    "import pymysql\n",
    "import pandas as pd\n",
    "import sqlite3\n"
   ]
  },
  {
   "cell_type": "code",
   "execution_count": 3,
   "metadata": {},
   "outputs": [],
   "source": [
    "df = pd.read_csv('../data/Twitter.csv')"
   ]
  },
  {
   "cell_type": "code",
   "execution_count": 8,
   "metadata": {},
   "outputs": [],
   "source": [
    "# Create a Database in AWS, with two diferents tables (tweets and users)\n",
    "\n",
    "db = pymysql.connect(host = 'database-1.cxntqt2e7csj.us-east-1.rds.amazonaws.com',\n",
    "                     user = 'admin',\n",
    "                     password = '12345678',\n",
    "                     cursorclass = pymysql.cursors.DictCursor\n",
    ")\n",
    "\n",
    "cursor = db.cursor()"
   ]
  },
  {
   "cell_type": "code",
   "execution_count": 9,
   "metadata": {},
   "outputs": [
    {
     "data": {
      "text/plain": [
       "1"
      ]
     },
     "execution_count": 9,
     "metadata": {},
     "output_type": "execute_result"
    }
   ],
   "source": [
    "# Create a new Database inside AWS\n",
    "create_db = '''CREATE DATABASE Twitter'''\n",
    "cursor.execute(create_db)"
   ]
  },
  {
   "cell_type": "code",
   "execution_count": 10,
   "metadata": {},
   "outputs": [
    {
     "data": {
      "text/plain": [
       "0"
      ]
     },
     "execution_count": 10,
     "metadata": {},
     "output_type": "execute_result"
    }
   ],
   "source": [
    "# Use the Database\n",
    "cursor.connection.commit()\n",
    "use_db = ''' USE Twitter'''\n",
    "cursor.execute(use_db)"
   ]
  },
  {
   "cell_type": "code",
   "execution_count": 11,
   "metadata": {},
   "outputs": [
    {
     "data": {
      "text/plain": [
       "0"
      ]
     },
     "execution_count": 11,
     "metadata": {},
     "output_type": "execute_result"
    }
   ],
   "source": [
    "# Create the tweets table\n",
    "create_table = '''\n",
    "CREATE TABLE tweets (\n",
    "    id_user INT,\n",
    "    date DATETIME,\n",
    "    tweets TEXT,\n",
    "    primary key (id_user)\n",
    ")\n",
    "'''\n",
    "cursor.execute(create_table)"
   ]
  },
  {
   "cell_type": "code",
   "execution_count": 12,
   "metadata": {},
   "outputs": [
    {
     "data": {
      "text/html": [
       "<div>\n",
       "<style scoped>\n",
       "    .dataframe tbody tr th:only-of-type {\n",
       "        vertical-align: middle;\n",
       "    }\n",
       "\n",
       "    .dataframe tbody tr th {\n",
       "        vertical-align: top;\n",
       "    }\n",
       "\n",
       "    .dataframe thead th {\n",
       "        text-align: right;\n",
       "    }\n",
       "</style>\n",
       "<table border=\"1\" class=\"dataframe\">\n",
       "  <thead>\n",
       "    <tr style=\"text-align: right;\">\n",
       "      <th></th>\n",
       "      <th>id_user</th>\n",
       "      <th>date</th>\n",
       "      <th>tweets</th>\n",
       "    </tr>\n",
       "  </thead>\n",
       "  <tbody>\n",
       "    <tr>\n",
       "      <th>0</th>\n",
       "      <td>1585726199485140993</td>\n",
       "      <td>2023-03-06 10:38:30+00:00</td>\n",
       "      <td>Las inscripciones se realizarán por Eventbrite...</td>\n",
       "    </tr>\n",
       "    <tr>\n",
       "      <th>1</th>\n",
       "      <td>1585726199485140993</td>\n",
       "      <td>2023-03-06 10:38:30+00:00</td>\n",
       "      <td>¡Por fin podemos publicar el cartel con los po...</td>\n",
       "    </tr>\n",
       "    <tr>\n",
       "      <th>2</th>\n",
       "      <td>41545659</td>\n",
       "      <td>2023-03-06 08:48:56+00:00</td>\n",
       "      <td>Encuentro de la @mlopscommunity en Madrid: \"ML...</td>\n",
       "    </tr>\n",
       "    <tr>\n",
       "      <th>3</th>\n",
       "      <td>925597948410580993</td>\n",
       "      <td>2023-03-04 22:32:56+00:00</td>\n",
       "      <td>@nodosenlared @snowded @TheBridge_Tech Muy bue...</td>\n",
       "    </tr>\n",
       "    <tr>\n",
       "      <th>4</th>\n",
       "      <td>276656109</td>\n",
       "      <td>2023-03-04 14:08:54+00:00</td>\n",
       "      <td>@PauMugarra @ToniDorta @TheBridge_Tech https:/...</td>\n",
       "    </tr>\n",
       "  </tbody>\n",
       "</table>\n",
       "</div>"
      ],
      "text/plain": [
       "               id_user                       date  \\\n",
       "0  1585726199485140993  2023-03-06 10:38:30+00:00   \n",
       "1  1585726199485140993  2023-03-06 10:38:30+00:00   \n",
       "2             41545659  2023-03-06 08:48:56+00:00   \n",
       "3   925597948410580993  2023-03-04 22:32:56+00:00   \n",
       "4            276656109  2023-03-04 14:08:54+00:00   \n",
       "\n",
       "                                              tweets  \n",
       "0  Las inscripciones se realizarán por Eventbrite...  \n",
       "1  ¡Por fin podemos publicar el cartel con los po...  \n",
       "2  Encuentro de la @mlopscommunity en Madrid: \"ML...  \n",
       "3  @nodosenlared @snowded @TheBridge_Tech Muy bue...  \n",
       "4  @PauMugarra @ToniDorta @TheBridge_Tech https:/...  "
      ]
     },
     "execution_count": 12,
     "metadata": {},
     "output_type": "execute_result"
    }
   ],
   "source": [
    "# Create the dataset for getting inside of table\n",
    "tweets = df[['Id del autor','Fecha del tweet','Tweets']]\n",
    "tweets.columns = ['id_user','date','tweets']\n",
    "tweets.head()"
   ]
  },
  {
   "cell_type": "code",
   "execution_count": 13,
   "metadata": {},
   "outputs": [
    {
     "data": {
      "text/plain": [
       "0"
      ]
     },
     "execution_count": 13,
     "metadata": {},
     "output_type": "execute_result"
    }
   ],
   "source": [
    "# Create the usuarios table\n",
    "create_table = '''\n",
    "CREATE TABLE usuarios (\n",
    "    id_user INT,\n",
    "    username TEXT,\n",
    "    primary key (id_user)\n",
    ")\n",
    "'''\n",
    "cursor.execute(create_table)"
   ]
  },
  {
   "cell_type": "code",
   "execution_count": 14,
   "metadata": {},
   "outputs": [
    {
     "data": {
      "text/html": [
       "<div>\n",
       "<style scoped>\n",
       "    .dataframe tbody tr th:only-of-type {\n",
       "        vertical-align: middle;\n",
       "    }\n",
       "\n",
       "    .dataframe tbody tr th {\n",
       "        vertical-align: top;\n",
       "    }\n",
       "\n",
       "    .dataframe thead th {\n",
       "        text-align: right;\n",
       "    }\n",
       "</style>\n",
       "<table border=\"1\" class=\"dataframe\">\n",
       "  <thead>\n",
       "    <tr style=\"text-align: right;\">\n",
       "      <th></th>\n",
       "      <th>id_user</th>\n",
       "      <th>username</th>\n",
       "    </tr>\n",
       "  </thead>\n",
       "  <tbody>\n",
       "    <tr>\n",
       "      <th>0</th>\n",
       "      <td>1585726199485140993</td>\n",
       "      <td>ESOLIUPO</td>\n",
       "    </tr>\n",
       "    <tr>\n",
       "      <th>1</th>\n",
       "      <td>1585726199485140993</td>\n",
       "      <td>ESOLIUPO</td>\n",
       "    </tr>\n",
       "    <tr>\n",
       "      <th>2</th>\n",
       "      <td>41545659</td>\n",
       "      <td>nodosenlared</td>\n",
       "    </tr>\n",
       "    <tr>\n",
       "      <th>3</th>\n",
       "      <td>925597948410580993</td>\n",
       "      <td>RoccoLozano</td>\n",
       "    </tr>\n",
       "    <tr>\n",
       "      <th>4</th>\n",
       "      <td>276656109</td>\n",
       "      <td>joobid</td>\n",
       "    </tr>\n",
       "  </tbody>\n",
       "</table>\n",
       "</div>"
      ],
      "text/plain": [
       "               id_user      username\n",
       "0  1585726199485140993      ESOLIUPO\n",
       "1  1585726199485140993      ESOLIUPO\n",
       "2             41545659  nodosenlared\n",
       "3   925597948410580993   RoccoLozano\n",
       "4            276656109        joobid"
      ]
     },
     "execution_count": 14,
     "metadata": {},
     "output_type": "execute_result"
    }
   ],
   "source": [
    "# Create the dataset for getting inside of table\n",
    "usuarios = df[['Id del autor','Nombre de usuario']]\n",
    "usuarios.columns = ['id_user','username']\n",
    "usuarios.head()"
   ]
  },
  {
   "cell_type": "code",
   "execution_count": 15,
   "metadata": {},
   "outputs": [],
   "source": [
    "# Get in all values we want \n",
    "engine = create_engine(\"mysql+pymysql://{user}:{pw}@{host}/{db}\".format(user = 'admin', pw = '12345678', host = 'database-1.cxntqt2e7csj.us-east-1.rds.amazonaws.com', db = 'Twitter'))\n"
   ]
  },
  {
   "cell_type": "code",
   "execution_count": 16,
   "metadata": {},
   "outputs": [
    {
     "data": {
      "text/plain": [
       "128"
      ]
     },
     "execution_count": 16,
     "metadata": {},
     "output_type": "execute_result"
    }
   ],
   "source": [
    "# When you need to add new values, you shoud write down 'append', because in that case i will rewrite the values\n",
    "\n",
    "tweets.to_sql(name='tweets', con=engine, if_exists= 'replace', index=False)"
   ]
  },
  {
   "cell_type": "code",
   "execution_count": 17,
   "metadata": {},
   "outputs": [
    {
     "data": {
      "text/plain": [
       "128"
      ]
     },
     "execution_count": 17,
     "metadata": {},
     "output_type": "execute_result"
    }
   ],
   "source": [
    "# When you need to add new values, you shoud write down 'append', because in that case i will rewrite the values\n",
    "\n",
    "usuarios.to_sql(name='usuarios', con=engine, if_exists= 'replace', index=False)"
   ]
  },
  {
   "cell_type": "code",
   "execution_count": 18,
   "metadata": {},
   "outputs": [],
   "source": [
    "db.commit()"
   ]
  },
  {
   "cell_type": "code",
   "execution_count": 19,
   "metadata": {},
   "outputs": [
    {
     "data": {
      "text/plain": [
       "[{'id_user': 1585726199485140993, 'username': 'ESOLIUPO'},\n",
       " {'id_user': 1585726199485140993, 'username': 'ESOLIUPO'},\n",
       " {'id_user': 41545659, 'username': 'nodosenlared'},\n",
       " {'id_user': 925597948410580993, 'username': 'RoccoLozano'},\n",
       " {'id_user': 276656109, 'username': 'joobid'},\n",
       " {'id_user': 1003872445, 'username': 'PauMugarra'},\n",
       " {'id_user': 763727449, 'username': 'OmarjLand'},\n",
       " {'id_user': 1207228796593745920, 'username': 'decentralized_b'},\n",
       " {'id_user': 1207228796593745920, 'username': 'decentralized_b'},\n",
       " {'id_user': 2603024598, 'username': 'rperezmarco'},\n",
       " {'id_user': 1207228796593745920, 'username': 'decentralized_b'},\n",
       " {'id_user': 1099588676181471233, 'username': 'turoninos'},\n",
       " {'id_user': 1685197165, 'username': 'Metricool_es'},\n",
       " {'id_user': 1685197165, 'username': 'Metricool_es'},\n",
       " {'id_user': 1288769305014939650, 'username': '42UrdulizFTef'},\n",
       " {'id_user': 1003872445, 'username': 'PauMugarra'},\n",
       " {'id_user': 1099588676181471233, 'username': 'turoninos'},\n",
       " {'id_user': 1530194743786881024, 'username': 'BitcoinTuesday_'},\n",
       " {'id_user': 4899284631, 'username': 'my_tech_plan'},\n",
       " {'id_user': 106344840, 'username': 'camaradesevilla'},\n",
       " {'id_user': 1288769305014939650, 'username': '42UrdulizFTef'},\n",
       " {'id_user': 2611663910, 'username': 'tugesto'},\n",
       " {'id_user': 1065627197115981824, 'username': 'Aqua_Radar'},\n",
       " {'id_user': 2218313375, 'username': 'IcanadasM'},\n",
       " {'id_user': 10279282, 'username': 'mkpositivo'},\n",
       " {'id_user': 112458375, 'username': 'enriquemartiin'},\n",
       " {'id_user': 207894341, 'username': 'PagePersonnelES'},\n",
       " {'id_user': 2402179123, 'username': 'jorgegrev'},\n",
       " {'id_user': 4899284631, 'username': 'my_tech_plan'},\n",
       " {'id_user': 1068424025356021760, 'username': 'Ari_Reinventada'},\n",
       " {'id_user': 1437857235036786693, 'username': 'Yenito_'},\n",
       " {'id_user': 550417439, 'username': 'BilboStack'},\n",
       " {'id_user': 1101664008, 'username': 'birthmarkbart'},\n",
       " {'id_user': 550417439, 'username': 'BilboStack'},\n",
       " {'id_user': 1455515154133786625, 'username': 'Tadatic_'},\n",
       " {'id_user': 550417439, 'username': 'BilboStack'},\n",
       " {'id_user': 1455515154133786625, 'username': 'Tadatic_'},\n",
       " {'id_user': 1524905248007114783, 'username': 'FiscoRodriguez'},\n",
       " {'id_user': 106344840, 'username': 'camaradesevilla'},\n",
       " {'id_user': 41545659, 'username': 'nodosenlared'},\n",
       " {'id_user': 2402179123, 'username': 'jorgegrev'},\n",
       " {'id_user': 4899284631, 'username': 'my_tech_plan'},\n",
       " {'id_user': 550417439, 'username': 'BilboStack'},\n",
       " {'id_user': 1288769305014939650, 'username': '42UrdulizFTef'},\n",
       " {'id_user': 2402179123, 'username': 'jorgegrev'},\n",
       " {'id_user': 91876265, 'username': 'ddamasd'},\n",
       " {'id_user': 1003872445, 'username': 'PauMugarra'},\n",
       " {'id_user': 7154412, 'username': 'Recuenco'},\n",
       " {'id_user': 866742930, 'username': 'nudpiedo'},\n",
       " {'id_user': 7154412, 'username': 'Recuenco'},\n",
       " {'id_user': 17287251, 'username': 'Godivaciones'},\n",
       " {'id_user': 17287251, 'username': 'Godivaciones'},\n",
       " {'id_user': 7154412, 'username': 'Recuenco'},\n",
       " {'id_user': 141272779, 'username': 'ae_bm'},\n",
       " {'id_user': 17287251, 'username': 'Godivaciones'},\n",
       " {'id_user': 417307513, 'username': 'Popmart_u2'},\n",
       " {'id_user': 141272779, 'username': 'ae_bm'},\n",
       " {'id_user': 17287251, 'username': 'Godivaciones'},\n",
       " {'id_user': 212364786, 'username': 'designetworking'},\n",
       " {'id_user': 1610073819791728640, 'username': 'jnlpz22'},\n",
       " {'id_user': 7154412, 'username': 'Recuenco'},\n",
       " {'id_user': 1232105203, 'username': 'adriskou'},\n",
       " {'id_user': 2402179123, 'username': 'jorgegrev'},\n",
       " {'id_user': 163586106, 'username': 'ENCamaraSevilla'},\n",
       " {'id_user': 41545659, 'username': 'nodosenlared'},\n",
       " {'id_user': 41545659, 'username': 'nodosenlared'},\n",
       " {'id_user': 2402179123, 'username': 'jorgegrev'},\n",
       " {'id_user': 2529499620, 'username': 'formacion_fuc3'},\n",
       " {'id_user': 874916978665938945, 'username': 'Startup_VLC'},\n",
       " {'id_user': 2402179123, 'username': 'jorgegrev'},\n",
       " {'id_user': 2402179123, 'username': 'jorgegrev'},\n",
       " {'id_user': 1003872445, 'username': 'PauMugarra'},\n",
       " {'id_user': 570795448, 'username': 'EDEMempresarios'},\n",
       " {'id_user': 271028835, 'username': 'valientesempren'},\n",
       " {'id_user': 1530194743786881024, 'username': 'BitcoinTuesday_'},\n",
       " {'id_user': 10279282, 'username': 'mkpositivo'},\n",
       " {'id_user': 2402179123, 'username': 'jorgegrev'},\n",
       " {'id_user': 874916978665938945, 'username': 'Startup_VLC'},\n",
       " {'id_user': 1151510939105144834, 'username': 'EDEM_uni'},\n",
       " {'id_user': 570795448, 'username': 'EDEMempresarios'},\n",
       " {'id_user': 1128860148, 'username': 'Economia_3'},\n",
       " {'id_user': 570795448, 'username': 'EDEMempresarios'},\n",
       " {'id_user': 799935450844631040, 'username': 'MediterraneoPre'},\n",
       " {'id_user': 921670812637257728, 'username': 'VLCTechCity'},\n",
       " {'id_user': 1175646685, 'username': 'ValenciaNews_es'},\n",
       " {'id_user': 402013017, 'username': 'radiovalencia'},\n",
       " {'id_user': 570795448, 'username': 'EDEMempresarios'},\n",
       " {'id_user': 1407291884901482496, 'username': 'Cyber_Madrid'},\n",
       " {'id_user': 1530194743786881024, 'username': 'BitcoinTuesday_'},\n",
       " {'id_user': 108885393, 'username': 'ZucchettiSpain'},\n",
       " {'id_user': 49219057, 'username': 'javgr'},\n",
       " {'id_user': 702077405045899264, 'username': 'BBK_eus'},\n",
       " {'id_user': 146406912, 'username': 'EditaOla'},\n",
       " {'id_user': 702077405045899264, 'username': 'BBK_eus'},\n",
       " {'id_user': 1530194743786881024, 'username': 'BitcoinTuesday_'},\n",
       " {'id_user': 108885393, 'username': 'ZucchettiSpain'},\n",
       " {'id_user': 702077405045899264, 'username': 'BBK_eus'},\n",
       " {'id_user': 702077405045899264, 'username': 'BBK_eus'},\n",
       " {'id_user': 702077405045899264, 'username': 'BBK_eus'},\n",
       " {'id_user': 2529499620, 'username': 'formacion_fuc3'},\n",
       " {'id_user': 2402179123, 'username': 'jorgegrev'},\n",
       " {'id_user': 146406912, 'username': 'EditaOla'},\n",
       " {'id_user': 146406912, 'username': 'EditaOla'},\n",
       " {'id_user': 146406912, 'username': 'EditaOla'},\n",
       " {'id_user': 1951117790, 'username': 'Infolagun'},\n",
       " {'id_user': 702077405045899264, 'username': 'BBK_eus'},\n",
       " {'id_user': 702077405045899264, 'username': 'BBK_eus'},\n",
       " {'id_user': 702077405045899264, 'username': 'BBK_eus'},\n",
       " {'id_user': 702077405045899264, 'username': 'BBK_eus'},\n",
       " {'id_user': 702077405045899264, 'username': 'BBK_eus'},\n",
       " {'id_user': 702077405045899264, 'username': 'BBK_eus'},\n",
       " {'id_user': 702077405045899264, 'username': 'BBK_eus'},\n",
       " {'id_user': 702077405045899264, 'username': 'BBK_eus'},\n",
       " {'id_user': 702077405045899264, 'username': 'BBK_eus'},\n",
       " {'id_user': 702077405045899264, 'username': 'BBK_eus'},\n",
       " {'id_user': 702077405045899264, 'username': 'BBK_eus'},\n",
       " {'id_user': 702077405045899264, 'username': 'BBK_eus'},\n",
       " {'id_user': 702077405045899264, 'username': 'BBK_eus'},\n",
       " {'id_user': 702077405045899264, 'username': 'BBK_eus'},\n",
       " {'id_user': 702077405045899264, 'username': 'BBK_eus'},\n",
       " {'id_user': 378449449, 'username': 'ExpansionaT'},\n",
       " {'id_user': 2402179123, 'username': 'jorgegrev'},\n",
       " {'id_user': 2402179123, 'username': 'jorgegrev'},\n",
       " {'id_user': 1407291884901482496, 'username': 'Cyber_Madrid'},\n",
       " {'id_user': 823470817963032576, 'username': 'BBKnetwork'},\n",
       " {'id_user': 783248945761910788, 'username': 'HoplaSoftware'},\n",
       " {'id_user': 702077405045899264, 'username': 'BBK_eus'},\n",
       " {'id_user': 702077405045899264, 'username': 'BBK_eus'}]"
      ]
     },
     "execution_count": 19,
     "metadata": {},
     "output_type": "execute_result"
    }
   ],
   "source": [
    "sql = '''SELECT * FROM usuarios'''\n",
    "cursor.execute(sql)\n",
    "mi_tabla = cursor.fetchall()\n",
    "mi_tabla"
   ]
  },
  {
   "cell_type": "code",
   "execution_count": 20,
   "metadata": {},
   "outputs": [
    {
     "data": {
      "text/plain": [
       "[{'id_user': 1585726199485140993,\n",
       "  'date': '2023-03-06 10:38:30+00:00',\n",
       "  'tweets': 'Las inscripciones se realizarán por Eventbrite. Cualquier duda estamos por MD o al correo info@esoliupo.es\\nhttps://t.co/xhVr7VXcF3\\n\\n@epsUPO @TheBridge_Tech'},\n",
       " {'id_user': 1585726199485140993,\n",
       "  'date': '2023-03-06 10:38:30+00:00',\n",
       "  'tweets': '¡Por fin podemos publicar el cartel con los ponentes para el #cybersecTalks! Si estás interesadx en alguna de las temáticas que aparecen no dudes en venir, es totalmente gratuito gracias al patrocinio de @TheBridge_Tech y la colaboración de @epsUPO @pablodeolavide \\n(+ info abajo) https://t.co/JF85MDGmXc'},\n",
       " {'id_user': 41545659,\n",
       "  'date': '2023-03-06 08:48:56+00:00',\n",
       "  'tweets': 'Encuentro de la @mlopscommunity en Madrid: \"MLOPs: desde las trincheras\" https://t.co/CHojEAs7ij en @TheBridge_Tech Ven a conocer la práctica #MLOps en Correcto., @Busuu @wallapop https://t.co/odie5CAuHU'},\n",
       " {'id_user': 925597948410580993,\n",
       "  'date': '2023-03-04 22:32:56+00:00',\n",
       "  'tweets': '@nodosenlared @snowded @TheBridge_Tech Muy buena foto desde el Círculo de Bellas Artes'},\n",
       " {'id_user': 276656109,\n",
       "  'date': '2023-03-04 14:08:54+00:00',\n",
       "  'tweets': '@PauMugarra @ToniDorta @TheBridge_Tech https://t.co/qv4oryC9i3'},\n",
       " {'id_user': 1003872445,\n",
       "  'date': '2023-03-04 11:22:58+00:00',\n",
       "  'tweets': 'El meetup del jueves 9 de marzo con @ToniDorta se realizará finalmente @TheBridge_Tech 😄\\nNos sentimos tremendamente agradecidos por su generosidad.\\n¡Nos vemos este jueves!'},\n",
       " {'id_user': 763727449,\n",
       "  'date': '2023-03-03 15:13:49+00:00',\n",
       "  'tweets': 'Hoy me llegó esta estupenda mochila y unos gadgets por pasar el RampUp del #Bootcamp de desarrollo web Gracias a @TheBridge_Tech por este detalle 😱🧑\\u200d💻 #FullStackDeveloper https://t.co/0NY1BjTBHH'},\n",
       " {'id_user': 1207228796593745920,\n",
       "  'date': '2023-03-03 10:22:22+00:00',\n",
       "  'tweets': 'Ya esta publicado el meetup de @BitcoinTuesday_ para este 14 de Marzo a las 7PM en @TheBridge_Tech \\nMuy interesante:\\n\"Aplicaciones sobre Bitcoin con Agram Project!\\nCrea aplicaciones sin necesidad de usar código, sobre el stack de tecnologías de Bitcoin\"\\n \\nhttps://t.co/NQu4cxiPPh'},\n",
       " {'id_user': 1207228796593745920,\n",
       "  'date': '2023-03-03 06:54:01+00:00',\n",
       "  'tweets': '@rperezmarco @BitcoinTuesday_ @TheBridge_Tech No, espero que hoy nos digan y se comunique 😬😬 https://t.co/0rFMxwrlo6'},\n",
       " {'id_user': 2603024598,\n",
       "  'date': '2023-03-03 05:33:19+00:00',\n",
       "  'tweets': '@decentralized_b @BitcoinTuesday_ @TheBridge_Tech Que suspense! Miniscript?'},\n",
       " {'id_user': 1207228796593745920,\n",
       "  'date': '2023-03-02 10:44:35+00:00',\n",
       "  'tweets': 'Este 14 de Marzo hay meetup en Madrid de @BitcoinTuesday_ , se va a hablar de un proyecto muy interesante para poder realizar desarrollos sobre Bitcoin. En breve se pasarán los detalles\\nIr reservando el día y la hora, 7 PM en @TheBridge_Tech'},\n",
       " {'id_user': 1099588676181471233,\n",
       "  'date': '2023-03-01 07:24:05+00:00',\n",
       "  'tweets': '@TheBridge_Tech @Vacolba , interesante'},\n",
       " {'id_user': 1685197165,\n",
       "  'date': '2023-02-17 13:25:58+00:00',\n",
       "  'tweets': '@42UrdulizFTef @EstiLeon @workinlansummit @TheBridge_Tech @BBK_eus @PSEBizkaia @josebamondarain @grupo_ssi @socialistavasco @PSEBilbao @MtzGra @elcorreo_alava @elcorreo_com Muy buenas interacciones están teniendo las comunidades de las siguientes cuentas que copan el TOP 12 del #WORKinlan 🏆 https://t.co/g8SdZl1vL2'},\n",
       " {'id_user': 1685197165,\n",
       "  'date': '2023-02-17 13:23:22+00:00',\n",
       "  'tweets': '@42UrdulizFTef @EstiLeon @workinlansummit @TheBridge_Tech @BBK_eus Hoy finaliza #WORKinlan y lo hace ya con una buena participación en Twitter y eso que aún queda todo el día de hoy 💪 https://t.co/54lcCbyUGi'},\n",
       " {'id_user': 1288769305014939650,\n",
       "  'date': '2023-02-16 17:07:33+00:00',\n",
       "  'tweets': '.@EstiLeon, Responsable del campus #42UrdulizFTef ya se encuentra participando de la mesa redonda - \"Nuevos formatos en la formación\" del @workinlansummit!\\n\\nCompartimos mesa con BBK Bootcamps by \\n@TheBridge_Tech, IED KunsthalBilbao y @BBK_eus\\n \\n#WORKinlan #Bizkaia #Educación https://t.co/Iu6ZYqlFLz'},\n",
       " {'id_user': 1003872445,\n",
       "  'date': '2023-02-16 09:51:54+00:00',\n",
       "  'tweets': 'Buenos días CPSers!\\nHoy podemos confirmar que el tercer meetup de la comunidad #CPS en Madrid será en @TheBridge_Tech. Agradecemos enormemente la generosidad de este espacio, y os esperamos el miércoles que viene!\\n\\nP.D: Aún quedan unas pocas plazas, estáis a tiempo de apuntaros'},\n",
       " {'id_user': 1099588676181471233,\n",
       "  'date': '2023-02-16 06:07:55+00:00',\n",
       "  'tweets': '@TheBridge_Tech @Vacolba @andresmacariog interesante'},\n",
       " {'id_user': 1530194743786881024,\n",
       "  'date': '2023-02-15 11:06:22+00:00',\n",
       "  'tweets': 'Gracias a nuestros amigos @TheBridge_Tech por acogernos ayer en una manera bastante flexible, tenéis el equipo más adorable de todo Madrid! ♥️\\n\\nFue genial pasar San Valentín hablando #Bitcoin  🙏'},\n",
       " {'id_user': 4899284631,\n",
       "  'date': '2023-02-13 13:36:10+00:00',\n",
       "  'tweets': 'Les compartimos un mini resumen del 1º encuentro de #reinventadxs\\n\\nY anunciamos que entramos en la cuenta regresiva del 2º, apúntate esta fecha: 30 de marzo.\\n\\n¿Te vemos en #Madrid?\\n\\nGracias a @thebridge_tech y el @milmadrid_ por hacerlo posible y nos vemos pronto!\\n\\n#mytechplan https://t.co/z5fwZzNR5w'},\n",
       " {'id_user': 106344840,\n",
       "  'date': '2023-02-07 09:51:05+00:00',\n",
       "  'tweets': '¡Nuevo taller de #empleabilidad en #Sevilla junto a \\n@InfoJobs! 💼\\n\\n¡En @ENCamaraSevilla abordaremos las nuevas #oportunidadeslaborales en el sector digital!\\n\\n📍 El 8 de febrero, a las 17:30h, en el Campus de @camaradesevilla con @TheBridge_Tech.\\n\\nInfo⤵️\\n\\nhttps://t.co/FFl1AV5DBf https://t.co/xUqEenBPZI'},\n",
       " {'id_user': 1288769305014939650,\n",
       "  'date': '2023-02-06 19:39:50+00:00',\n",
       "  'tweets': '@globalgamejam en #42UrdulizFTef, organizado con la colaboración de @DigiPenBilbao y BBK Bootcamps by @TheBridge_Tech\\n\\n70 jammers. 48 h. NON STOP.\\n\\n¿Quieres saber más sobre este eventazo? Visita nuestra web 👉 https://t.co/6vtlTFr4Yt\\n\\n#GGJ42FTef #GGJ #VideoGames #hackathon https://t.co/kBruFy1Atq'},\n",
       " {'id_user': 2611663910,\n",
       "  'date': '2023-02-03 06:32:08+00:00',\n",
       "  'tweets': 'Un placer asistir ayer al \"Taller UX/UI - Cómo maximizar el valor del usuario\" impartido en @EDEMempresarios por @TheBridge_Tech  y Miriam Sánchez Muñoz 👏👏👏 https://t.co/sG2PeFjMYq'},\n",
       " {'id_user': 1065627197115981824,\n",
       "  'date': '2023-02-02 17:38:37+00:00',\n",
       "  'tweets': 'Inicia MasterClass #DataScience ¿una #IA para gobernarlos a todos? @TheBridge_Tech @BBK_Kuna @BBK_eus #AI #ChatGPT #NLP https://t.co/FfDRNdSetk'},\n",
       " {'id_user': 2218313375,\n",
       "  'date': '2023-02-02 17:37:03+00:00',\n",
       "  'tweets': 'Masterclass en Data Science de los BootCamps de BBK powered by @TheBridge_Tech #artificalintelligence #ChatGPT https://t.co/Mefh3L19Gk'},\n",
       " {'id_user': 10279282,\n",
       "  'date': '2023-02-02 17:32:09+00:00',\n",
       "  'tweets': '¿Una IA para gobernarlos a todos?\\n@TheBridge_Tech https://t.co/CSeXEljxzF'},\n",
       " {'id_user': 112458375,\n",
       "  'date': '2023-02-02 09:46:33+00:00',\n",
       "  'tweets': 'Interesantísima jornada de #ProptechThursdays con @TheFringeLABS @DavidHueso #propper #hanok @CasafariRE @IntrumES @TheBridge_Tech https://t.co/va4wjPTBnJ'},\n",
       " {'id_user': 207894341,\n",
       "  'date': '2023-02-02 09:41:59+00:00',\n",
       "  'tweets': 'Nos hemos unido a @edemempresarios y @thebridge_tech para fomentar la formación en disciplinas digitales. 💻\\n\\nOfrecemos hasta 60 paquetes de ayudas para estudiar uno de los cuatro bootcamps impartidos en Valencia.\\n\\n¿Te vienes? 👉🏼 https://t.co/Ho6EwFqYen https://t.co/yKfKwXmTMq'},\n",
       " {'id_user': 2402179123,\n",
       "  'date': '2023-02-02 08:44:00+00:00',\n",
       "  'tweets': 'HOY a las 18:30 en @BBK_Kuna \\n\\n🧠🤖 Masterclass sobre Inteligencia Artificial #ChatGPT y otras IAs\\n\\nTambién explicaremos el #Bootcamp de #DataScience en #Bilbao \\n\\n@BBKnetwork @BBK_eus @TheBridge_Tech \\n\\nhttps://t.co/JiGdrdVPRf https://t.co/CBgyKBDtnm'},\n",
       " {'id_user': 4899284631,\n",
       "  'date': '2023-02-01 10:56:22+00:00',\n",
       "  'tweets': '@Yenito_ @milmadrid_ @Ari_Reinventada @Gobuub @TheBridge_Tech @madridinnova @Puerta_Inno @LaNaveMadrid @MADRID Que bueno! Nos vemos ahí!! 😊'},\n",
       " {'id_user': 1068424025356021760,\n",
       "  'date': '2023-01-31 17:39:02+00:00',\n",
       "  'tweets': '@Yenito_ @milmadrid_ @Gobuub @TheBridge_Tech @my_tech_plan @madridinnova @Puerta_Inno @LaNaveMadrid @MADRID Nos vemos ahí😊😊'},\n",
       " {'id_user': 1437857235036786693,\n",
       "  'date': '2023-01-31 17:35:11+00:00',\n",
       "  'tweets': '@milmadrid_ @Ari_Reinventada @Gobuub @TheBridge_Tech @my_tech_plan @madridinnova @Puerta_Inno @LaNaveMadrid @MADRID Que interesante esto! Ya me apunté'},\n",
       " {'id_user': 550417439,\n",
       "  'date': '2023-01-28 07:30:07+00:00',\n",
       "  'tweets': 'Recordamos tb a las patrocinadoras PLATINO. Comprometidas desde el minuto cero y sin las cuales, este evento no sería lo que va a ser: ENORME 🥰 \\n@plainconcepts @LifullConnEng  @bbk_eus by @TheBridge_Tech \\n\\nY KUDOS a @bilbao_udala @BilbaoEkintza como patrocinador principal https://t.co/bsxWeRkKGD'},\n",
       " {'id_user': 1101664008,\n",
       "  'date': '2023-01-27 16:06:53+00:00',\n",
       "  'tweets': \"@jorgegrev was one of the reasons I got into community. He has built countless communities/initiatives, brought tons of new folks into the ecosystem. He's currently rocking the @BBK_eus Bootcamp with @TheBridge_Tech helping unemployed people learn tech! https://t.co/m6QXoH6V69\"},\n",
       " {'id_user': 550417439,\n",
       "  'date': '2023-01-27 16:00:08+00:00',\n",
       "  'tweets': '¡Estudia ahora y paga cuando encuentres trabajo! Conviértete en experto digital con los #bootcamps de @bbk_eus by @TheBridge_Tech 👩\\u200d💻 En formato full time o part time tardes, presencial o híbrido ¡tú decides! \\n \\nMás info ➡ https://t.co/eVj9kI4yZH'},\n",
       " {'id_user': 1455515154133786625,\n",
       "  'date': '2023-01-27 14:08:51+00:00',\n",
       "  'tweets': '🤝🏻 Un placer aportar nuestro granito de arena en el #bootcamp de @TheBridge_Tech \\n\\nGracias a todos los asistentes por la acogida, estamos ultimando detalles de nuestra Guía de Empleo para que la tengáis disponible a lo largo del mes de febrero 📌🎁\\n\\n¡Nos vemos pronto!😁 https://t.co/CLTRmUN9Ob'},\n",
       " {'id_user': 550417439,\n",
       "  'date': '2023-01-27 11:15:00+00:00',\n",
       "  'tweets': 'Se buscan personas para cambiar de vida 😎¿Listo para ser una de ellas? Dale un giro a tu carrera y entrénate en las profesiones más demandas con los bootcamps de @bbk_eus by @TheBridge_Tech 🚀 \\n \\n¿Quieres saber más? ➡ https://t.co/eVj9kI4yZH'},\n",
       " {'id_user': 1455515154133786625,\n",
       "  'date': '2023-01-26 15:37:10+00:00',\n",
       "  'tweets': '📌 Hoy 26 de enero, tenemos el placer de participar en el Bootcamp de @TheBridge_Tech \\n\\nNuestro COO @javiercadierno hablará sobre empleabilidad en el marco actual\\n\\n🎁 Como novedad, también presentaremos una nueva Guía de Empleo que estará disponible en febrero \\n\\n¡Nos vemos!✌🏻'},\n",
       " {'id_user': 1524905248007114783,\n",
       "  'date': '2023-01-26 15:23:40+00:00',\n",
       "  'tweets': '@nodosenlared @snowded @TheBridge_Tech Y eso es religión??'},\n",
       " {'id_user': 106344840,\n",
       "  'date': '2023-01-26 12:58:57+00:00',\n",
       "  'tweets': '🎯¿Te gustaría acelerar tu #talento digital?\\n \\n¡Descubre las ventajas y oportunidades que ofrecen los #Bootcamps de @ENCamaraSevilla y @TheBridge_Tech, que se celebran en #Sevilla!\\n\\n🕞Hoy a las 18:00h➡️¡Todavía estás a tiempo de lanzar tu futuro!\\n\\nInfo:\\n\\nhttps://t.co/6uJDY9Hs1E https://t.co/rsbnVAP9Y1'},\n",
       " {'id_user': 41545659,\n",
       "  'date': '2023-01-24 20:44:09+00:00',\n",
       "  'tweets': 'Advanced #Cynefin, Estuarine mapping &amp; EUFG Masterclass (Madrid) https://t.co/H5ZSjbLfpZ | Los interesados en la aplicación de las ciencias de la complejidad en nuestro país tendremos la oportunidad de aprender de @snowded en persona el 16/3/23 en la sede de @TheBridge_Tech'},\n",
       " {'id_user': 2402179123,\n",
       "  'date': '2023-01-24 08:03:43+00:00',\n",
       "  'tweets': '📅Este jueves a las 18:30 en @BBK_Kuna #masterclass de desarrollo web #FullStack por @AlejandroRegex \\n\\nDescubre como introducirte al mundo de la #programación Web gracias a #BBKbootcamps \\n\\n@BBK_eus @TheBridge_Tech @BBKnetwork #Bilbao \\n\\n➡️Inscripción: https://t.co/k3ghb3Ys92 https://t.co/9JOy3bRRCp'},\n",
       " {'id_user': 4899284631,\n",
       "  'date': '2023-01-23 10:18:56+00:00',\n",
       "  'tweets': 'Pero aquí no termina esto! Después de las charlas, podrás conocerlos y charlar con ellos, ya que compartiremos unas cañas 🍻 y haremos networking del bueno, además de que sólo por asistir tendrás la posibilidad de acceder a becas especiales de nuestro partner @TheBridge_Tech'},\n",
       " {'id_user': 550417439,\n",
       "  'date': '2023-01-23 09:34:56+00:00',\n",
       "  'tweets': 'Aprende hoy las profesiones del futuro 👨\\u200d💻 Fórmate en #UxUiProductDesign, #DesarrolloWebFullStack, #DataScience y #Ciberseguridad con los bootcamps de @bbk_eus by @TheBridge_Tech y acelera tu carrera digital🚀\\nMás info 👉 https://t.co/fMszTZfHld'},\n",
       " {'id_user': 1288769305014939650,\n",
       "  'date': '2023-01-20 17:31:22+00:00',\n",
       "  'tweets': '💥 Llega la @globalgamejam , a #42UrdulizFTef, única sede en Bizkaia del evento de desarrollo de #videojuegos 🎮 más grande del mundo 🌍\\n\\n🗓 3-5 FEB\\n📍 42 Urduliz\\n\\nCon la colaboración de @DigiPenBilbao y @TheBridge_Tech @BBK_eus \\n\\n✍️ Inscríbete gratis en https://t.co/PV3kJn7Vvv https://t.co/IK9QGeuKeo'},\n",
       " {'id_user': 2402179123,\n",
       "  'date': '2023-01-20 09:17:27+00:00',\n",
       "  'tweets': '❓ ¿Para quién es un #bootcamp? ¿Tengo que saber de tecnología previamente? ¿Qué me puede aportar si ya tengo un perfil tecnológico? En este vídeo encontrarás respuestas.\\n\\n➡ Un click para el cambio: https://t.co/vLc8dw80y6\\n\\n@TheBridge_Tech @BBK_Kuna @BBK_eus https://t.co/BSSdNSY87l'},\n",
       " {'id_user': 91876265,\n",
       "  'date': '2023-01-19 13:45:11+00:00',\n",
       "  'tweets': 'Un buen resumen de mi charla de ayer sobre vulnerabilidades en el proceso de #CPS en @TheBridge_Tech.'},\n",
       " {'id_user': 1003872445,\n",
       "  'date': '2023-01-19 09:51:54+00:00',\n",
       "  'tweets': '@nudpiedo @Recuenco @Godivaciones @ae_bm @TheBridge_Tech @ddamasd Gracias por esta aclaración Víctor.'},\n",
       " {'id_user': 7154412,\n",
       "  'date': '2023-01-18 21:45:55+00:00',\n",
       "  'tweets': '@nudpiedo @Godivaciones @ae_bm @TheBridge_Tech @ddamasd @PauMugarra Es una reunión física de la comunidad CPS que gestiona @PauMugarra'},\n",
       " {'id_user': 866742930,\n",
       "  'date': '2023-01-18 21:31:09+00:00',\n",
       "  'tweets': '@Recuenco @Godivaciones @ae_bm @TheBridge_Tech @ddamasd @PauMugarra Sobreentiendo que se refieren a este https://t.co/QJdYaEsjyF\\n\\nMeetup, es una App de gente que organiza quedadas temáticas. La mayor parte de gente no se conoce a priori, puede ser de cualquier tema, está en todo el mundo.\\n\\nAhora quiero también saber yo si es otra cosa.'},\n",
       " {'id_user': 7154412,\n",
       "  'date': '2023-01-18 20:34:31+00:00',\n",
       "  'tweets': '@Godivaciones @ae_bm @TheBridge_Tech @ddamasd Habla con @PauMugarra .'},\n",
       " {'id_user': 17287251,\n",
       "  'date': '2023-01-18 20:25:09+00:00',\n",
       "  'tweets': '@Recuenco @ae_bm @TheBridge_Tech @ddamasd Una cosa, puede ir cualquiera-cualquiera? Porque se debe anunciar en algún sitio, y no sé quiénes son “la comunidad”. Los de las afueras de la comunidad cabemos? (Para cuando pueda…).'},\n",
       " {'id_user': 17287251,\n",
       "  'date': '2023-01-18 20:14:43+00:00',\n",
       "  'tweets': '@Recuenco @ae_bm @TheBridge_Tech @ddamasd ✌️'},\n",
       " {'id_user': 7154412,\n",
       "  'date': '2023-01-18 20:07:26+00:00',\n",
       "  'tweets': '@ae_bm @Godivaciones @TheBridge_Tech @ddamasd Eso es. Y está abierto a toda la comunidad, no hace falta que sean alumnos.'},\n",
       " {'id_user': 141272779,\n",
       "  'date': '2023-01-18 19:23:29+00:00',\n",
       "  'tweets': '@Godivaciones @Recuenco @TheBridge_Tech @ddamasd creo que son independientes y el lugar del meetup puede variar'},\n",
       " {'id_user': 17287251,\n",
       "  'date': '2023-01-18 19:16:40+00:00',\n",
       "  'tweets': '@ae_bm @Recuenco @TheBridge_Tech @ddamasd Ya. Pregunto si está integrado en su máster (en colaboración con The Bridge) o es otra cosa distinta. Pero ahora creo recordar que el master CPS es online estricto.'},\n",
       " {'id_user': 417307513,\n",
       "  'date': '2023-01-18 19:01:43+00:00',\n",
       "  'tweets': '@Godivaciones @Recuenco @TheBridge_Tech @ddamasd Una charla de Diana en el marco de la comunidad CPS. Abierto a quien le apetezca ir'},\n",
       " {'id_user': 141272779,\n",
       "  'date': '2023-01-18 18:59:29+00:00',\n",
       "  'tweets': '@Godivaciones @Recuenco @TheBridge_Tech @ddamasd Meetup'},\n",
       " {'id_user': 17287251,\n",
       "  'date': '2023-01-18 18:48:45+00:00',\n",
       "  'tweets': '@Recuenco @TheBridge_Tech @ddamasd Es tu master? Otra cosa?'},\n",
       " {'id_user': 212364786,\n",
       "  'date': '2023-01-18 18:23:30+00:00',\n",
       "  'tweets': 'Mira las rectas en el techo de las fotos de @modaquetepario y de @Recuenco. Puede que el máster de #CPS ayude a encontrar la forma de convertir las luminarias del techo de @TheBridge_Tech en #Madrid en la sede de la oficina donde está @modaquetepario https://t.co/ba848HlgZs'},\n",
       " {'id_user': 1610073819791728640,\n",
       "  'date': '2023-01-18 18:15:04+00:00',\n",
       "  'tweets': '@Recuenco @TheBridge_Tech @ddamasd Qué suerte !!'},\n",
       " {'id_user': 7154412,\n",
       "  'date': '2023-01-18 18:06:30+00:00',\n",
       "  'tweets': 'En plena meet-up de CPS en @TheBridge_Tech con @ddamasd https://t.co/MkhnOh2Mzw'},\n",
       " {'id_user': 1232105203,\n",
       "  'date': '2023-01-18 17:11:05+00:00',\n",
       "  'tweets': '@TheBridge_Tech Hola, estoy intentando entrar en la videoconferencia con vuestro enlace, pero no parece que funcione.'},\n",
       " {'id_user': 2402179123,\n",
       "  'date': '2023-01-17 12:34:14+00:00',\n",
       "  'tweets': '¿Sabes qué es un #𝗳𝘂𝗹𝗹𝘀𝘁𝗮𝗰𝗸 𝗱𝗲𝘃𝗲𝗹𝗼𝗽𝗲𝗿? ¿Te gusta la 𝗽𝗿𝗼𝗴𝗿𝗮𝗺𝗮𝗰𝗶𝗼́𝗻 #𝘄𝗲𝗯? El 𝗱𝗶́𝗮 𝟮𝟲 𝗲𝗻 @BBK_Kuna te invitamos a una #masterclass introductoria con @AlejandroRegex\\n\\nOrganizada por #BBKbootcamps @BBK_eus @TheBridge_Tech https://t.co/k3ghb3Ys92'},\n",
       " {'id_user': 163586106,\n",
       "  'date': '2023-01-17 09:27:40+00:00',\n",
       "  'tweets': '🎯¿Quieres saber cómo acelerar tu talento digital?\\n \\n¡Entonces no puedes perderte nuestra jornada de puertas abiertas de #Bootcamps que organiza @TheBridge_Tech!\\n\\n¡Te esperamos!⤵️\\u200a\\n\\n📍Sede Formación (Calle Isabela, 1)\\n📅\\u200a26 de enero a las 18:00H\\n📲\\u200ahttps://t.co/LJXSoA2yR4 https://t.co/0mPVb2sQak'},\n",
       " {'id_user': 41545659,\n",
       "  'date': '2023-01-15 13:16:24+00:00',\n",
       "  'tweets': '@snowded @TheBridge_Tech Se trata de un taller avanzado, que cubre los últimos avances en los diferentes marcos desarrollados por @snowded , con especial mención del #Estuarine framework. https://t.co/8EVHVXGYmc , en mi opinión la aportación más importante hecha en 2022 en materia de #AppliedComplexity https://t.co/mUCg9eywvt'},\n",
       " {'id_user': 41545659,\n",
       "  'date': '2023-01-15 13:16:23+00:00',\n",
       "  'tweets': 'Advanced #Cynefin, Estuarine mapping &amp; EUFG Masterclass (Madrid) https://t.co/H5ZSjbKHAr | Los interesados en la aplicación de las ciencias de la complejidad en nuestro país tendremos la oportunidad de aprender de @snowded en persona el 16/3/23 en la sede de @TheBridge_Tech https://t.co/LavCfgYIht'},\n",
       " {'id_user': 2402179123,\n",
       "  'date': '2023-01-13 08:55:42+00:00',\n",
       "  'tweets': 'Así fue la jornada de diseño de producto digital #uxui ayer en @BBK_Kuna impartida por José Luis Tienza de @TheBridge_Tech \\n\\nSi te quedaste con ganas de más aquí tienes nuestro #BBKbootcamp https://t.co/Yoq7FGIH1T https://t.co/W5eHltyp8X'},\n",
       " {'id_user': 2529499620,\n",
       "  'date': '2023-01-12 12:54:44+00:00',\n",
       "  'tweets': '¿Quieres dedicarte al #desarrolloweb?\\n¡Conéctate a nuestra sesión informativa y conoce nuestro #bootcamp junto @TheBridge_Tech !\\n\\n📆17 ene\\n⏰17h\\n💻Online\\n\\nEntrada gratuita 🎟\\nhttps://t.co/y2a9xcIrxz\\n\\n#desarrollowebfullstack #programacionweb #backend #frontend https://t.co/fXjSfpXt1g'},\n",
       " {'id_user': 874916978665938945,\n",
       "  'date': '2023-01-12 10:20:00+00:00',\n",
       "  'tweets': '🧐 ¿Quieres ser un profesional de la #ciberseguridad, el diseño de productos UX/UI, el Data Science o el desarrollo #FullStack?\\n\\nInscríbete al OpenDay de @EDEMempresarios powered by @TheBridge_Tech que se realizará hoy a las 18:00 en sus instalaciones 🤳\\nhttps://t.co/Nwl3MnKFmU'},\n",
       " {'id_user': 2402179123,\n",
       "  'date': '2023-01-12 08:31:28+00:00',\n",
       "  'tweets': 'HOY #masterclass de #UXUI Introducción al diseño de #producto digital con Jose Luis Tienza \\n\\n🕐 18:30h. en @BBK_Kuna, Urazurrutia Kalea 3, #Bilbao \\n\\nOrganiza: #BBKbootcamps by The Bridge\\n@BBK_eus @TheBridge_Tech \\n\\nhttps://t.co/yHHKfmgc0t'},\n",
       " {'id_user': 2402179123,\n",
       "  'date': '2023-01-10 10:48:57+00:00',\n",
       "  'tweets': '👨\\u200d💻 Este 𝗷𝘂𝗲𝘃𝗲𝘀 𝗮 𝗹𝗮𝘀 𝟭𝟴:𝟯𝟬 𝗲𝗻 @BBK_Kuna  #Masterclass de diseño de producto digital #UXUI con Jose Luis Tienza.\\n\\nExplicaremos cómo #bbkbootcamps te pueden ayudar a ser un profesional digital gracias a @BBK_eus @TheBridge_Tech \\n\\n➡️Apúntate:\\nhttps://t.co/yHHKfmgc0t https://t.co/3hWyHylVEb'},\n",
       " {'id_user': 1003872445,\n",
       "  'date': '2023-01-09 12:40:07+00:00',\n",
       "  'tweets': 'Ya tenemos confirmado el sitio donde haremos el meetup de #CPS de la semana que viene. La gente de @TheBridge_Tech, en su infinita generosidad, vuelve a dejarnos su espacio.\\n\\nY también tenemos título para la charla de @ddamasd: \"Las ingles\".\\n\\n¡Nos vemos allí!'},\n",
       " {'id_user': 570795448,\n",
       "  'date': '2023-01-09 09:41:46+00:00',\n",
       "  'tweets': '¿Quieres desarrollar tu carrera en el mundo digital y tech?Te contamos cómo en el #OpenDay #Bootcamps con @TheBridge_Tech\\n\\nTe esperamos si te apasiona el mundo de la ciberseguridad, ciencia de datos, desarrollo de software o diseño de productos digitales👉https://t.co/NXRiXndJAD https://t.co/m10cly6Bgv'},\n",
       " {'id_user': 271028835,\n",
       "  'date': '2023-01-07 19:55:52+00:00',\n",
       "  'tweets': '🚀 @EDEMempresarios  y @TheBridge_Tech  se alían para impartir bootcamps de desarrollo digital y tecnológico en Valencia | Valientes Emprendedores https://t.co/OBYdVWWPQy'},\n",
       " {'id_user': 1530194743786881024,\n",
       "  'date': '2023-01-06 12:28:27+00:00',\n",
       "  'tweets': 'Gracias a nuestros amigos @TheBridge_Tech por acogernos otra vez! 🙏'},\n",
       " {'id_user': 10279282,\n",
       "  'date': '2023-01-04 15:02:11+00:00',\n",
       "  'tweets': '¿Te interesa el diseño de #producto digital? Ven a una #masterclass de #uxui gratuita gracias a #BBKbootcamps\\n\\n📅 Jueves 12 de enero a las 18:30h.\\n🕐 1 hora\\n👥 @BBK_Kuna, Urazurrutia Kalea 3, #Bilbao\\nOrganiza: BBK Bootcamps by @TheBridge_Tech  https://t.co/T3xvMIT9My'},\n",
       " {'id_user': 2402179123,\n",
       "  'date': '2023-01-04 11:57:41+00:00',\n",
       "  'tweets': '¡Empezamos el año con una #masterclass de #uxui! Introducción al diseño de #producto digital gracias a Jose Luis Tienza \\n\\n📅 Jueves 12 de enero a las 18:30h.\\n🕐 1 hora\\n👥 @BBK_Kuna, Urazurrutia Kalea 3, #Bilbao\\nOrganiza: BBK Bootcamps by @TheBridge_Tech\\n\\nhttps://t.co/yHHKfmgJQ1'},\n",
       " {'id_user': 874916978665938945,\n",
       "  'date': '2023-01-02 15:15:00+00:00',\n",
       "  'tweets': '🤝 @EDEMempresarios se alía con @TheBridge_Tech para impartir bootcamps tecnológicos en #Valencia\\n\\nLa alianza busca reducir la brecha digital existente potenciando la formación tecnológica con más empleabilidad y demanda dentro del mercado laboral 🚀\\nhttps://t.co/9zNT9BuCz3'},\n",
       " {'id_user': 1151510939105144834,\n",
       "  'date': '2022-12-29 16:39:19+00:00',\n",
       "  'tweets': 'Empieza el año formándote en una de las profesiones con más 𝗱𝗲𝗺𝗮𝗻𝗱𝗮 𝗹𝗮𝗯𝗼𝗿𝗮𝗹. ⚠\\n\\nToma las riendas del 2023 y vente el 12/01 al Open Day donde te contaremos todo sobre los Bootcamps que te cambiarán la vida junto a @TheBridge_Tech. 🤯\\n\\nhttps://t.co/RnAcI6FUzc'},\n",
       " {'id_user': 570795448,\n",
       "  'date': '2022-12-29 12:52:11+00:00',\n",
       "  'tweets': 'Los 4 bootcamps tecnológicos de EDEM y @TheBridge_Tech en los empleos más demandados 🔝\\n\\n▶ Data Science\\n▶ Desarrollo Web Full Stack\\n▶ UX/UI Product Design\\n▶ Ciberseguridad\\n\\nToda la info ⬇\\nhttps://t.co/hXDfJnLKPl'},\n",
       " {'id_user': 1128860148,\n",
       "  'date': '2022-12-29 09:16:11+00:00',\n",
       "  'tweets': '@EDEMempresarios acoge el 12 de enero un Open Day en el que participan responsables de @TheBridge_Tech y de @EDEMempresarios para presentar los 4 bootcamps que acercarán a sus alumnos a profesiones con alta demanda\\xa0\\n\\nhttps://t.co/ICzciLvWBo'},\n",
       " {'id_user': 570795448,\n",
       "  'date': '2022-12-27 09:00:57+00:00',\n",
       "  'tweets': 'Si estás buscando una profesión que te cambie la vida, acércate a nuestro Open Day donde presentaremos la alianza #EDEMpoweredbyTheBridge @TheBridge_Tech, una serie de bootcamps de desarrollo digital y tecnológico.\\n\\nhttps://t.co/NXRiXndJAD https://t.co/76bmkSVtzc'},\n",
       " {'id_user': 799935450844631040,\n",
       "  'date': '2022-12-22 23:51:18+00:00',\n",
       "  'tweets': '. @EDEMempresarios y  @TheBridge_Tech se alían para impartir bootcamps de desarrollo digital y tecnológico en Valencia @marina_empresas ☛  https://t.co/LzsE3Tssvm #mediterráneopress #tudiariodigital #comunitatvalenciana #política #economía #empresa #turismo vía @MediterrneoPress'},\n",
       " {'id_user': 921670812637257728,\n",
       "  'date': '2022-12-22 09:59:38+00:00',\n",
       "  'tweets': '📚 Formación\\n\\n@EDEMempresarios y la aceleradora de talento digital @TheBridge_Tech se unen para impartir #bootcamps tecnológicos\\n\\nEl objetivo es reducir la brecha digital y potenciar la formación en competencias digitales y tecnológicas\\n\\n📪 @valenciaplaza\\n\\nhttps://t.co/ce6EiOTTil'},\n",
       " {'id_user': 1175646685,\n",
       "  'date': '2022-12-21 13:15:56+00:00',\n",
       "  'tweets': 'EDEM y The Bridge se alían para impartir bootcamps de desarrollo digital y tecnológico en Valencia https://t.co/IxzYpCc0Y6 \\n@EDEMempresarios\\n@marina_empresas\\n@TheBridge_Tech\\n#BootcampsDeDesarrolloDigitalyTecnológico'},\n",
       " {'id_user': 402013017,\n",
       "  'date': '2022-12-21 12:30:01+00:00',\n",
       "  'tweets': '💻 @EDEMempresarios y @TheBridge_Tech se alían para impartir bootcamps de desarrollo digital y tecnológico en València.\\nhttps://t.co/M4vuwgM1qO'},\n",
       " {'id_user': 570795448,\n",
       "  'date': '2022-12-21 10:12:46+00:00',\n",
       "  'tweets': '#EDEMpoweredbyTheBridge la revolución formativa en tecnología.🤯 \\n\\n@TheBridge_Tech y #EDEM nos unimos para formar en profesiones que cambiarán vidas.\\n\\xa0\\nEspecialízate en 4 #bootcamps intensivos sobre tecnología. 👩\\u200d💻\\n\\xa0\\nEste es el inicio del cambio. 👉 https://t.co/uobTtpxxaO https://t.co/AwJJ0mSHhY'},\n",
       " {'id_user': 1407291884901482496,\n",
       "  'date': '2022-12-16 10:45:37+00:00',\n",
       "  'tweets': 'No tenemos más que palabras de agradecimiento para nuestro anfitrión, @TheBridge_Tech cuyo Consejero Delegado, Iker Arce @ikerarceseco, intervino en la sesión inaugural del I Congreso de #ciberseguridad para #pymes del pasado 14 de diciembre. https://t.co/jTivSdsFA9'},\n",
       " {'id_user': 1530194743786881024,\n",
       "  'date': '2022-12-13 18:53:22+00:00',\n",
       "  'tweets': '@libertariadora @JavierAMaestre @kilrau @GaboHBeaumont @olya_borderless 🙏🏻 @TheBridge_Tech'},\n",
       " {'id_user': 108885393,\n",
       "  'date': '2022-12-12 08:15:33+00:00',\n",
       "  'tweets': '💡¡Interesante entrevista a nuestro Director de Tecnología Ramon Lozano sobre cómo afrontar los problemas de #talento #Digital en las empresas tecnológicas!\\n\\n🔽https://t.co/7a32ZHgefI\\n\\n#BeZucchetti #innovación #tecnología \\n @BBK_eus @TheBridge_Tech \\n@ZucchettiSpa @ZucchettiWorld'},\n",
       " {'id_user': 49219057,\n",
       "  'date': '2022-12-06 18:40:34+00:00',\n",
       "  'tweets': 'Hoy llegó mi «Certificado de Graduación» en #fullstackdeveloper con @TheBridge_Tech , promovido por  @FUniversia  y  financiado por @IndraCompany / @minsaitbyindra  ¡Toca celebrar! https://t.co/LhqRBltkgm'},\n",
       " {'id_user': 702077405045899264,\n",
       "  'date': '2022-12-06 10:00:16+00:00',\n",
       "  'tweets': 'En la presentación de los nuevos #BBKBootcamps realizada en colaboración @TheBridge_Tech en la @BAT_Tower, también charlamos con Ramón Lozano de @ZucchettiSpain sobre los principales problemas de #talento #digital que surgen en empresas tecnológicas y cómo afrontarlos. https://t.co/KUQR6CkCWQ'},\n",
       " {'id_user': 146406912,\n",
       "  'date': '2022-12-05 18:21:51+00:00',\n",
       "  'tweets': 'guillerdorron: RT @BBK_eus: Tras la presentación de la nueva edición de #BBKBootcamps realizada en colaboración con @TheBridge_Tech en la torre @BAT_Tower, pudimos charlar con @guillerdorron \\n de @Zabala_IC sobre cómo potenciar el #talento actual y cuále… https://t.co/NEbbBGGc1x'},\n",
       " {'id_user': 702077405045899264,\n",
       "  'date': '2022-12-05 14:00:20+00:00',\n",
       "  'tweets': 'Tras la presentación de la nueva edición de #BBKBootcamps realizada en colaboración con @TheBridge_Tech en la torre @BAT_Tower, pudimos charlar con @guillerdorron \\n de @Zabala_IC sobre cómo potenciar el #talento actual y cuáles son los perfiles tecnológicos más demandados. https://t.co/TIjvj3b4cL'},\n",
       " {'id_user': 1530194743786881024,\n",
       "  'date': '2022-12-03 14:08:46+00:00',\n",
       "  'tweets': 'Agredecemos @TheBridge_Tech por acoger nuestro Meetup una vez mas! 🔥\\n\\nParece que los #Bitcoin ers pueden comportarse después de todo 😁\\n\\nMas sobre @TheBridge_Tech 👉https://t.co/BjzDxBd9to👈'},\n",
       " {'id_user': 108885393,\n",
       "  'date': '2022-12-02 08:40:07+00:00',\n",
       "  'tweets': '💡 Interesante intervención de Ramón Lozano, director de #Tecnologia de Zucchetti Spain, en la mesa redonda sobre la urgencia de cerrar la  brecha digital en Euskadi celebrada ayer.\\n\\nUna iniciativa de @BBK_eus @TheBridge_Tech\\n\\n#BeZucchetti\\n@ZucchettiSpa @ZucchettiWorld'},\n",
       " {'id_user': 702077405045899264,\n",
       "  'date': '2022-12-01 16:54:08+00:00',\n",
       "  'tweets': 'Especial agradecimiento a @sarasola_nora, Directora de Obra Social; @ikerarceseco, CEO de @TheBridge_Tech; @OAldayturriaga, Responsable de Educación, Talento y Emprendimiento; Tomas Iriondo, Director de @ClusterGaia; @guillerdorron de @Zabala_IC; y Ramon Lozano de @ZucchettiSpain'},\n",
       " {'id_user': 702077405045899264,\n",
       "  'date': '2022-12-01 16:01:03+00:00',\n",
       "  'tweets': '🔙 Atzo oso jardunaldi interesgarria izan genuen @BAT_Tower -ean @TheBridge_Tech  -rekin elkarlanean egindako BBK Bootcamp-en edizio berria aurkezteko ekitaldian. Mila esker aurkezpenera etorri zineten guztioi 🤗 \\n\\nℹ️➕  https://t.co/oq37igkvIS https://t.co/ahuKUJ1IKY'},\n",
       " {'id_user': 702077405045899264,\n",
       "  'date': '2022-12-01 15:58:32+00:00',\n",
       "  'tweets': '🔙 Ayer vivimos una jornada muy interesante en el evento de presentación de la nueva edición de #BBKBootcamps realizada en colaboración con @TheBridge_Tech en la @BAT_Tower. Muchas gracias a todas las personas que acudisteis a la presentación 🤗\\n\\n➕ℹ️  https://t.co/4tyJZlGVPW https://t.co/39Y275Hr5Y'},\n",
       " {'id_user': 2529499620,\n",
       "  'date': '2022-12-01 13:17:27+00:00',\n",
       "  'tweets': '¿Quieres conocer todo sobre el #bootcamp de #DesarrolloWebFullStack de @TheBridge_Tech  y la @FundacionUc3  ?\\n\\nNo te pierdas la sesión informativa❗❗\\n\\n📅14 diciembre\\n⏰17h.\\n📍 Campus Madrid-Puerta de Toledo.\\n💻 online.\\n\\n🎫Entrada #gratuita ➡ https://t.co/QiIRpb9108 https://t.co/rQ2WzDJMch'},\n",
       " {'id_user': 2402179123,\n",
       "  'date': '2022-12-01 12:45:37+00:00',\n",
       "  'tweets': 'Esta tarde a las 18:30 tenemos la presentación de los #bbkbootcamps by @TheBridge_Tech en @BBK_Kuna \\n\\n➡️ ¡Pásate a conocernos! https://t.co/WlRFgaEZpv https://t.co/8M94pExTRH'},\n",
       " {'id_user': 146406912,\n",
       "  'date': '2022-11-30 15:55:35+00:00',\n",
       "  'tweets': 'guillerdorron: RT @BBK_eus: 🤔 Zer dira BBK eta @TheBridge_Tech -en #BBKBootcamps -ak? Bootcamp metodologia ikastaroak dira Full Stack Web Garapenerako, Datuen Zientziarako, Zibersegurtasunerako eta UX/UI produktuen diseinurako.\\n\\nNora Sarasolak hobeto… https://t.co/UwIfXAaHZp'},\n",
       " {'id_user': 146406912,\n",
       "  'date': '2022-11-30 15:55:34+00:00',\n",
       "  'tweets': 'guillerdorron: RT @BBK_eus: Finaliza la jornada de presentación de la nueva edición de  #BBKBootcamps 👏 Eskerrik asko gurera gerturatu zareten guztioi! \\n\\nConstruye tu carrera en el sector digital ⏩ https://t.co/8W7BQJ1sfv\\n\\nBBK 🤝 @TheBridge_Tech https://t.co/60teLII3Im'},\n",
       " {'id_user': 146406912,\n",
       "  'date': '2022-11-30 15:55:34+00:00',\n",
       "  'tweets': 'guillerdorron: RT @BBK_eus: #BBKBootcamps | 🗣 Guillermo Dorronso, Management Advisory Board @Zabala_IC ⤵️\\n\\nBBK 🤝 @TheBridge_Tech https://t.co/3YeDuZwTna'},\n",
       " {'id_user': 1951117790,\n",
       "  'date': '2022-11-30 12:39:00+00:00',\n",
       "  'tweets': 'Open Day #Bilbao para conocer un #bootcam\\n🗓️ 1/12/2022\\n⏰ 18:30\\n📍 @BBK_Kuna \\n🗣️@jorgegrev\\nby @TheBridge_Tech \\nhttps://t.co/o2xcLzD8VM\\nen @BBKnetwork \\n🏷️#BBKBootcamps #Bizkaia #FullStack #Data #UX #Ciberseguridad'},\n",
       " {'id_user': 702077405045899264,\n",
       "  'date': '2022-11-30 09:45:27+00:00',\n",
       "  'tweets': '#BBKBootcamps | 🗣 Guillermo Dorronso, Management Advisory Board @Zabala_IC ⤵️\\n\\nBBK 🤝 @TheBridge_Tech https://t.co/aBluTid7LN'},\n",
       " {'id_user': 702077405045899264,\n",
       "  'date': '2022-11-30 09:45:04+00:00',\n",
       "  'tweets': 'Finaliza la jornada de presentación de la nueva edición de  #BBKBootcamps 👏 Eskerrik asko gurera gerturatu zareten guztioi! \\n\\nConstruye tu carrera en el sector digital ⏩ https://t.co/pqjWocmmpo\\n\\nBBK 🤝 @TheBridge_Tech https://t.co/D9FHwW771N'},\n",
       " {'id_user': 702077405045899264,\n",
       "  'date': '2022-11-30 09:43:54+00:00',\n",
       "  'tweets': '#BBKBootcamps | 🗣 Ramón Lozano, director de tecnología @ZucchettiSpain ⤵️ \\n\\nBBK 🤝 @TheBridge_Tech https://t.co/hIF239eTzi'},\n",
       " {'id_user': 702077405045899264,\n",
       "  'date': '2022-11-30 09:33:32+00:00',\n",
       "  'tweets': '🗣 Tomás Iriondo, @ClusterGaia -ko CEO: \"#ETEari lagundu behar diogu, eta, horretarako, #talentua sortu behar dugu. Horrelako ekimenak, hala nola #BBKBootcamp -ak, idealak dira.\". \\n\\nBBK 🤝 @TheBridge_Tech https://t.co/AEJsNDQvHb'},\n",
       " {'id_user': 702077405045899264,\n",
       "  'date': '2022-11-30 09:32:30+00:00',\n",
       "  'tweets': '🗣 Tomás Iriondo, CEO de @ClusterGaia: \"Tenemos que ayudar a la #pyme y para eso necesitamos crear #talento y en ese sentido este tipo de iniciativas como #BBKBootcamps, son ideales\". \\n\\nBBK 🤝 @TheBridge_Tech https://t.co/CVrNCgJ1E5'},\n",
       " {'id_user': 702077405045899264,\n",
       "  'date': '2022-11-30 09:09:45+00:00',\n",
       "  'tweets': '🤔 Zer dira BBK eta @TheBridge_Tech -en #BBKBootcamps -ak? Bootcamp metodologia ikastaroak dira Full Stack Web Garapenerako, Datuen Zientziarako, Zibersegurtasunerako eta UX/UI produktuen diseinurako.\\n\\nNora Sarasolak hobeto kontatzen digu hemen ⤵️ https://t.co/kqrKydUWTK'},\n",
       " {'id_user': 702077405045899264,\n",
       "  'date': '2022-11-30 09:06:45+00:00',\n",
       "  'tweets': '🤔 ¿Qué son los #BBKBootcamps de BBK y @TheBridge_Tech? Son cursos de metodología Bootcamp de Desarrollo Web Full Stack, #DataScience, #Ciberseguridad y Diseño de Producto UX/UI. \\n\\nNora Sarasola nos los cuenta ⤵️ https://t.co/B9HflSDraZ'},\n",
       " {'id_user': 702077405045899264,\n",
       "  'date': '2022-11-30 08:53:19+00:00',\n",
       "  'tweets': '🗣 Iker Arcerekin, @TheBridge_Tech -eko CEO-a, jarraitzen dugu. Oraingoan munduko gap skill-en eta postu digitalen testuinguru globalena aurkeztuko digu; Europan eta Espainian batik bat. \\n\\n#BBKBootcamps @BAT_Tower https://t.co/jx7YIVKG4G'},\n",
       " {'id_user': 702077405045899264,\n",
       "  'date': '2022-11-30 08:51:00+00:00',\n",
       "  'tweets': '🗣 Continuamos con Iker Arce, CEO de @TheBridge_Tech nos presenta el contexto más global del gap de skills y puestos digitales con datos en el mundo, #Europa y en el marco comparado #España.\\n\\n#BBKBootcamps @BAT_Tower https://t.co/jM82e3AHyb'},\n",
       " {'id_user': 702077405045899264,\n",
       "  'date': '2022-11-30 08:43:35+00:00',\n",
       "  'tweets': '🗣 Nora Sarasolak, BBK-ko Gizarte Ekintzako zuzendariak, hasiera eman dio jardunaldiari #Euskadi -ra talentuaren erronka ekarriz 4.0 industriarentzat, gizarteratze digitalarentzat...\\n\\nBBK 🤝 @TheBridge_Tech #BBKBootcamps https://t.co/6zqDJ61Dow'},\n",
       " {'id_user': 702077405045899264,\n",
       "  'date': '2022-11-30 08:41:37+00:00',\n",
       "  'tweets': '🗣 Nora Sarasola, Directora de Obra Social de BBK da comienzo a la jornada de presentación de #BBKBootcamps trayendo a #Euskadi el reto del talento para la industria 4.0, inclusión social y digital...\\n\\nBBK 🤝 @TheBridge_Tech https://t.co/84oRaLvEMq'},\n",
       " {'id_user': 702077405045899264,\n",
       "  'date': '2022-11-30 08:25:38+00:00',\n",
       "  'tweets': '☕️🥐 Jardunaldia enpresentzako gosariarekin hasi da @BAT_Tower -ean. \\n\\nEraiki zure karrera sektore digitalean #BBKBootcamps -en edizio berri honekin.  \\n\\nBBK 🤝 @TheBridge_Tech https://t.co/VILvbVXDUl'},\n",
       " {'id_user': 702077405045899264,\n",
       "  'date': '2022-11-30 08:21:21+00:00',\n",
       "  'tweets': '☕️🥐 Comienza la jornada con un desayuno de empresas. \\n\\nConstruye tu carrera en el sector digital con esta nueva edición de #BBKBootcamps. \\n\\nBBK 🤝 @TheBridge_Tech https://t.co/ORyNrF3uKI'},\n",
       " {'id_user': 702077405045899264,\n",
       "  'date': '2022-11-30 08:13:41+00:00',\n",
       "  'tweets': '🔛 Aurkezpen eguna, @TheBridge_Tech eta #BBK -k indarrak batu ditugu #BBKBootcamps -en edizio berri honetan. \\n\\n💻 Ikasi gaur etorkizuneko lanbideak. https://t.co/jcQ2HM5g7Z'},\n",
       " {'id_user': 702077405045899264,\n",
       "  'date': '2022-11-30 08:10:23+00:00',\n",
       "  'tweets': '🔛\\xa0Día de presentación, @TheBridge_Tech y #BBK unimos fuerzas para presentaros la nueva edición de #BBKBootcamps. \\n\\n💻 Aprende hoy las profesiones del futuro. https://t.co/nYo8bnc77A'},\n",
       " {'id_user': 378449449,\n",
       "  'date': '2022-11-29 16:21:33+00:00',\n",
       "  'tweets': 'Este Jueves 1 de diciembre a las 18:30 en @BBK_Kuna #Bilbao se presentan los BBK #Bootcamps by @TheBridge_Tech con especialidades en #FullStack #CiberSeguridad #DataAnalyst y #Ciberseguridad Inscríbete al evento y networking 🍻https://t.co/hLDF8paV6R'},\n",
       " {'id_user': 2402179123,\n",
       "  'date': '2022-11-29 16:18:50+00:00',\n",
       "  'tweets': 'Este Jueves 1 de diciembre a las 18:30 en @BBK_Kuna #Bilbao se presentan los BBK #Bootcamps by @TheBridge_Tech con especialidades en #FullStack #CiberSeguridad #DataAnalyst y #Ciberseguridad Inscíbete al evento y networking 🍻 https://t.co/o4y0MLPSsx'},\n",
       " {'id_user': 2402179123,\n",
       "  'date': '2022-11-29 07:18:02+00:00',\n",
       "  'tweets': '☕ Miércoles 30 NOV 9:00 @BAT_Tower Desayuno: La urgencia de cerrar la brecha de #talento digital en #Euskadi.\\n➡ https://t.co/I5GS4SlhTR\\n\\n🍻 Jueves 1 DIC 18:30 @BBK_Kuna: Open Day BBK #Bootcamps by @TheBridge_Tech\\n➡ https://t.co/zfkRFWmYmm\\n\\nNos allí!'},\n",
       " {'id_user': 1407291884901482496,\n",
       "  'date': '2022-11-28 08:12:55+00:00',\n",
       "  'tweets': '@Cyber_Madrid  organiza el I Congreso de #Ciberseguridad para #pymes\\n📅 14 de diciembre 2022\\n🙍 modalidad presencial\\n🏢 Palacio López-Dóriga, Pº de Recoletos, 15, Madrid (Sede de @TheBridge_Tech)\\n🕤09.00h a 14.30h.\\nInscríbete ya! Aforo limitado\\n👇👇👇\\nhttps://t.co/kH1Nf3p6jU https://t.co/qil8He6ZVV'},\n",
       " {'id_user': 823470817963032576,\n",
       "  'date': '2022-11-24 12:15:15+00:00',\n",
       "  'tweets': '🔵Acelera tu carrera digital con #BBKBootcamps.\\n\\nGracias a la colaboración entre @BBK_eus y @TheBridge_Tech podrás formarte con los mejores profesionales para lograr un trabajo con proyección.\\n\\n🔗Elige tu curso https://t.co/RxICpzj9N6\\n\\n#ux #developers #ciberseguridad #datascience'},\n",
       " {'id_user': 783248945761910788,\n",
       "  'date': '2022-11-22 08:18:42+00:00',\n",
       "  'tweets': 'Acelerando juntos el #talentodigital en España. El próximo 24 de noviembre, nuestro #CEO Juan Zamora presentará Hopla! en las instalaciones de .@TheBridge_Tech a las 17:30h. Contaremos quiénes somos, qué hacemos y cómo desarrollar una #carrerarofesional fructífera con nosotros. https://t.co/Sw9EUswIQ2'},\n",
       " {'id_user': 702077405045899264,\n",
       "  'date': '2022-11-22 08:05:10+00:00',\n",
       "  'tweets': 'Ikasi gaur etorkizuneko lanbideak, izena eman #BBKBootcamp -ean ⏩ https://t.co/xvm6ekbcMQ\\n\\n@TheBridge_Tech -ekin batera,  Full Stack Web Garapena, Data Science, Zibersegurtasuna eta UX UI produktu digitalaren diseinuari buruz ikasteko aukera izango duzu. https://t.co/oxEOX35Osa'},\n",
       " {'id_user': 702077405045899264,\n",
       "  'date': '2022-11-22 08:01:31+00:00',\n",
       "  'tweets': 'Aprende hoy las profesiones del futuro, ¡inscríbete en el #BBKBootcamp ⏩ https://t.co/uJcCKObkPz\\n\\nJunto con @TheBridge_Tech podrás aprender sobre Desarrollo Web Full Stack, Data Science, Ciberseguridad y Diseño de producto digital UX UI. https://t.co/wdbmRphsAx'}]"
      ]
     },
     "execution_count": 20,
     "metadata": {},
     "output_type": "execute_result"
    }
   ],
   "source": [
    "sql = '''SELECT * FROM tweets'''\n",
    "cursor.execute(sql)\n",
    "mi_tabla = cursor.fetchall()\n",
    "mi_tabla"
   ]
  },
  {
   "cell_type": "code",
   "execution_count": 54,
   "metadata": {},
   "outputs": [
    {
     "data": {
      "text/plain": [
       "[{'month': 3, 'year': 2023, 'tweet_count': 27, 'username': 'ESOLIUPO'},\n",
       " {'month': 1, 'year': 2023, 'tweet_count': 189, 'username': 'nodosenlared'},\n",
       " {'month': 2, 'year': 2023, 'tweet_count': 46, 'username': 'PauMugarra'},\n",
       " {'month': 12,\n",
       "  'year': 2022,\n",
       "  'tweet_count': 160,\n",
       "  'username': 'BitcoinTuesday_'},\n",
       " {'month': 11, 'year': 2022, 'tweet_count': 414, 'username': 'jorgegrev'}]"
      ]
     },
     "execution_count": 54,
     "metadata": {},
     "output_type": "execute_result"
    }
   ],
   "source": [
    "# Now, we want to select all values with splitted month and year, count the number of tweets and join with the other table and user that post more than 5 times\n",
    "sql = '''SELECT \n",
    "    extract(month from date) as month, \n",
    "    extract(year from date) as year,\n",
    "    COUNT(u.username) as tweet_count,\n",
    "    username\n",
    "    FROM tweets as t\n",
    "    INNER JOIN usuarios as u on t.id_user = u.id_user\n",
    "    GROUP BY month\n",
    "    HAVING tweet_count > 5'''\n",
    "cursor.execute(sql)\n",
    "mi_tabla = cursor.fetchall()\n",
    "mi_tabla"
   ]
  },
  {
   "cell_type": "code",
   "execution_count": 55,
   "metadata": {},
   "outputs": [
    {
     "data": {
      "text/html": [
       "<div>\n",
       "<style scoped>\n",
       "    .dataframe tbody tr th:only-of-type {\n",
       "        vertical-align: middle;\n",
       "    }\n",
       "\n",
       "    .dataframe tbody tr th {\n",
       "        vertical-align: top;\n",
       "    }\n",
       "\n",
       "    .dataframe thead th {\n",
       "        text-align: right;\n",
       "    }\n",
       "</style>\n",
       "<table border=\"1\" class=\"dataframe\">\n",
       "  <thead>\n",
       "    <tr style=\"text-align: right;\">\n",
       "      <th></th>\n",
       "      <th>month</th>\n",
       "      <th>year</th>\n",
       "      <th>tweet_count</th>\n",
       "      <th>username</th>\n",
       "    </tr>\n",
       "  </thead>\n",
       "  <tbody>\n",
       "    <tr>\n",
       "      <th>0</th>\n",
       "      <td>3</td>\n",
       "      <td>2023</td>\n",
       "      <td>27</td>\n",
       "      <td>ESOLIUPO</td>\n",
       "    </tr>\n",
       "    <tr>\n",
       "      <th>1</th>\n",
       "      <td>1</td>\n",
       "      <td>2023</td>\n",
       "      <td>189</td>\n",
       "      <td>nodosenlared</td>\n",
       "    </tr>\n",
       "    <tr>\n",
       "      <th>2</th>\n",
       "      <td>2</td>\n",
       "      <td>2023</td>\n",
       "      <td>46</td>\n",
       "      <td>PauMugarra</td>\n",
       "    </tr>\n",
       "    <tr>\n",
       "      <th>3</th>\n",
       "      <td>12</td>\n",
       "      <td>2022</td>\n",
       "      <td>160</td>\n",
       "      <td>BitcoinTuesday_</td>\n",
       "    </tr>\n",
       "    <tr>\n",
       "      <th>4</th>\n",
       "      <td>11</td>\n",
       "      <td>2022</td>\n",
       "      <td>414</td>\n",
       "      <td>jorgegrev</td>\n",
       "    </tr>\n",
       "  </tbody>\n",
       "</table>\n",
       "</div>"
      ],
      "text/plain": [
       "   month  year  tweet_count         username\n",
       "0      3  2023           27         ESOLIUPO\n",
       "1      1  2023          189     nodosenlared\n",
       "2      2  2023           46       PauMugarra\n",
       "3     12  2022          160  BitcoinTuesday_\n",
       "4     11  2022          414        jorgegrev"
      ]
     },
     "execution_count": 55,
     "metadata": {},
     "output_type": "execute_result"
    }
   ],
   "source": [
    "pd.DataFrame(mi_tabla)"
   ]
  },
  {
   "cell_type": "code",
   "execution_count": 7,
   "metadata": {},
   "outputs": [
    {
     "data": {
      "text/plain": [
       "2"
      ]
     },
     "execution_count": 7,
     "metadata": {},
     "output_type": "execute_result"
    }
   ],
   "source": [
    "# Delete BBDD\n",
    "#drop_db = '''DROP DATABASE Twitter'''\n",
    "#cursor.execute(drop_db)"
   ]
  },
  {
   "attachments": {},
   "cell_type": "markdown",
   "metadata": {},
   "source": [
    "* Create a BBDD in SQLite"
   ]
  },
  {
   "cell_type": "code",
   "execution_count": 28,
   "metadata": {},
   "outputs": [],
   "source": [
    "connection = sqlite3.connect(\"Twitter.db\")\n",
    "crsr = connection.cursor()"
   ]
  },
  {
   "cell_type": "code",
   "execution_count": 29,
   "metadata": {},
   "outputs": [
    {
     "data": {
      "text/plain": [
       "<sqlite3.Cursor at 0x14e4c63c0>"
      ]
     },
     "execution_count": 29,
     "metadata": {},
     "output_type": "execute_result"
    }
   ],
   "source": [
    "query_tweets = '''\n",
    "CREATE TABLE tweets (\n",
    "    id_user INT,\n",
    "    date DATETIME,\n",
    "    tweets TEXT,\n",
    "    primary key (id_user)\n",
    ")\n",
    "'''\n",
    "crsr.execute(query_tweets)"
   ]
  },
  {
   "cell_type": "code",
   "execution_count": 30,
   "metadata": {},
   "outputs": [
    {
     "data": {
      "text/plain": [
       "<sqlite3.Cursor at 0x14e4c63c0>"
      ]
     },
     "execution_count": 30,
     "metadata": {},
     "output_type": "execute_result"
    }
   ],
   "source": [
    "query_usuarios = '''\n",
    "CREATE TABLE usuarios (\n",
    "    id_user INT,\n",
    "    username TEXT,\n",
    "    primary key (id_user)\n",
    ")\n",
    "'''\n",
    "crsr.execute(query_usuarios)"
   ]
  },
  {
   "cell_type": "code",
   "execution_count": 31,
   "metadata": {},
   "outputs": [],
   "source": [
    "engine_sqlite = create_engine('sqlite:///Twitter.db')"
   ]
  },
  {
   "cell_type": "code",
   "execution_count": 32,
   "metadata": {},
   "outputs": [
    {
     "data": {
      "text/plain": [
       "128"
      ]
     },
     "execution_count": 32,
     "metadata": {},
     "output_type": "execute_result"
    }
   ],
   "source": [
    "tweets.to_sql(name='tweets', con=engine_sqlite, if_exists= 'replace', index=False)"
   ]
  },
  {
   "cell_type": "code",
   "execution_count": 33,
   "metadata": {},
   "outputs": [
    {
     "data": {
      "text/plain": [
       "128"
      ]
     },
     "execution_count": 33,
     "metadata": {},
     "output_type": "execute_result"
    }
   ],
   "source": [
    "usuarios.to_sql(name='usuarios', con=engine_sqlite, if_exists= 'replace', index=False)"
   ]
  },
  {
   "cell_type": "code",
   "execution_count": 34,
   "metadata": {},
   "outputs": [],
   "source": [
    "connection.commit()"
   ]
  },
  {
   "cell_type": "code",
   "execution_count": 35,
   "metadata": {},
   "outputs": [],
   "source": [
    "connection.close()"
   ]
  }
 ],
 "metadata": {
  "kernelspec": {
   "display_name": "toolkit",
   "language": "python",
   "name": "python3"
  },
  "language_info": {
   "codemirror_mode": {
    "name": "ipython",
    "version": 3
   },
   "file_extension": ".py",
   "mimetype": "text/x-python",
   "name": "python",
   "nbconvert_exporter": "python",
   "pygments_lexer": "ipython3",
   "version": "3.10.9"
  },
  "orig_nbformat": 4
 },
 "nbformat": 4,
 "nbformat_minor": 2
}
